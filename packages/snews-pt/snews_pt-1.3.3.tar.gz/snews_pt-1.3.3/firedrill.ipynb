{
 "cells": [
  {
   "cell_type": "markdown",
   "metadata": {
    "pycharm": {
     "name": "#%% md\n"
    }
   },
   "source": [
    "# SNEWS Firedrill Notebook\n",
    "\n",
    "Last Updated: 25/04/2023\n",
    "\n",
    "\n",
    "## Installing Stuff\n",
    "\n",
    "- [**SNEWS_PT Repo**](https://github.com/SNEWS2/SNEWS_Publishing_Tools) <br>\n",
    "- [**hop repo**](https://github.com/scimma/hop-client) <br>\n",
    "- [**hop auth**](https://my.hop.scimma.org/hopauth/)\n",
    "\n",
    "\n",
    "Start by making sure your hop credentials are updated for firedrills:\n",
    "\n",
    "snews.alert-firedrill\n",
    "snews.experiments-firedrill\n",
    "snews.mma-firedrill\n",
    "\n",
    "- Make sure you are using the latest `snews_pt` version (as of April 2023, 1.3.2, with hop 0.8.0)\n",
    "\n",
    "```pip install -U snews-pt``` <br>\n",
    "You can check your snews_pt (hop) version with `snews_pt --version` (`hop --version`)"
   ]
  },
  {
   "cell_type": "markdown",
   "metadata": {},
   "source": [
    "# What is in this firedrill tutorial"
   ]
  },
  {
   "cell_type": "markdown",
   "metadata": {},
   "source": [
    "This notebook has the following;<br>\n",
    "- Subscribe methods for alerts, interactive notebooks and command line\n",
    "- Publish observation messages, interactive notebooks and command line, different features\n",
    "- Publish Heartbeat messages\n",
    "- Test connection and Request feedback\n",
    "- FIRE DRILL\n"
   ]
  },
  {
   "cell_type": "markdown",
   "metadata": {
    "pycharm": {
     "name": "#%% md\n"
    }
   },
   "source": [
    "## Using the API"
   ]
  },
  {
   "cell_type": "code",
   "execution_count": 30,
   "metadata": {},
   "outputs": [],
   "source": [
    "from snews_pt.snews_pt_utils import set_name                       # to set experiment name\n",
    "from snews_pt.snews_pub import SNEWSTiersPublisher                 # to publish observations & heartbeats\n",
    "from snews_pt.snews_sub import Subscriber                          # to listen alerts\n",
    "from snews_pt.remote_commands import test_connection, get_feedback # to test connection and get feedback\n",
    "from datetime import  datetime\n",
    "from time import sleep"
   ]
  },
  {
   "cell_type": "markdown",
   "metadata": {},
   "source": [
    "The experiment can set their detector name. Once this is set, the software no longer raises warnings. "
   ]
  },
  {
   "cell_type": "code",
   "execution_count": 31,
   "metadata": {},
   "outputs": [
    {
     "name": "stdout",
     "output_type": "stream",
     "text": [
      "You are XENONnT\u001b[0m\n"
     ]
    }
   ],
   "source": [
    "set_name()"
   ]
  },
  {
   "cell_type": "markdown",
   "metadata": {},
   "source": [
    "You can subscribe for the alerts in a jupyter notebook, however, since this opens a stream and continuosly listen, you can not use the other cells without killing it. Therefore, we recommend to subscribe using a bash terminal via the following command\n",
    "```bash\n",
    "user:~$ snews_pt subscribe\n",
    "```"
   ]
  },
  {
   "cell_type": "code",
   "execution_count": 4,
   "metadata": {},
   "outputs": [
    {
     "name": "stdout",
     "output_type": "stream",
     "text": [
      "You are subscribing to \u001b[41m\u001b[1mALERT\u001b[0m\n",
      "Broker:\u001b[42mkafka://kafka.scimma.org/snews.alert-firedrill\u001b[0m\n",
      "\u001b[32mDone\u001b[0m\n"
     ]
    }
   ],
   "source": [
    "# this runs persistently\n",
    "Subscriber(firedrill_mode=True).subscribe(outputfolder='./')"
   ]
  },
  {
   "cell_type": "markdown",
   "metadata": {},
   "source": [
    "## Create and Publish Observation messages"
   ]
  },
  {
   "cell_type": "code",
   "execution_count": 32,
   "metadata": {},
   "outputs": [
    {
     "name": "stdout",
     "output_type": "stream",
     "text": [
      "Message Generated for CoincidenceTier\n"
     ]
    }
   ],
   "source": [
    "observation_time = \"2023-06-14T12:45:45.100000\"\n",
    "msg = SNEWSTiersPublisher(neutrino_time=observation_time, is_test=True, firedrill_mode=True)"
   ]
  },
  {
   "cell_type": "markdown",
   "metadata": {},
   "source": [
    "What if there is an error in your message?"
   ]
  },
  {
   "cell_type": "code",
   "execution_count": 33,
   "metadata": {},
   "outputs": [
    {
     "name": "stdout",
     "output_type": "stream",
     "text": [
      "Message Generated for CoincidenceTier\n",
      "\u001b[91m----------------------------------------------------------------\u001b[0m\n",
      "Skipping message! Improper format! see <self.invalid_messages>\u001b[0m\n"
     ]
    },
    {
     "name": "stderr",
     "output_type": "stream",
     "text": [
      "/mnt/c/Users/bj7780/Desktop/Kara/GitHub/SNEWS/SNEWS_Publishing_Tools/snews_pt/snews_format_checker.py:48: UserWarning: \n",
      "\n",
      " Following check failed: \u001b[31mneutrino_time not valid\u001b[0m \n",
      "See the full logs \u001b[34m/mnt/c/Users/bj7780/Desktop/Kara/GitHub/SNEWS/SNEWS_Publishing_Tools/snews_pt/core/../../logs/2023-05-08.log\u001b[0m\n",
      "  warnings.warn(f\"\\n\\n Following check failed: {click.style(ae, fg='red')} \"\n"
     ]
    }
   ],
   "source": [
    "observation_time2 = \"2023-06-9999999:45:100000\"\n",
    "msg2 = SNEWSTiersPublisher(neutrino_time=observation_time2, is_test=True, firedrill_mode=True)"
   ]
  },
  {
   "cell_type": "markdown",
   "metadata": {},
   "source": [
    "#### SNEWSTierPublisher\n",
    "The `SNEWSTierPublisher` creates a message for you from your given keys and decides what to do with this message.\n",
    "\n",
    "The `neutrino_time` is the most important argument. The Publisher decides that this message is intended for the `CoincidenceTier` based on this input. <br>\n",
    "\n",
    "Try calling the function with no argument -> `SNEWSTiersPublisher()` <br>\n",
    "This returns `\"No valid message is created! Check your input and try again!\"` <br>\n",
    "\n",
    "Another example would be the heartbeat messages <br>\n",
    "If you call it with a detector status i.e. `SNEWSTiersPublisher(detector_status='ON')` this should create a message for the heartbeats. What happens if you pass both neutrino times and detector status? Try it out!\n",
    "\n",
    "----\n",
    "\n",
    "Few more tips;<br>\n",
    "if you pass `neutrino_time` the Publisher labels it as **\"Coincidence Tier\"** <br>\n",
    "if you pass `p_values` and `t_bin_width` it is labeled as **\"Significance Tier Message\"** <br>\n",
    "if you pass `timing_series` it is labeled as **\"Time Tier\"**<br>\n",
    "if you pass `retract_latest` (e.g. retract_latest=1 retracts the last 1 message) it labels as **\"Retraction Message\"**<br>\n",
    "if you pass `detector_status` it labels as **\"Heartbeat Message\"** (Notice HB doesn't require time as it stamps itself)\n",
    "\n",
    "---\n",
    "\n",
    "The `is_test` argument is needed so that coincidence algorithm knows we are testing and ignores even if the times that are passed illogical (e.g. from past or from far future). If this is not passed, Publisher will tell you that this message is not valid."
   ]
  },
  {
   "cell_type": "code",
   "execution_count": 7,
   "metadata": {},
   "outputs": [],
   "source": [
    "## Here try and play with different arguments\n",
    "# SNEWSTiersPublisher()"
   ]
  },
  {
   "cell_type": "markdown",
   "metadata": {},
   "source": [
    "Notice that you only **create** the message and not send it anywhere yet! <br>\n",
    "Once created, you can still display and modify the messages. See the example below."
   ]
  },
  {
   "cell_type": "code",
   "execution_count": 34,
   "metadata": {},
   "outputs": [
    {
     "name": "stdout",
     "output_type": "stream",
     "text": [
      "Message Generated for CoincidenceTier\n",
      "Message Generated for Heartbeat\n"
     ]
    }
   ],
   "source": [
    "msg = SNEWSTiersPublisher(neutrino_time=observation_time, is_test=True, firedrill_mode=True, detector_status='ON')"
   ]
  },
  {
   "cell_type": "code",
   "execution_count": 12,
   "metadata": {},
   "outputs": [
    {
     "name": "stdout",
     "output_type": "stream",
     "text": [
      "dict_keys(['CoincidenceTier', 'Heartbeat'])\n"
     ]
    },
    {
     "data": {
      "text/plain": [
       "{'detector_name': 'XENONnT',\n",
       " 'machine_time': None,\n",
       " 'neutrino_time': '2023-06-14T12:45:45.100000',\n",
       " 'p_val': None,\n",
       " 'p_values': None,\n",
       " 't_bin_width': None,\n",
       " 'timing_series': None,\n",
       " 'retract_latest': None,\n",
       " 'retraction_reason': None,\n",
       " 'detector_status': 'ON',\n",
       " 'is_pre_sn': False,\n",
       " 'is_test': True}"
      ]
     },
     "execution_count": 12,
     "metadata": {},
     "output_type": "execute_result"
    }
   ],
   "source": [
    "# see the selected tiers\n",
    "print(msg.tiernames)\n",
    "# see the message data\n",
    "msg.message_data"
   ]
  },
  {
   "cell_type": "code",
   "execution_count": 35,
   "metadata": {},
   "outputs": [
    {
     "data": {
      "text/plain": [
       "{'_id': '19_CoincidenceTier_2023-05-08T14:19:52.765325',\n",
       " 'detector_name': 'XENONnT',\n",
       " 'machine_time': '2023-05-08T14:19:52.765325',\n",
       " 'neutrino_time': '2023-06-14T12:45:45.100000',\n",
       " 'p_val': None,\n",
       " 'meta': {'is_test': True},\n",
       " 'schema_version': '1.3.0',\n",
       " 'sent_time': '2023-05-08T14:19:52.765325'}"
      ]
     },
     "execution_count": 35,
     "metadata": {},
     "output_type": "execute_result"
    }
   ],
   "source": [
    "# the first message that is created\n",
    "msg.messages[0]"
   ]
  },
  {
   "cell_type": "code",
   "execution_count": 11,
   "metadata": {},
   "outputs": [
    {
     "data": {
      "text/plain": [
       "{'_id': '19_Heartbeat_2023-04-25T13:01:34.859207',\n",
       " 'detector_name': 'XENONnT',\n",
       " 'machine_time': '2023-04-25T13:01:34.859207',\n",
       " 'detector_status': 'ON',\n",
       " 'meta': {},\n",
       " 'schema_version': '1.3.0',\n",
       " 'sent_time': '2023-04-25T13:01:34.859207'}"
      ]
     },
     "execution_count": 11,
     "metadata": {},
     "output_type": "execute_result"
    }
   ],
   "source": [
    "# the second message that is created\n",
    "msg.messages[1]"
   ]
  },
  {
   "cell_type": "markdown",
   "metadata": {},
   "source": [
    "One can see that there are some more information added automatically. Now let's **send these messages to snews**"
   ]
  },
  {
   "cell_type": "markdown",
   "metadata": {},
   "source": [
    "Before sending the message, let's test to see if we have a connection to the server."
   ]
  },
  {
   "cell_type": "code",
   "execution_count": 37,
   "metadata": {},
   "outputs": [
    {
     "name": "stdout",
     "output_type": "stream",
     "text": [
      "\n",
      "> Testing your connection.\n",
      "> Sending to kafka://kafka.scimma.org/snews.experiments-test\n",
      "> Expecting from kafka://kafka.scimma.org/snews.connection-testing. \n",
      "> Going to wait 8 seconds before checking for confirmation...\n",
      "\u001b[0m\n",
      "You (\u001b[32m\u001b[1mXENONnT\u001b[0m) have a connection to the server at \u001b[32m\u001b[1m2023-05-08T14:21:03.211734\u001b[0m\n"
     ]
    }
   ],
   "source": [
    "test_connection(firedrill=False)"
   ]
  },
  {
   "cell_type": "markdown",
   "metadata": {},
   "source": [
    "There were no connection! This is because at the moment, server runs the coincidence logic on the non-firedrill broker, and we were trying to test our connection to the firedrill! <br>\n",
    "```bash\n",
    "> Sending to kafka://kafka.scimma.org/snews.experiments-firedrill\n",
    "```\n",
    "Let's check to see if we have a connection to the other broker."
   ]
  },
  {
   "cell_type": "code",
   "execution_count": 7,
   "metadata": {
    "scrolled": true
   },
   "outputs": [
    {
     "name": "stdout",
     "output_type": "stream",
     "text": [
      "\n",
      "> Testing your connection.\n",
      "> Sending to kafka://kafka.scimma.org/snews.experiments-test\n",
      "> Expecting from kafka://kafka.scimma.org/snews.connection-testing. \n",
      "> Going to wait 8 seconds before checking for confirmation...\n",
      "\u001b[0m\n",
      "You (\u001b[32m\u001b[1mXENONnT\u001b[0m) have a connection to the server at \u001b[32m\u001b[1m2023-05-08T13:03:44.880140\u001b[0m\n"
     ]
    }
   ],
   "source": [
    "from snews_pt.remote_commands import test_connection\n",
    "test_connection(firedrill=False)"
   ]
  },
  {
   "cell_type": "code",
   "execution_count": 12,
   "metadata": {},
   "outputs": [
    {
     "name": "stdout",
     "output_type": "stream",
     "text": [
      "\u001b[94m----------------------------------------------------------------\u001b[0m\n",
      "\u001b[91mSending message to CoincidenceTier on kafka://kafka.scimma.org/snews.experiments-firedrill\u001b[0m\n",
      "_id                :19_CoincidenceTier_2023-04-25T13:01:34.859207\n",
      "detector_name      :XENONnT\n",
      "machine_time       :2023-04-25T13:01:34.859207\n",
      "neutrino_time      :2023-06-14T12:45:45.100000\n",
      "p_val              :None\n",
      "meta               :\n",
      "\tis_test            :True\n",
      "schema_version     :1.3.0\n",
      "sent_time          :2023-04-25T13:01:51.769002\n",
      "\u001b[94m----------------------------------------------------------------\u001b[0m\n",
      "\u001b[91mSending message to Heartbeat on kafka://kafka.scimma.org/snews.experiments-firedrill\u001b[0m\n",
      "_id                :19_Heartbeat_2023-04-25T13:01:34.859207\n",
      "detector_name      :XENONnT\n",
      "machine_time       :2023-04-25T13:01:34.859207\n",
      "detector_status    :ON\n",
      "meta               :\n",
      "schema_version     :1.3.0\n",
      "sent_time          :2023-04-25T13:01:51.774349\n"
     ]
    }
   ],
   "source": [
    "msg.send_to_snews()"
   ]
  },
  {
   "cell_type": "markdown",
   "metadata": {},
   "source": [
    "**Another trick** <br>\n",
    "If you think that you have some other information that you think is relevant, you can still pass any other meta data by passing them as key-word arguments."
   ]
  },
  {
   "cell_type": "code",
   "execution_count": 13,
   "metadata": {},
   "outputs": [
    {
     "name": "stdout",
     "output_type": "stream",
     "text": [
      "Message Generated for CoincidenceTier\n"
     ]
    },
    {
     "data": {
      "text/plain": [
       "{'_id': '19_CoincidenceTier_2023-05-08T13:04:23.945431',\n",
       " 'detector_name': 'XENONnT',\n",
       " 'machine_time': '2023-05-08T13:04:23.945431',\n",
       " 'neutrino_time': '2023-06-14T12:45:45.100000',\n",
       " 'p_val': None,\n",
       " 'meta': {'is_test': True, 'comment': 'We were taking calibration data'},\n",
       " 'schema_version': '1.3.0',\n",
       " 'sent_time': '2023-05-08T13:04:23.945431'}"
      ]
     },
     "execution_count": 13,
     "metadata": {},
     "output_type": "execute_result"
    }
   ],
   "source": [
    "msg2 = SNEWSTiersPublisher(neutrino_time=observation_time, is_test=True, comment='We were taking calibration data')\n",
    "msg2.messages[0]"
   ]
  },
  {
   "cell_type": "markdown",
   "metadata": {},
   "source": [
    "### JSON messages and Observation Publication via CLI"
   ]
  },
  {
   "cell_type": "markdown",
   "metadata": {},
   "source": [
    "Similarly, these observation messages can also be sent with the Command Line Interface (CLI). <br>\n",
    "This requires file(s) that are properly constructed and formatted as a json file then these file(s) can be passed from the terminal <br>\n",
    "\n",
    "For this assume we have the `\"observation_file.json\"` which contains\n",
    "```JSON\n",
    "{\n",
    "    \"machine_time\": \n",
    "        \"2023-02-06T10:18:44.948273\",\n",
    "    \"neutrino_time\": \n",
    "        \"2023-02-06T10:18:44.948273\",\n",
    "    \"p_val\":\n",
    "        0.07,\n",
    "    \"something extra\":\n",
    "        \"Our neutrino time is defined as the first event above bg\"\n",
    "}\n",
    "```\n",
    "\n",
    "```bash \n",
    "user:~$ snews_pt observation_file.json\n",
    "```"
   ]
  },
  {
   "cell_type": "code",
   "execution_count": null,
   "metadata": {},
   "outputs": [],
   "source": [
    "# json_message = SNEWSTiersPublisher.from_json(\"observation_file.json\")\n",
    "# json_message.send_to_snews()"
   ]
  },
  {
   "cell_type": "markdown",
   "metadata": {},
   "source": [
    "## Heartbeats"
   ]
  },
  {
   "cell_type": "markdown",
   "metadata": {},
   "source": [
    "SNEWS tracks several time informations with different meanings and purposes; <br>\n",
    "- `neutrino_time` : this is used for searching coincidences and refers to exact time of the first neutrino detection <br>\n",
    "- `machine_time` : this is an optional argument to indicate the time labeled by the machine, ideally for the observation message this would be the same as the neutrino time. Howeever, for the heartbeat messages it should be the time that detector heartbeat was checked. \n",
    "- `sent_time` : this is added by the `SNEWSTierPublisher().send_to_snews()` upon execution. We use this information for latency measurements. <br>\n",
    "\n",
    "On the server side, we also label messages by their `received_time` which allows us (for example for the heartbeats) to calculate the latency between the time detector checks their status, the time they actually send it, and the time we receive it at the server.  "
   ]
  },
  {
   "cell_type": "code",
   "execution_count": 16,
   "metadata": {},
   "outputs": [
    {
     "name": "stdout",
     "output_type": "stream",
     "text": [
      "Message Generated for Heartbeat\n"
     ]
    }
   ],
   "source": [
    "# simply create a message for the heartbeat\n",
    "msg_hb = SNEWSTiersPublisher(detector_status=\"ON\")"
   ]
  },
  {
   "cell_type": "markdown",
   "metadata": {},
   "source": [
    "Initially, the `sent_time` is set to current time i.e. same as `machine_time` however, when the message is sent, it is overwritten with the exact time at the time of execution."
   ]
  },
  {
   "cell_type": "code",
   "execution_count": 17,
   "metadata": {},
   "outputs": [
    {
     "data": {
      "text/plain": [
       "{'_id': '19_Heartbeat_2023-05-08T13:04:34.522037',\n",
       " 'detector_name': 'XENONnT',\n",
       " 'machine_time': '2023-05-08T13:04:34.522037',\n",
       " 'detector_status': 'ON',\n",
       " 'meta': {},\n",
       " 'schema_version': '1.3.0',\n",
       " 'sent_time': '2023-05-08T13:04:34.522037'}"
      ]
     },
     "execution_count": 17,
     "metadata": {},
     "output_type": "execute_result"
    }
   ],
   "source": [
    "msg_hb.messages[0]"
   ]
  },
  {
   "cell_type": "code",
   "execution_count": 18,
   "metadata": {},
   "outputs": [
    {
     "name": "stdout",
     "output_type": "stream",
     "text": [
      "\u001b[94m----------------------------------------------------------------\u001b[0m\n",
      "\u001b[91mSending message to Heartbeat on kafka://kafka.scimma.org/snews.experiments-firedrill\u001b[0m\n",
      "_id                :19_Heartbeat_2023-05-08T13:04:34.522037\n",
      "detector_name      :XENONnT\n",
      "machine_time       :2023-05-08T13:04:34.522037\n",
      "detector_status    :ON\n",
      "meta               :\n",
      "schema_version     :1.3.0\n",
      "sent_time          :2023-05-08T13:04:35.539945\n"
     ]
    }
   ],
   "source": [
    "msg_hb.send_to_snews()"
   ]
  },
  {
   "cell_type": "markdown",
   "metadata": {},
   "source": [
    "### Heartbeat CLI \n",
    "\n",
    "```bash \n",
    "user:~$ snews_pt heartbeat --status ON --time \"2023-02-06T10:40:59.675226\"\n",
    "```\n",
    "where the `--time` refers to `machine_time` and is optional. (By default it is set equal to `sent_time` which is stamped upon execution)."
   ]
  },
  {
   "cell_type": "markdown",
   "metadata": {},
   "source": [
    "## Other features"
   ]
  },
  {
   "cell_type": "markdown",
   "metadata": {},
   "source": [
    "We try to provide some more tools that are convenient for the user such as testing the connection and requesting feedback on their last 24 hour heartbeat status. <br>\n",
    "\n",
    "The `test_connection` function injects a message into the coincidence stream with your detector name and current time, and labels it with `\"status\":\"sending\"`.<br>\n",
    "Server sees that this is a test message and sends the confirmation by duplicating the message and replacing the status field with `\"status\":\"received\"`. It then, sends this back on the connection-test broker, where your script reads and compares the message contents.<br>\n",
    "Once the same message with \"received\" status is found, it confirms the connection."
   ]
  },
  {
   "cell_type": "code",
   "execution_count": null,
   "metadata": {},
   "outputs": [],
   "source": [
    "test_connection()"
   ]
  },
  {
   "cell_type": "markdown",
   "metadata": {},
   "source": [
    "### Request Feedback"
   ]
  },
  {
   "cell_type": "markdown",
   "metadata": {},
   "source": [
    "At the server we keep the heartbeats in several different files. At any given time, the records of the last 24 hours is kept. Every day, the heartbeats of a given day is also stored separately and deleted after 7 days. <br>\n",
    "Authorized users can request feedback on their heartbeats within the last 24hours. This selects the data belonging to your experiment and computes some statistics regarding the status, arrival times and latencies and sends an email to your requested address(es) **only if** those emails are already registered by us under that experiment.   <br>\n",
    "This way, we prevent non-member and non-authorized people from accessing the heartbeat information of another experiment."
   ]
  },
  {
   "cell_type": "code",
   "execution_count": 17,
   "metadata": {},
   "outputs": [
    {
     "name": "stdout",
     "output_type": "stream",
     "text": [
      "Heartbeat Feedback is requested! Expect an email from us!\u001b[0m\n"
     ]
    }
   ],
   "source": [
    "get_feedback(detector_name=\"XENONnT\", email_address=\"kara@kit.edu\", firedrill=False)"
   ]
  },
  {
   "cell_type": "markdown",
   "metadata": {
    "pycharm": {
     "name": "#%% md\n"
    }
   },
   "source": [
    "## Bonus, integrating your custom scripts"
   ]
  },
  {
   "cell_type": "markdown",
   "metadata": {
    "pycharm": {
     "name": "#%% md\n"
    }
   },
   "source": [
    "If you have a follow-up script which uses the alert content and does more calculations, you can plug this script to subscribe function\n",
    "```bash\n",
    "snews_pt subscribe -p mycustomscript.py\n",
    "```\n",
    "\n",
    "> The `mycustomscript.py` should contain \n",
    "> ```python\n",
    "> import sys, json\n",
    "> data = json.load(open(sys.argv[1]))\n",
    "> ``` \n",
    "> then the `data` contains the alert content as a dictionary object."
   ]
  },
  {
   "cell_type": "markdown",
   "metadata": {},
   "source": [
    "---\n",
    "# Fire Drill"
   ]
  },
  {
   "cell_type": "markdown",
   "metadata": {},
   "source": [
    "Now let's run a fire drill together. \n",
    "- 1. Test your connection\n",
    "- 2. Open a separate notebook and start sending heartbeats"
   ]
  },
  {
   "cell_type": "code",
   "execution_count": 39,
   "metadata": {},
   "outputs": [],
   "source": [
    "from snews_pt.remote_commands import test_connection\n",
    "from snews_pt.snews_pub import SNEWSTiersPublisher"
   ]
  },
  {
   "cell_type": "code",
   "execution_count": 40,
   "metadata": {},
   "outputs": [
    {
     "name": "stdout",
     "output_type": "stream",
     "text": [
      "\n",
      "> Testing your connection.\n",
      "> Sending to kafka://kafka.scimma.org/snews.experiments-test\n",
      "> Expecting from kafka://kafka.scimma.org/snews.connection-testing. \n",
      "> Going to wait 8 seconds before checking for confirmation...\n",
      "\u001b[0m\n",
      "You (\u001b[32m\u001b[1mXENONnT\u001b[0m) have a connection to the server at \u001b[32m\u001b[1m2023-05-08T14:44:29.036743\u001b[0m\n"
     ]
    }
   ],
   "source": [
    "test_connection(firedrill=False)"
   ]
  },
  {
   "cell_type": "code",
   "execution_count": 18,
   "metadata": {
    "collapsed": true
   },
   "outputs": [
    {
     "name": "stdout",
     "output_type": "stream",
     "text": [
      "Message Generated for Heartbeat\n",
      "\u001b[94m----------------------------------------------------------------\u001b[0m\n",
      "\u001b[91mSending message to Heartbeat on kafka://kafka.scimma.org/snews.experiments-firedrill\u001b[0m\n",
      "_id                :19_Heartbeat_2023-04-24T13:29:22.960664\n",
      "detector_name      :XENONnT\n",
      "machine_time       :2023-04-24T13:29:22.960664\n",
      "detector_status    :ON\n",
      "meta               :\n",
      "schema_version     :1.3.0\n",
      "sent_time          :2023-04-24T13:29:22.984495\n",
      "Message Generated for Heartbeat\n",
      "\u001b[94m----------------------------------------------------------------\u001b[0m\n",
      "\u001b[91mSending message to Heartbeat on kafka://kafka.scimma.org/snews.experiments-firedrill\u001b[0m\n",
      "_id                :19_Heartbeat_2023-04-24T13:29:29.108253\n",
      "detector_name      :XENONnT\n",
      "machine_time       :2023-04-24T13:29:29.108253\n",
      "detector_status    :ON\n",
      "meta               :\n",
      "schema_version     :1.3.0\n",
      "sent_time          :2023-04-24T13:29:29.170582\n",
      "Message Generated for Heartbeat\n",
      "\u001b[94m----------------------------------------------------------------\u001b[0m\n",
      "\u001b[91mSending message to Heartbeat on kafka://kafka.scimma.org/snews.experiments-firedrill\u001b[0m\n",
      "_id                :19_Heartbeat_2023-04-24T13:29:35.210759\n",
      "detector_name      :XENONnT\n",
      "machine_time       :2023-04-24T13:29:35.210759\n",
      "detector_status    :ON\n",
      "meta               :\n",
      "schema_version     :1.3.0\n",
      "sent_time          :2023-04-24T13:29:35.468665\n",
      "Message Generated for Heartbeat\n",
      "\u001b[94m----------------------------------------------------------------\u001b[0m\n",
      "\u001b[91mSending message to Heartbeat on kafka://kafka.scimma.org/snews.experiments-firedrill\u001b[0m\n",
      "_id                :19_Heartbeat_2023-04-24T13:29:41.896350\n",
      "detector_name      :XENONnT\n",
      "machine_time       :2023-04-24T13:29:41.896350\n",
      "detector_status    :ON\n",
      "meta               :\n",
      "schema_version     :1.3.0\n",
      "sent_time          :2023-04-24T13:29:41.921992\n",
      "Message Generated for Heartbeat\n",
      "\u001b[94m----------------------------------------------------------------\u001b[0m\n",
      "\u001b[91mSending message to Heartbeat on kafka://kafka.scimma.org/snews.experiments-firedrill\u001b[0m\n",
      "_id                :19_Heartbeat_2023-04-24T13:29:47.391542\n",
      "detector_name      :XENONnT\n",
      "machine_time       :2023-04-24T13:29:47.391542\n",
      "detector_status    :ON\n",
      "meta               :\n",
      "schema_version     :1.3.0\n",
      "sent_time          :2023-04-24T13:29:47.423036\n",
      "Message Generated for Heartbeat\n",
      "\u001b[94m----------------------------------------------------------------\u001b[0m\n",
      "\u001b[91mSending message to Heartbeat on kafka://kafka.scimma.org/snews.experiments-firedrill\u001b[0m\n",
      "_id                :19_Heartbeat_2023-04-24T13:29:52.891700\n",
      "detector_name      :XENONnT\n",
      "machine_time       :2023-04-24T13:29:52.891700\n",
      "detector_status    :ON\n",
      "meta               :\n",
      "schema_version     :1.3.0\n",
      "sent_time          :2023-04-24T13:29:52.951034\n",
      "Message Generated for Heartbeat\n",
      "\u001b[94m----------------------------------------------------------------\u001b[0m\n",
      "\u001b[91mSending message to Heartbeat on kafka://kafka.scimma.org/snews.experiments-firedrill\u001b[0m\n",
      "_id                :19_Heartbeat_2023-04-24T13:29:58.504245\n",
      "detector_name      :XENONnT\n",
      "machine_time       :2023-04-24T13:29:58.504245\n",
      "detector_status    :ON\n",
      "meta               :\n",
      "schema_version     :1.3.0\n",
      "sent_time          :2023-04-24T13:29:58.528545\n"
     ]
    }
   ],
   "source": [
    "import time\n",
    "for i in range(7):\n",
    "    time.sleep(2)\n",
    "    msg = SNEWSTiersPublisher(detector_status='ON', firedrill_mode=True) \n",
    "    msg.send_to_snews()"
   ]
  },
  {
   "cell_type": "code",
   "execution_count": 41,
   "metadata": {},
   "outputs": [],
   "source": [
    "from snews_pt.remote_commands import reset_cache"
   ]
  },
  {
   "cell_type": "code",
   "execution_count": 42,
   "metadata": {},
   "outputs": [
    {
     "name": "stdout",
     "output_type": "stream",
     "text": [
      "\u001b[34m\u001b[1m> Requesting to Reset the cache. If you have rights, cache will be reset\u001b[0m\n"
     ]
    }
   ],
   "source": [
    "reset_cache(firedrill=False)"
   ]
  },
  {
   "cell_type": "markdown",
   "metadata": {},
   "source": [
    "- 3. Create an observation message for your detector based on the times given below"
   ]
  },
  {
   "cell_type": "markdown",
   "metadata": {},
   "source": [
    "```json\n",
    "{\"JUNO\": {\"neutrino_time\": \"2023-02-07T12:00:00.000000\"}}, \n",
    "{\"HK\": {\"neutrino_time\": \"2023-02-07T12:00:00.001076\"}}, \n",
    "{\"KL\": {\"neutrino_time\": \"2023-02-07T12:00:00.001090\"}}, \n",
    "{\"SK\": {\"neutrino_time\": \"2023-02-07T12:00:00.001090\"}}, \n",
    "{\"PandaX-4T\": {\"neutrino_time\": \"2023-02-07T12:00:00.002390\"}}, \n",
    "{\"Baksan\": {\"neutrino_time\": \"2023-02-07T12:00:00.018629\"}}, \n",
    "{\"IC\": {\"neutrino_time\": \"2023-02-07T12:00:00.023424\"}}, \n",
    "{\"LVD\": {\"neutrino_time\": \"2023-02-07T12:00:00.026127\"}}, \n",
    "{\"DS-20K\": {\"neutrino_time\": \"2023-02-07T12:00:00.026127\"},\n",
    "{\"Borexino\":{\"neutrino_time\": \"2023-02-07T12:00:00.026127\"}}, \n",
    "{\"XENONnT\": {\"neutrino_time\": \"2023-02-07T12:00:00.026127\"}}\n",
    "{\"KM3\": {\"neutrino_time\": \"2023-02-07T12:00:00.026338\"}},\n",
    "{\"NOvA\": {\"neutrino_time\": \"2023-02-07T12:00:00.028417\"}}, \n",
    "{\"HALO-1kT\": {\"neutrino_time\": \"2023-02-07T12:00:00.030543\"}}, \n",
    "{\"SNOP\": {\"neutrino_time\": \"2023-02-07T12:00:00.030543\"}}, \n",
    "{\"SBND\": {\"neutrino_time\": \"2023-02-07T12:00:00.030548\"}}, \n",
    "{\"DUNE\": {\"neutrino_time\": \"2023-02-07T12:00:00.030548\"}}, \n",
    "{\"LZ\": {\"neutrino_time\": \"2023-02-07T12:00:00.030548\"}}, \n",
    "{\"MicroBooNe\": {\"neutrino_time\": \"2023-02-07T12:00:00.030548\"}}\n",
    "```"
   ]
  },
  {
   "cell_type": "markdown",
   "metadata": {},
   "source": [
    "These times should point to the candidate star Alf Ori at <br>RA: 88.79292 deg<br>\n",
    "DEC: 7.40706 deg"
   ]
  },
  {
   "cell_type": "code",
   "execution_count": 43,
   "metadata": {},
   "outputs": [
    {
     "name": "stdout",
     "output_type": "stream",
     "text": [
      "Message Generated for CoincidenceTier\n",
      "\u001b[94m----------------------------------------------------------------\u001b[0m\n",
      "\u001b[91mSending message to CoincidenceTier on kafka://kafka.scimma.org/snews.experiments-test\u001b[0m\n",
      "_id                :19_CoincidenceTier_2023-05-08T14:46:17.568151\n",
      "detector_name      :XENONnT\n",
      "machine_time       :2023-05-08T14:46:17.568151\n",
      "neutrino_time      :2023-02-07T12:00:00.026127\n",
      "p_val              :None\n",
      "meta               :\n",
      "\tis_test            :True\n",
      "schema_version     :1.3.0\n",
      "sent_time          :2023-05-08T14:46:17.657617\n"
     ]
    }
   ],
   "source": [
    "msg = SNEWSTiersPublisher(detector_name=\"XENONnT\" ,neutrino_time=\"2023-02-07T12:00:00.026127\", \n",
    "                          is_test=True, firedrill_mode=False)\n",
    "msg.send_to_snews()"
   ]
  },
  {
   "cell_type": "code",
   "execution_count": 44,
   "metadata": {},
   "outputs": [
    {
     "name": "stdout",
     "output_type": "stream",
     "text": [
      "Message Generated for Retraction\n",
      "\u001b[94m----------------------------------------------------------------\u001b[0m\n",
      "\u001b[91mSending message to Retraction on kafka://kafka.scimma.org/snews.experiments-test\u001b[0m\n",
      "\u001b[35mIT'S OKAY, WE ALL MAKE MISTAKES\u001b[0m\n",
      "_id                :19_Retraction_2023-05-08T14:49:32.129470\n",
      "detector_name      :XENONnT\n",
      "machine_time       :2023-05-08T14:49:32.129470\n",
      "retract_latest     :2\n",
      "retraction_reason  :None\n",
      "meta               :\n",
      "\tis_test            :True\n",
      "schema_version     :1.3.0\n",
      "sent_time          :2023-05-08T14:49:32.175963\n"
     ]
    }
   ],
   "source": [
    "retr = SNEWSTiersPublisher(retract_latest=2, is_test=True, firedrill_mode=False)\n",
    "retr.send_to_snews()"
   ]
  },
  {
   "cell_type": "markdown",
   "metadata": {},
   "source": [
    "- 4. On a separate notebook or a terminal subscribe to the alerts\n",
    "```bash\n",
    " user:~$ snews_pt subscribe\n",
    "```\n",
    "or \n",
    "\n",
    "```python\n",
    "from snews_pt.snews_sub import Subscriber\n",
    "Subscriber().subscribe()\n",
    "```"
   ]
  },
  {
   "cell_type": "markdown",
   "metadata": {},
   "source": [
    "- 5. send your observation to snews"
   ]
  },
  {
   "cell_type": "code",
   "execution_count": null,
   "metadata": {},
   "outputs": [],
   "source": []
  }
 ],
 "metadata": {
  "kernelspec": {
   "display_name": "snews",
   "language": "python",
   "name": "snews"
  },
  "language_info": {
   "codemirror_mode": {
    "name": "ipython",
    "version": 3
   },
   "file_extension": ".py",
   "mimetype": "text/x-python",
   "name": "python",
   "nbconvert_exporter": "python",
   "pygments_lexer": "ipython3",
   "version": "3.9.7"
  },
  "vscode": {
   "interpreter": {
    "hash": "f581a8651b7bc0666f0167af942e3b60152ddbb51a5d7dbac8fd8281a3c56e84"
   }
  }
 },
 "nbformat": 4,
 "nbformat_minor": 1
}
