{
 "cells": [
  {
   "cell_type": "markdown",
   "id": "4c491567",
   "metadata": {},
   "source": [
    "# SNEWS_PT Examples\n"
   ]
  },
  {
   "cell_type": "markdown",
   "id": "af067f1c",
   "metadata": {},
   "source": [
    "## Publication"
   ]
  },
  {
   "cell_type": "markdown",
   "id": "3bacfedc",
   "metadata": {},
   "source": []
  },
  {
   "cell_type": "code",
   "execution_count": 1,
   "id": "34bebc1c-8272-4a87-b877-31b77700907d",
   "metadata": {
    "tags": []
   },
   "outputs": [
    {
     "name": "stdout",
     "output_type": "stream",
     "text": [
      "{'detector_name': 'LZ', 'machine_time': '2022-08-05T16:01:00.786929', 'neutrino_time': '2022-08-05T16:01:00.786929', 'p_val': 0.0007, 'p_values': [0.0007, 0.0008, 0.0009], 't_bin_width': 0.07, 'timing_series': None, 'which_tier': None, 'n_retract_latest': None, 'retraction_reason': None, 'detector_status': None, 'is_pre_sn': False}\n",
      "['CoincidenceTier', 'SigTier']\n",
      "Sending message\n",
      "\u001b[94m----------------------------------------------------------------\u001b[0m\n",
      "\u001b[91mSending message to CoincidenceTier on kafka://kafka.scimma.org/snews.experiments-firedrill\u001b[0m\n",
      "_id                 :14_CoincidenceTier_2022-08-05T16:01:00.786929\n",
      "detector_name       :LZ\n",
      "machine_time        :2022-08-05T16:01:00.786929\n",
      "neutrino_time       :2022-08-05T16:01:00.786929\n",
      "p_val               :0.0007\n",
      "meta                :{}\n",
      "schema_version      :1.1.1\n",
      "sent_time           :2022-08-05T16:01:00.786982\n",
      "\u001b[94m----------------------------------------------------------------\u001b[0m\n",
      "\u001b[91mSending message to SigTier on kafka://kafka.scimma.org/snews.experiments-firedrill\u001b[0m\n"
     ]
    },
    {
     "name": "stderr",
     "output_type": "stream",
     "text": [
      "/Users/joe/src/gitjoe/SNEWS_Publishing_Tools/snews_pt/__init__.py:19: UserWarning: \u001b[31mYou are using default detector name \"TEST\"\n",
      "Please change this by snews_pt.snews_pt_utils.set_name()\u001b[0m\n",
      "  warnings.warn(warning_text, UserWarning)\n"
     ]
    },
    {
     "name": "stdout",
     "output_type": "stream",
     "text": [
      "_id                 :14_SigTier_2022-08-05T16:01:00.786929\n",
      "detector_name       :LZ\n",
      "machine_time        :2022-08-05T16:01:00.786929\n",
      "neutrino_time       :2022-08-05T16:01:00.786929\n",
      "p_values            :[0.0007, 0.0008, 0.0009]\n",
      "t_bin_width         :0.07\n",
      "meta                :{}\n",
      "schema_version      :1.1.1\n",
      "sent_time           :2022-08-05T16:01:00.786982\n"
     ]
    }
   ],
   "source": [
    "from snews_pt.snews_pub import SNEWSTiersPublisher\n",
    "from datetime import  datetime\n",
    "\n",
    "test_time = datetime.utcnow().isoformat()\n",
    "message = SNEWSTiersPublisher(detector_name='LZ',machine_time=test_time ,neutrino_time=test_time, p_val=0.0007, p_values=[0.0007,0.0008,0.0009],t_bin_width=0.07)\n",
    "print(message.message_data)\n",
    "print(message.tiernames)\n",
    "print('Sending message')\n",
    "message.send_to_snews()"
   ]
  },
  {
   "cell_type": "markdown",
   "id": "f6d67ae3",
   "metadata": {},
   "source": [
    "## Subscription"
   ]
  },
  {
   "cell_type": "code",
   "execution_count": 4,
   "id": "0ea6d89a",
   "metadata": {
    "pycharm": {
     "name": "#%%\n"
    }
   },
   "outputs": [
    {
     "name": "stdout",
     "output_type": "stream",
     "text": [
      "You are subscribing to \u001b[41m\u001b[1mALERT\u001b[0m\n",
      "Broker:\u001b[42mkafka://kafka.scimma.org/snews.alert-firedrill\u001b[0m\n"
     ]
    }
   ],
   "source": [
    "from snews_pt.snews_sub import Subscriber\n",
    "\n",
    "Subscriber().subscribe()"
   ]
  },
  {
   "cell_type": "code",
   "execution_count": null,
   "metadata": {
    "collapsed": false,
    "pycharm": {
     "name": "#%%\n"
    }
   },
   "outputs": [],
   "source": []
  }
 ],
 "metadata": {
  "kernelspec": {
   "display_name": "Python 3.9.9 ('snews-pt')",
   "language": "python",
   "name": "python3"
  },
  "language_info": {
   "codemirror_mode": {
    "name": "ipython",
    "version": 3
   },
   "file_extension": ".py",
   "mimetype": "text/x-python",
   "name": "python",
   "nbconvert_exporter": "python",
   "pygments_lexer": "ipython3",
   "version": "3.9.9"
  },
  "vscode": {
   "interpreter": {
    "hash": "f581a8651b7bc0666f0167af942e3b60152ddbb51a5d7dbac8fd8281a3c56e84"
   }
  }
 },
 "nbformat": 4,
 "nbformat_minor": 5
}
