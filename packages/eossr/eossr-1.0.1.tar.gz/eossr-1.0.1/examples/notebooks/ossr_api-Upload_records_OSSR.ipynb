{
 "cells": [
  {
   "cell_type": "markdown",
   "id": "d5e9bc28",
   "metadata": {},
   "source": [
    "# Upload records on the OSSR"
   ]
  },
  {
   "cell_type": "markdown",
   "id": "a4123841",
   "metadata": {},
   "source": [
    "To upload records on the OSSR, you may use the [Zenodo client](https://gitlab.in2p3.fr/escape2020/wp3/eossr/-/blob/master/eossr/api/zenodo.py).\n",
    "\n",
    "The client is also used by the continuous integration to automatise project's uploads from GitLab to Zenodo [check the EOSSR scripts here](https://gitlab.in2p3.fr/escape2020/wp3/eossr/-/tree/master/eossr/scripts).\n",
    "\n",
    "**However**, to upload records to the OSSR, you **will need** to use your Zenodo token ([create one](https://zenodo.org/account/settings/applications/tokens/new/))."
   ]
  },
  {
   "cell_type": "code",
   "execution_count": null,
   "id": "52aedbb2",
   "metadata": {
    "tags": []
   },
   "outputs": [],
   "source": [
    "import os\n",
    "token = os.getenv('SANDBOX_ZENODO_TOKEN')  # Replace with your own token\n",
    "\n",
    "if not token:\n",
    "    raise SystemExit(\"You need to use a token for that notebook!\")"
   ]
  },
  {
   "cell_type": "code",
   "execution_count": null,
   "id": "6fcd7ef2",
   "metadata": {
    "tags": []
   },
   "outputs": [],
   "source": [
    "import json\n",
    "from eossr.api.zenodo import ZenodoAPI, Record\n",
    "\n",
    "# Please note that for this demo we are using Zenodo Sandbox.\n",
    "z = ZenodoAPI(access_token=token, sandbox=True)"
   ]
  },
  {
   "cell_type": "code",
   "execution_count": null,
   "id": "24eecce0",
   "metadata": {},
   "outputs": [],
   "source": []
  },
  {
   "cell_type": "markdown",
   "id": "c13a5232",
   "metadata": {},
   "source": [
    "## Create a new deposit\n",
    "First we would need to create a new deposit"
   ]
  },
  {
   "cell_type": "code",
   "execution_count": null,
   "id": "83075f0b",
   "metadata": {
    "tags": []
   },
   "outputs": [],
   "source": [
    "new_deposit = z.create_new_deposit()"
   ]
  },
  {
   "cell_type": "markdown",
   "id": "fcd8e90c",
   "metadata": {},
   "source": [
    "### Zenodo HTTP status\n",
    "\n",
    "The function `create_new_deposit` would have raised an error in case of failure.\n",
    "But if you can its status code meaning using our `ZenodoHTTPStatus` class"
   ]
  },
  {
   "cell_type": "code",
   "execution_count": null,
   "id": "22f8e2b2",
   "metadata": {
    "tags": []
   },
   "outputs": [],
   "source": [
    "from eossr.api.zenodo.http_status import ZenodoHTTPStatus"
   ]
  },
  {
   "cell_type": "code",
   "execution_count": null,
   "id": "07fd3360",
   "metadata": {
    "tags": []
   },
   "outputs": [],
   "source": [
    "status_new_deposit = ZenodoHTTPStatus(new_deposit.status_code, new_deposit.json())\n",
    "print(status_new_deposit)"
   ]
  },
  {
   "cell_type": "markdown",
   "id": "b8761071",
   "metadata": {},
   "source": [
    "## Add files to the deposit\n",
    "\n",
    "Then we upload to the new deposit a file (let's say a `codemeta.json` metadata file)"
   ]
  },
  {
   "cell_type": "code",
   "execution_count": null,
   "id": "74351af6",
   "metadata": {
    "tags": []
   },
   "outputs": [],
   "source": [
    "deposit_id = new_deposit.json()['id']\n",
    "upload_file = z.upload_file_deposit(deposit_id,\n",
    "                                  name_file='codemeta.json', \n",
    "                                  path_file='../../codemeta.json')\n",
    "\n",
    "status_upload = ZenodoHTTPStatus(upload_file.status_code, upload_file.json())\n",
    "print(status_upload)"
   ]
  },
  {
   "cell_type": "markdown",
   "id": "aadbd21e",
   "metadata": {},
   "source": [
    "## Add metadata to the deposit\n",
    "\n",
    "We add metadata to the Zenodo deposit using the EOSSR codemeta2zenodo conversor"
   ]
  },
  {
   "cell_type": "code",
   "execution_count": null,
   "id": "c622d5c9",
   "metadata": {
    "tags": []
   },
   "outputs": [],
   "source": [
    "from eossr.metadata.codemeta2zenodo import parse_codemeta_and_write_zenodo_metadata_file"
   ]
  },
  {
   "cell_type": "code",
   "execution_count": null,
   "id": "d0b1af6d",
   "metadata": {
    "tags": []
   },
   "outputs": [],
   "source": [
    "parse_codemeta_and_write_zenodo_metadata_file(codemeta_filename='../../codemeta.json', \n",
    "                                              outdir='.',\n",
    "                                              add_escape2020=True,\n",
    "                                              overwrite=True,\n",
    "                                             )"
   ]
  },
  {
   "cell_type": "code",
   "execution_count": null,
   "id": "9f3cfedc",
   "metadata": {
    "tags": []
   },
   "outputs": [],
   "source": [
    "# Let's have a look to the output to the .zenodo.json file\n",
    "! cat .zenodo.json"
   ]
  },
  {
   "cell_type": "code",
   "execution_count": null,
   "id": "7c37dc70",
   "metadata": {
    "tags": []
   },
   "outputs": [],
   "source": [
    "with open('.zenodo.json') as f:\n",
    "    zenodo_metadata = json.load(f)\n",
    "\n",
    "update_metadata_info = z.set_deposit_metadata(deposit_id, zenodo_metadata)\n",
    "status_metadata = ZenodoHTTPStatus(update_metadata_info.status_code, update_metadata_info.json())\n",
    "print(status_metadata)"
   ]
  },
  {
   "cell_type": "markdown",
   "id": "c6a4df85",
   "metadata": {},
   "source": [
    "### Check the content of the new deposit\n",
    "\n",
    "The `request` answers contain all the information of the current upload.    \n",
    "The json dictionnary can be treated as a standard Zenodo Record:"
   ]
  },
  {
   "cell_type": "code",
   "execution_count": null,
   "id": "4389a073",
   "metadata": {
    "tags": []
   },
   "outputs": [],
   "source": [
    "new_record = Record(update_metadata_info.json())\n",
    "new_record"
   ]
  },
  {
   "cell_type": "code",
   "execution_count": null,
   "id": "9f696410",
   "metadata": {
    "tags": []
   },
   "outputs": [],
   "source": [
    "new_record.print_info()"
   ]
  },
  {
   "cell_type": "markdown",
   "id": "a62874c5",
   "metadata": {},
   "source": [
    "We can check the files that we have already uploaded"
   ]
  },
  {
   "cell_type": "code",
   "execution_count": null,
   "id": "f0328d01",
   "metadata": {
    "tags": []
   },
   "outputs": [],
   "source": [
    "new_record.data['files']"
   ]
  },
  {
   "cell_type": "markdown",
   "id": "ae3ccdb8",
   "metadata": {},
   "source": [
    "Or the metadata updated "
   ]
  },
  {
   "cell_type": "code",
   "execution_count": null,
   "id": "7111b368",
   "metadata": {
    "tags": []
   },
   "outputs": [],
   "source": [
    "new_record.data['metadata']"
   ]
  },
  {
   "cell_type": "markdown",
   "id": "fa18756a",
   "metadata": {},
   "source": [
    "## Publish the deposit\n",
    "\n",
    "Finally we can publish the new deposit.\n",
    "However in this case, because this is just a demo, we will just erase the deposit."
   ]
  },
  {
   "cell_type": "code",
   "execution_count": null,
   "id": "6a9f1f09",
   "metadata": {
    "tags": []
   },
   "outputs": [],
   "source": [
    "# In case you would like to publish the deposit, just uncomment the following lines.\n",
    "\n",
    "# # publish = z.publish_deposit(deposit_id)\n",
    "# # status = ZenodoHTTPStatus(publish.status_code, publish.json())"
   ]
  },
  {
   "cell_type": "code",
   "execution_count": null,
   "id": "a2a81e21",
   "metadata": {
    "tags": []
   },
   "outputs": [],
   "source": [
    "from eossr.api.zenodo.http_status import HTTPStatusError"
   ]
  },
  {
   "cell_type": "code",
   "execution_count": null,
   "id": "a1562ae2",
   "metadata": {
    "tags": []
   },
   "outputs": [],
   "source": [
    "erase_deposit = z.erase_deposit(deposit_id)"
   ]
  },
  {
   "cell_type": "code",
   "execution_count": null,
   "id": "86cd043c",
   "metadata": {},
   "outputs": [],
   "source": []
  }
 ],
 "metadata": {
  "kernelspec": {
   "display_name": "Python 3 (ipykernel)",
   "language": "python",
   "name": "python3"
  },
  "language_info": {
   "codemirror_mode": {
    "name": "ipython",
    "version": 3
   },
   "file_extension": ".py",
   "mimetype": "text/x-python",
   "name": "python",
   "nbconvert_exporter": "python",
   "pygments_lexer": "ipython3",
   "version": "3.10.4"
  },
  "pycharm": {
   "stem_cell": {
    "cell_type": "raw",
    "metadata": {
     "collapsed": false
    },
    "source": []
   }
  }
 },
 "nbformat": 4,
 "nbformat_minor": 5
}
