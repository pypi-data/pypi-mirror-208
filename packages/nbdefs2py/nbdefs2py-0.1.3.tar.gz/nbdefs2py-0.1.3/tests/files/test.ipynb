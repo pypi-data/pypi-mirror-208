{
 "cells": [
  {
   "cell_type": "code",
   "execution_count": 1,
   "metadata": {},
   "outputs": [
    {
     "name": "stdout",
     "output_type": "stream",
     "text": [
      "something before\n"
     ]
    }
   ],
   "source": [
    "print(\"something before\")\n",
    "\n",
    "def another_func() -> None:\n",
    "  ...\n",
    "\n",
    "x = \"something\"\n",
    "\n",
    "def print_this(x: str) -> None:\n",
    "  print(x)"
   ]
  },
  {
   "attachments": {},
   "cell_type": "markdown",
   "metadata": {},
   "source": [
    "A md cell"
   ]
  },
  {
   "cell_type": "code",
   "execution_count": 2,
   "metadata": {},
   "outputs": [],
   "source": [
    "x = 2"
   ]
  },
  {
   "cell_type": "code",
   "execution_count": 3,
   "metadata": {},
   "outputs": [],
   "source": [
    "def funcs_for_days(x: str, i: int) -> str:\n",
    "  \"\"\"Docstring.\"\"\"\n",
    "  return \"x: {x}; i: {i}\""
   ]
  },
  {
   "cell_type": "code",
   "execution_count": null,
   "metadata": {},
   "outputs": [],
   "source": [
    "class SomeClass:\n",
    "    def __init__():\n",
    "        self.somethin = None\n",
    "\n",
    "    def gimme_somethin(self):\n",
    "        return self.somethin"
   ]
  }
 ],
 "metadata": {
  "kernelspec": {
   "display_name": "dev",
   "language": "python",
   "name": "python3"
  },
  "language_info": {
   "codemirror_mode": {
    "name": "ipython",
    "version": 3
   },
   "file_extension": ".py",
   "mimetype": "text/x-python",
   "name": "python",
   "nbconvert_exporter": "python",
   "pygments_lexer": "ipython3",
   "version": "3.8.10"
  },
  "orig_nbformat": 4,
  "vscode": {
   "interpreter": {
    "hash": "86732099c979162f88e879d1ec91ccdf83bd233a2f97ee38b725f626d333f78a"
   }
  }
 },
 "nbformat": 4,
 "nbformat_minor": 2
}
