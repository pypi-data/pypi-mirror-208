{
 "cells": [
  {
   "attachments": {},
   "cell_type": "markdown",
   "metadata": {},
   "source": [
    "# SynCDsGen: Synthetic Coding Sequences Generator (Demo)"
   ]
  },
  {
   "attachments": {},
   "cell_type": "markdown",
   "metadata": {},
   "source": [
    "The goal of this notebook is to show how to use the SynCDsGen module."
   ]
  },
  {
   "cell_type": "code",
   "execution_count": 1,
   "metadata": {},
   "outputs": [],
   "source": [
    "from hmmlearn import hmm"
   ]
  },
  {
   "cell_type": "code",
   "execution_count": 4,
   "metadata": {},
   "outputs": [],
   "source": [
    "import torch\n",
    "import SynCDsGen\n",
    "import re\n",
    "import numpy as np"
   ]
  },
  {
   "cell_type": "code",
   "execution_count": 16,
   "metadata": {},
   "outputs": [
    {
     "ename": "KeyboardInterrupt",
     "evalue": "",
     "output_type": "error",
     "traceback": [
      "\u001b[0;31m---------------------------------------------------------------------------\u001b[0m",
      "\u001b[0;31mKeyboardInterrupt\u001b[0m                         Traceback (most recent call last)",
      "Cell \u001b[0;32mIn[16], line 21\u001b[0m\n\u001b[1;32m      7\u001b[0m gen_model\u001b[39m.\u001b[39memissionprob_ \u001b[39m=\u001b[39m np\u001b[39m.\u001b[39marray([[\u001b[39m0.5000\u001b[39m, \u001b[39m0.5000\u001b[39m, \u001b[39m0.0000\u001b[39m, \u001b[39m0.0000\u001b[39m, \u001b[39m0.0000\u001b[39m, \u001b[39m0.0000\u001b[39m, \u001b[39m0.0000\u001b[39m, \u001b[39m0.0000\u001b[39m, \u001b[39m0.0000\u001b[39m,\n\u001b[1;32m      8\u001b[0m          \u001b[39m0.0000\u001b[39m, \u001b[39m0.0000\u001b[39m, \u001b[39m0.0000\u001b[39m, \u001b[39m0.0000\u001b[39m, \u001b[39m0.0000\u001b[39m, \u001b[39m0.0000\u001b[39m, \u001b[39m0.0000\u001b[39m, \u001b[39m0.0000\u001b[39m, \u001b[39m0.0000\u001b[39m,\n\u001b[1;32m      9\u001b[0m          \u001b[39m0.0000\u001b[39m, \u001b[39m0.0000\u001b[39m, \u001b[39m0.0000\u001b[39m, \u001b[39m0.0000\u001b[39m],\n\u001b[0;32m   (...)\u001b[0m\n\u001b[1;32m     17\u001b[0m          \u001b[39m0.0000\u001b[39m, \u001b[39m0.0000\u001b[39m, \u001b[39m0.0000\u001b[39m, \u001b[39m0.0000\u001b[39m, \u001b[39m0.0000\u001b[39m, \u001b[39m0.0000\u001b[39m, \u001b[39m0.0000\u001b[39m, \u001b[39m0.0000\u001b[39m, \u001b[39m0.0000\u001b[39m,\n\u001b[1;32m     18\u001b[0m          \u001b[39m0.0000\u001b[39m, \u001b[39m0.0000\u001b[39m, \u001b[39m0.0000\u001b[39m, \u001b[39m0.0000\u001b[39m]])\n\u001b[1;32m     20\u001b[0m \u001b[39mfor\u001b[39;00m i \u001b[39min\u001b[39;00m \u001b[39mrange\u001b[39m(\u001b[39m250000\u001b[39m):\n\u001b[0;32m---> 21\u001b[0m     rolls, gen_states \u001b[39m=\u001b[39m gen_model\u001b[39m.\u001b[39;49msample(\u001b[39m1000\u001b[39;49m)\n",
      "File \u001b[0;32m/media/pepi/Ramses1/AI_and_data/WL_research_final_year_internship/code/SynCDsGen/venv/lib/python3.8/site-packages/hmmlearn/_emissions.py:27\u001b[0m, in \u001b[0;36m_make_wrapper.<locals>.<lambda>\u001b[0;34m(*args, **kwargs)\u001b[0m\n\u001b[1;32m     26\u001b[0m \u001b[39mdef\u001b[39;00m \u001b[39m_make_wrapper\u001b[39m(func):\n\u001b[0;32m---> 27\u001b[0m     \u001b[39mreturn\u001b[39;00m functools\u001b[39m.\u001b[39mwraps(func)(\u001b[39mlambda\u001b[39;00m \u001b[39m*\u001b[39margs, \u001b[39m*\u001b[39m\u001b[39m*\u001b[39mkwargs: func(\u001b[39m*\u001b[39;49margs, \u001b[39m*\u001b[39;49m\u001b[39m*\u001b[39;49mkwargs))\n",
      "File \u001b[0;32m/media/pepi/Ramses1/AI_and_data/WL_research_final_year_internship/code/SynCDsGen/venv/lib/python3.8/site-packages/hmmlearn/base.py:420\u001b[0m, in \u001b[0;36m_AbstractHMM.sample\u001b[0;34m(self, n_samples, random_state, currstate)\u001b[0m\n\u001b[1;32m    418\u001b[0m \u001b[39mif\u001b[39;00m random_state \u001b[39mis\u001b[39;00m \u001b[39mNone\u001b[39;00m:\n\u001b[1;32m    419\u001b[0m     random_state \u001b[39m=\u001b[39m \u001b[39mself\u001b[39m\u001b[39m.\u001b[39mrandom_state\n\u001b[0;32m--> 420\u001b[0m random_state \u001b[39m=\u001b[39m check_random_state(random_state)\n\u001b[1;32m    422\u001b[0m transmat_cdf \u001b[39m=\u001b[39m np\u001b[39m.\u001b[39mcumsum(\u001b[39mself\u001b[39m\u001b[39m.\u001b[39mtransmat_, axis\u001b[39m=\u001b[39m\u001b[39m1\u001b[39m)\n\u001b[1;32m    424\u001b[0m \u001b[39mif\u001b[39;00m currstate \u001b[39mis\u001b[39;00m \u001b[39mNone\u001b[39;00m:\n",
      "File \u001b[0;32m/media/pepi/Ramses1/AI_and_data/WL_research_final_year_internship/code/SynCDsGen/venv/lib/python3.8/site-packages/sklearn/utils/validation.py:1226\u001b[0m, in \u001b[0;36mcheck_random_state\u001b[0;34m(seed)\u001b[0m\n\u001b[1;32m   1224\u001b[0m     \u001b[39mreturn\u001b[39;00m np\u001b[39m.\u001b[39mrandom\u001b[39m.\u001b[39mmtrand\u001b[39m.\u001b[39m_rand\n\u001b[1;32m   1225\u001b[0m \u001b[39mif\u001b[39;00m \u001b[39misinstance\u001b[39m(seed, numbers\u001b[39m.\u001b[39mIntegral):\n\u001b[0;32m-> 1226\u001b[0m     \u001b[39mreturn\u001b[39;00m np\u001b[39m.\u001b[39;49mrandom\u001b[39m.\u001b[39;49mRandomState(seed)\n\u001b[1;32m   1227\u001b[0m \u001b[39mif\u001b[39;00m \u001b[39misinstance\u001b[39m(seed, np\u001b[39m.\u001b[39mrandom\u001b[39m.\u001b[39mRandomState):\n\u001b[1;32m   1228\u001b[0m     \u001b[39mreturn\u001b[39;00m seed\n",
      "File \u001b[0;32mmtrand.pyx:184\u001b[0m, in \u001b[0;36mnumpy.random.mtrand.RandomState.__init__\u001b[0;34m()\u001b[0m\n",
      "File \u001b[0;32m_mt19937.pyx:130\u001b[0m, in \u001b[0;36mnumpy.random._mt19937.MT19937.__init__\u001b[0;34m()\u001b[0m\n",
      "File \u001b[0;32m/usr/lib/python3.8/contextlib.py:75\u001b[0m, in \u001b[0;36mContextDecorator.__call__.<locals>.inner\u001b[0;34m(*args, **kwds)\u001b[0m\n\u001b[1;32m     72\u001b[0m \u001b[39m@wraps\u001b[39m(func)\n\u001b[1;32m     73\u001b[0m \u001b[39mdef\u001b[39;00m \u001b[39minner\u001b[39m(\u001b[39m*\u001b[39margs, \u001b[39m*\u001b[39m\u001b[39m*\u001b[39mkwds):\n\u001b[1;32m     74\u001b[0m     \u001b[39mwith\u001b[39;00m \u001b[39mself\u001b[39m\u001b[39m.\u001b[39m_recreate_cm():\n\u001b[0;32m---> 75\u001b[0m         \u001b[39mreturn\u001b[39;00m func(\u001b[39m*\u001b[39margs, \u001b[39m*\u001b[39m\u001b[39m*\u001b[39mkwds)\n",
      "File \u001b[0;32m/media/pepi/Ramses1/AI_and_data/WL_research_final_year_internship/code/SynCDsGen/venv/lib/python3.8/site-packages/numpy/core/_ufunc_config.py:436\u001b[0m, in \u001b[0;36merrstate.__exit__\u001b[0;34m(self, *exc_info)\u001b[0m\n\u001b[1;32m    435\u001b[0m \u001b[39mdef\u001b[39;00m \u001b[39m__exit__\u001b[39m(\u001b[39mself\u001b[39m, \u001b[39m*\u001b[39mexc_info):\n\u001b[0;32m--> 436\u001b[0m     seterr(\u001b[39m*\u001b[39;49m\u001b[39m*\u001b[39;49m\u001b[39mself\u001b[39;49m\u001b[39m.\u001b[39;49moldstate)\n\u001b[1;32m    437\u001b[0m     \u001b[39mif\u001b[39;00m \u001b[39mself\u001b[39m\u001b[39m.\u001b[39mcall \u001b[39mis\u001b[39;00m \u001b[39mnot\u001b[39;00m _Unspecified:\n\u001b[1;32m    438\u001b[0m         seterrcall(\u001b[39mself\u001b[39m\u001b[39m.\u001b[39moldcall)\n",
      "File \u001b[0;32m/media/pepi/Ramses1/AI_and_data/WL_research_final_year_internship/code/SynCDsGen/venv/lib/python3.8/site-packages/numpy/core/_ufunc_config.py:111\u001b[0m, in \u001b[0;36mseterr\u001b[0;34m(all, divide, over, under, invalid)\u001b[0m\n\u001b[1;32m     35\u001b[0m \u001b[39m\u001b[39m\u001b[39m\"\"\"\u001b[39;00m\n\u001b[1;32m     36\u001b[0m \u001b[39mSet how floating-point errors are handled.\u001b[39;00m\n\u001b[1;32m     37\u001b[0m \n\u001b[0;32m   (...)\u001b[0m\n\u001b[1;32m    107\u001b[0m \n\u001b[1;32m    108\u001b[0m \u001b[39m\"\"\"\u001b[39;00m\n\u001b[1;32m    110\u001b[0m pyvals \u001b[39m=\u001b[39m umath\u001b[39m.\u001b[39mgeterrobj()\n\u001b[0;32m--> 111\u001b[0m old \u001b[39m=\u001b[39m geterr()\n\u001b[1;32m    113\u001b[0m \u001b[39mif\u001b[39;00m divide \u001b[39mis\u001b[39;00m \u001b[39mNone\u001b[39;00m:\n\u001b[1;32m    114\u001b[0m     divide \u001b[39m=\u001b[39m \u001b[39mall\u001b[39m \u001b[39mor\u001b[39;00m old[\u001b[39m'\u001b[39m\u001b[39mdivide\u001b[39m\u001b[39m'\u001b[39m]\n",
      "File \u001b[0;32m/media/pepi/Ramses1/AI_and_data/WL_research_final_year_internship/code/SynCDsGen/venv/lib/python3.8/site-packages/numpy/core/_ufunc_config.py:171\u001b[0m, in \u001b[0;36mgeterr\u001b[0;34m()\u001b[0m\n\u001b[1;32m    169\u001b[0m mask \u001b[39m=\u001b[39m \u001b[39m7\u001b[39m\n\u001b[1;32m    170\u001b[0m res \u001b[39m=\u001b[39m {}\n\u001b[0;32m--> 171\u001b[0m val \u001b[39m=\u001b[39m (maskvalue \u001b[39m>>\u001b[39;49m SHIFT_DIVIDEBYZERO) \u001b[39m&\u001b[39;49m mask\n\u001b[1;32m    172\u001b[0m res[\u001b[39m'\u001b[39m\u001b[39mdivide\u001b[39m\u001b[39m'\u001b[39m] \u001b[39m=\u001b[39m _errdict_rev[val]\n\u001b[1;32m    173\u001b[0m val \u001b[39m=\u001b[39m (maskvalue \u001b[39m>>\u001b[39m SHIFT_OVERFLOW) \u001b[39m&\u001b[39m mask\n",
      "\u001b[0;31mKeyboardInterrupt\u001b[0m: "
     ]
    }
   ],
   "source": [
    "gen_model = hmm.CategoricalHMM(n_components=4, random_state=99)\n",
    "gen_model.startprob_ = np.array([1.0, 0.0, 0.0, 0.0])\n",
    "gen_model.transmat_ = np.array([[0.0000, 0.0000, 0.5000, 0.5000],\n",
    "        [0.0000, 0.0000, 0.5000, 0.5000],\n",
    "        [0.0000, 0.0000, 0.5000, 0.5000],\n",
    "        [0.0000, 0.0000, 0.5000, 0.5000]])\n",
    "gen_model.emissionprob_ = np.array([[0.5000, 0.5000, 0.0000, 0.0000, 0.0000, 0.0000, 0.0000, 0.0000, 0.0000,\n",
    "         0.0000, 0.0000, 0.0000, 0.0000, 0.0000, 0.0000, 0.0000, 0.0000, 0.0000,\n",
    "         0.0000, 0.0000, 0.0000, 0.0000],\n",
    "        [1.0000, 0.0000, 0.0000, 0.0000, 0.0000, 0.0000, 0.0000, 0.0000, 0.0000,\n",
    "         0.0000, 0.0000, 0.0000, 0.0000, 0.0000, 0.0000, 0.0000, 0.0000, 0.0000,\n",
    "         0.0000, 0.0000, 0.0000, 0.0000],\n",
    "        [0.0938, 0.0599, 0.0154, 0.0953, 0.0241, 0.0314, 0.0942, 0.0336, 0.0049,\n",
    "         0.0642, 0.0316, 0.0167, 0.0088, 0.0017, 0.0547, 0.0905, 0.0887, 0.0734,\n",
    "         0.0583, 0.0421, 0.0016, 0.0151],\n",
    "        [0.0614, 0.0933, 0.3326, 0.3366, 0.1761, 0.0000, 0.0000, 0.0000, 0.0000,\n",
    "         0.0000, 0.0000, 0.0000, 0.0000, 0.0000, 0.0000, 0.0000, 0.0000, 0.0000,\n",
    "         0.0000, 0.0000, 0.0000, 0.0000]])\n",
    "\n",
    "for i in range(250000):\n",
    "    rolls, gen_states = gen_model.sample(1000)"
   ]
  },
  {
   "cell_type": "code",
   "execution_count": null,
   "metadata": {},
   "outputs": [],
   "source": []
  },
  {
   "attachments": {},
   "cell_type": "markdown",
   "metadata": {},
   "source": [
    "## Generate data from a purely stochastic/Markov type model"
   ]
  },
  {
   "cell_type": "code",
   "execution_count": 2,
   "metadata": {},
   "outputs": [],
   "source": [
    "#define and configure the data generator\n",
    "conf = SynCDsGen.SyncCDsGeneratorConf(nb_codons=30, nb_AAs=4, codon_length=2)"
   ]
  },
  {
   "cell_type": "code",
   "execution_count": 3,
   "metadata": {},
   "outputs": [
    {
     "data": {
      "text/plain": [
       "['a', 'b', 'c', 'd', 'e', 'f']"
      ]
     },
     "execution_count": 3,
     "metadata": {},
     "output_type": "execute_result"
    }
   ],
   "source": [
    "conf.bases"
   ]
  },
  {
   "cell_type": "code",
   "execution_count": 5,
   "metadata": {},
   "outputs": [
    {
     "data": {
      "text/plain": [
       "{'A': ['aa', 'ab'],\n",
       " 'B': ['ac'],\n",
       " 'C': ['ad',\n",
       "  'ae',\n",
       "  'af',\n",
       "  'ba',\n",
       "  'bb',\n",
       "  'bc',\n",
       "  'bd',\n",
       "  'be',\n",
       "  'bf',\n",
       "  'ca',\n",
       "  'cb',\n",
       "  'cc',\n",
       "  'cd',\n",
       "  'ce',\n",
       "  'cf'],\n",
       " 'D': ['da', 'db', 'dc', 'dd', 'de', 'df', 'ea', 'eb', 'ec', 'ed', 'ee', 'ef']}"
      ]
     },
     "execution_count": 5,
     "metadata": {},
     "output_type": "execute_result"
    }
   ],
   "source": [
    "conf.translation_dict"
   ]
  },
  {
   "cell_type": "code",
   "execution_count": 6,
   "metadata": {},
   "outputs": [
    {
     "data": {
      "text/plain": [
       "tensor([[0.5000, 0.5000, 0.0000, 0.0000, 0.0000, 0.0000, 0.0000, 0.0000, 0.0000,\n",
       "         0.0000, 0.0000, 0.0000, 0.0000, 0.0000, 0.0000],\n",
       "        [1.0000, 0.0000, 0.0000, 0.0000, 0.0000, 0.0000, 0.0000, 0.0000, 0.0000,\n",
       "         0.0000, 0.0000, 0.0000, 0.0000, 0.0000, 0.0000],\n",
       "        [0.0819, 0.1504, 0.0976, 0.0158, 0.0937, 0.0434, 0.0056, 0.1303, 0.1471,\n",
       "         0.0136, 0.0330, 0.1053, 0.0278, 0.0409, 0.0136],\n",
       "        [0.1198, 0.1142, 0.0641, 0.0159, 0.1343, 0.1132, 0.0987, 0.1303, 0.0607,\n",
       "         0.0485, 0.0052, 0.0952, 0.0000, 0.0000, 0.0000]])"
      ]
     },
     "execution_count": 6,
     "metadata": {},
     "output_type": "execute_result"
    }
   ],
   "source": [
    "conf.emission_prob_t"
   ]
  },
  {
   "cell_type": "code",
   "execution_count": 8,
   "metadata": {},
   "outputs": [],
   "source": [
    "generator = SynCDsGen.StochasticSynCDsGenerator(conf)"
   ]
  },
  {
   "cell_type": "code",
   "execution_count": 2,
   "metadata": {},
   "outputs": [],
   "source": [
    "#define and configure the data generator\n",
    "conf = SynCDsGen.SyncCDsGeneratorConf()\n",
    "\n",
    "conf.bases = ['a', 'b', 'c']\n",
    "conf.codons = ['aa', 'ab', 'ac', 'ba', 'bb', 'bc', 'ca', 'cb']\n",
    "conf.start_codons = ['aa', 'ab']\n",
    "conf.stop_codons = ['ac']\n",
    "conf.AAs = ['A', 'B', 'C', 'D']\n",
    "conf.translation_dict = {\n",
    "    'A':  ['aa', 'ab'],\n",
    "    'B': ['ac'],\n",
    "    'C': ['ba', 'bc', 'bb'],\n",
    "    'D': ['ca', 'cb']\n",
    "}\n",
    "conf.transition_prob_t = torch.Tensor([[0,  0, 1/2, 1/2],\n",
    "                            [0, 0, 1/2, 1/2],\n",
    "                            [0, 0, 1/2, 1/2],\n",
    "                            [0, 0, 1/2, 1/2]])\n",
    "\n",
    "conf.emission_prob_t = torch.Tensor([[1/2, 1/2, 0.0],\n",
    "                          [1, 0.0, 0.0],\n",
    "                          [0.6, 0.2, 0.2],\n",
    "                          [0.7, 0.3, 0.0]])"
   ]
  },
  {
   "cell_type": "code",
   "execution_count": 6,
   "metadata": {},
   "outputs": [],
   "source": [
    "import torch\n",
    "\n",
    "tensor = torch.randn(3, 3)"
   ]
  },
  {
   "cell_type": "code",
   "execution_count": 8,
   "metadata": {},
   "outputs": [
    {
     "data": {
      "text/plain": [
       "tensor([[ 5.9571e-01,  1.0000e+00,  1.3763e-03],\n",
       "        [-7.2472e-01,  1.0000e+00, -4.3362e-01],\n",
       "        [-1.5265e+00,  1.0000e+00, -2.8351e-01]])"
      ]
     },
     "execution_count": 8,
     "metadata": {},
     "output_type": "execute_result"
    }
   ],
   "source": [
    "tensor[:, 1] = 1\n",
    "\n",
    "tensor"
   ]
  },
  {
   "cell_type": "code",
   "execution_count": 4,
   "metadata": {},
   "outputs": [],
   "source": [
    "generator = SynCDsGen.StochasticSynCDsGenerator(conf)\n",
    "synthetic_data, _, _ = generator.sample(length=100, n_samples=250000)"
   ]
  },
  {
   "cell_type": "code",
   "execution_count": 6,
   "metadata": {},
   "outputs": [
    {
     "data": {
      "text/html": [
       "<div>\n",
       "<style scoped>\n",
       "    .dataframe tbody tr th:only-of-type {\n",
       "        vertical-align: middle;\n",
       "    }\n",
       "\n",
       "    .dataframe tbody tr th {\n",
       "        vertical-align: top;\n",
       "    }\n",
       "\n",
       "    .dataframe thead th {\n",
       "        text-align: right;\n",
       "    }\n",
       "</style>\n",
       "<table border=\"1\" class=\"dataframe\">\n",
       "  <thead>\n",
       "    <tr style=\"text-align: right;\">\n",
       "      <th></th>\n",
       "      <th>AAs</th>\n",
       "      <th>CDs</th>\n",
       "    </tr>\n",
       "  </thead>\n",
       "  <tbody>\n",
       "    <tr>\n",
       "      <th>0</th>\n",
       "      <td>ADCB</td>\n",
       "      <td>aacabaac</td>\n",
       "    </tr>\n",
       "    <tr>\n",
       "      <th>1</th>\n",
       "      <td>ADCB</td>\n",
       "      <td>aacabcac</td>\n",
       "    </tr>\n",
       "    <tr>\n",
       "      <th>2</th>\n",
       "      <td>ACDB</td>\n",
       "      <td>abcbcaac</td>\n",
       "    </tr>\n",
       "    <tr>\n",
       "      <th>3</th>\n",
       "      <td>ADCB</td>\n",
       "      <td>aabbbaac</td>\n",
       "    </tr>\n",
       "    <tr>\n",
       "      <th>4</th>\n",
       "      <td>ADCB</td>\n",
       "      <td>abcabcac</td>\n",
       "    </tr>\n",
       "  </tbody>\n",
       "</table>\n",
       "</div>"
      ],
      "text/plain": [
       "    AAs       CDs\n",
       "0  ADCB  aacabaac\n",
       "1  ADCB  aacabcac\n",
       "2  ACDB  abcbcaac\n",
       "3  ADCB  aabbbaac\n",
       "4  ADCB  abcabcac"
      ]
     },
     "execution_count": 6,
     "metadata": {},
     "output_type": "execute_result"
    }
   ],
   "source": [
    "synthetic_data.head()"
   ]
  },
  {
   "attachments": {},
   "cell_type": "markdown",
   "metadata": {},
   "source": [
    "## Generate synthetic data with conditional dependence on previously translated sequence/patterns"
   ]
  },
  {
   "cell_type": "code",
   "execution_count": 2,
   "metadata": {},
   "outputs": [],
   "source": [
    "conf = SynCDsGen.SyncCDsGeneratorConf()\n",
    "\n",
    "conf.bases = ['a', 'b', 'c']\n",
    "conf.codons = ['aa', 'ab', 'ac', 'ba', 'ca', 'bb', 'bc', 'cb', 'cc']\n",
    "conf.start_codons = ['aa', 'ab']\n",
    "#STOP_CODONS = ['cc']\n",
    "conf.AAs = ['A', 'B', 'C', 'D']\n",
    "conf.translation_dict = {\n",
    "    'A':  ['aa', 'ab'],\n",
    "    'B': ['ac'],\n",
    "    'C': ['ba', 'bc', 'cb'],\n",
    "    'D': ['ca', 'bb']\n",
    "}\n",
    "conf.transition_prob_t = torch.Tensor([[0,  1/3, 1/3, 1/3],\n",
    "                            [0, 1/3, 1/3, 1/3],\n",
    "                            [0, 1/3, 1/3, 1/3],\n",
    "                            [0, 1/3, 1/3, 1/3]])\n",
    "\n",
    "conf.emission_prob_t = torch.Tensor([[1/2, 1/2, 0.0],\n",
    "                          [1, 0.0, 0.0],\n",
    "                          [0.6, 0.2, 0.2],\n",
    "                          [0.7, 0.3, 0.0]])\n",
    "\n",
    "conf.constraints_dict = {\n",
    "    r\".*A$\": {\n",
    "        'C': torch.Tensor([1, 0, 0])\n",
    "    },\n",
    "    r\".*B$\": {\n",
    "        'C': torch.Tensor([0, 1, 0])\n",
    "    }\n",
    "}"
   ]
  },
  {
   "cell_type": "code",
   "execution_count": 3,
   "metadata": {},
   "outputs": [],
   "source": [
    "generator = SynCDsGen.AutoregressiveSynCDsGenerator(conf)\n",
    "\n",
    "synthetic_data = generator.sample()"
   ]
  },
  {
   "cell_type": "code",
   "execution_count": 4,
   "metadata": {},
   "outputs": [
    {
     "data": {
      "text/html": [
       "<div>\n",
       "<style scoped>\n",
       "    .dataframe tbody tr th:only-of-type {\n",
       "        vertical-align: middle;\n",
       "    }\n",
       "\n",
       "    .dataframe tbody tr th {\n",
       "        vertical-align: top;\n",
       "    }\n",
       "\n",
       "    .dataframe thead th {\n",
       "        text-align: right;\n",
       "    }\n",
       "</style>\n",
       "<table border=\"1\" class=\"dataframe\">\n",
       "  <thead>\n",
       "    <tr style=\"text-align: right;\">\n",
       "      <th></th>\n",
       "      <th>AAs</th>\n",
       "      <th>CDs</th>\n",
       "    </tr>\n",
       "  </thead>\n",
       "  <tbody>\n",
       "    <tr>\n",
       "      <th>0</th>\n",
       "      <td>ADBCCCCBCDBCDDCCCCCCDDBBBCDCDCCCBCDCDDCDCDDDBCCDB</td>\n",
       "      <td>abbbacbccbbcbaacbcbbacbccabbbababababacbcacaac...</td>\n",
       "    </tr>\n",
       "    <tr>\n",
       "      <th>1</th>\n",
       "      <td>ACBDDDCCCDCCDCCDBBBCBDCBDBDCBBDBBDCDBDBCDCCCBDDCB</td>\n",
       "      <td>aabaaccacacacbbcbacababacababacaacacacbcaccabc...</td>\n",
       "    </tr>\n",
       "    <tr>\n",
       "      <th>2</th>\n",
       "      <td>ADDBCCCDBDCCDCDBDBDCCDDBBCBCCBDDBCBCBCBDDDDBDCDBB</td>\n",
       "      <td>abbbcaacbcbccbcaaccabacbcababbaccaaccabababbca...</td>\n",
       "    </tr>\n",
       "    <tr>\n",
       "      <th>3</th>\n",
       "      <td>ABCDCDCBCBCCCBBCCCBBBCCBBDBDBCDCCBBCBDBBCBDDDCBDB</td>\n",
       "      <td>aaacbccabacabcacbcacbcbacbacacbcbcbaacacacbcba...</td>\n",
       "    </tr>\n",
       "    <tr>\n",
       "      <th>4</th>\n",
       "      <td>ACBDCBBDCDCBDCDCDDCBBCCCDBCBCDBCBCBDDBCBDDCCCBBDB</td>\n",
       "      <td>abbaaccabcacaccabacabaaccababbbacabbbaacacbcba...</td>\n",
       "    </tr>\n",
       "  </tbody>\n",
       "</table>\n",
       "</div>"
      ],
      "text/plain": [
       "                                                 AAs  \\\n",
       "0  ADBCCCCBCDBCDDCCCCCCDDBBBCDCDCCCBCDCDDCDCDDDBCCDB   \n",
       "1  ACBDDDCCCDCCDCCDBBBCBDCBDBDCBBDBBDCDBDBCDCCCBDDCB   \n",
       "2  ADDBCCCDBDCCDCDBDBDCCDDBBCBCCBDDBCBCBCBDDDDBDCDBB   \n",
       "3  ABCDCDCBCBCCCBBCCCBBBCCBBDBDBCDCCBBCBDBBCBDDDCBDB   \n",
       "4  ACBDCBBDCDCBDCDCDDCBBCCCDBCBCDBCBCBDDBCBDDCCCBBDB   \n",
       "\n",
       "                                                 CDs  \n",
       "0  abbbacbccbbcbaacbcbbacbccabbbababababacbcacaac...  \n",
       "1  aabaaccacacacbbcbacababacababacaacacacbcaccabc...  \n",
       "2  abbbcaacbcbccbcaaccabacbcababbaccaaccabababbca...  \n",
       "3  aaacbccabacabcacbcacbcbacbacacbcbcbaacacacbcba...  \n",
       "4  abbaaccabcacaccabacabaaccababbbacabbbaacacbcba...  "
      ]
     },
     "execution_count": 4,
     "metadata": {},
     "output_type": "execute_result"
    }
   ],
   "source": [
    "synthetic_data.head()"
   ]
  },
  {
   "cell_type": "code",
   "execution_count": null,
   "metadata": {},
   "outputs": [],
   "source": []
  }
 ],
 "metadata": {
  "kernelspec": {
   "display_name": "venv",
   "language": "python",
   "name": "python3"
  },
  "language_info": {
   "codemirror_mode": {
    "name": "ipython",
    "version": 3
   },
   "file_extension": ".py",
   "mimetype": "text/x-python",
   "name": "python",
   "nbconvert_exporter": "python",
   "pygments_lexer": "ipython3",
   "version": "3.8.10"
  },
  "orig_nbformat": 4
 },
 "nbformat": 4,
 "nbformat_minor": 2
}
