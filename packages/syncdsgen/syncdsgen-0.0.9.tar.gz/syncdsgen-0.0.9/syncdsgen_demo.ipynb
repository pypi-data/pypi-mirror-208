{
 "cells": [
  {
   "attachments": {},
   "cell_type": "markdown",
   "metadata": {},
   "source": [
    "# SynCDsGen: Synthetic Coding Sequences Generator (Demo)"
   ]
  },
  {
   "attachments": {},
   "cell_type": "markdown",
   "metadata": {},
   "source": [
    "The goal of this notebook is to show how to use the SynCDsGen module."
   ]
  },
  {
   "cell_type": "code",
   "execution_count": 4,
   "metadata": {},
   "outputs": [],
   "source": [
    "exit()"
   ]
  },
  {
   "cell_type": "code",
   "execution_count": 9,
   "metadata": {},
   "outputs": [],
   "source": [
    "import torch\n",
    "import SynCDsGen\n",
    "import re"
   ]
  },
  {
   "attachments": {},
   "cell_type": "markdown",
   "metadata": {},
   "source": [
    "## Generate data from a purely stochastic/Markov type model"
   ]
  },
  {
   "cell_type": "code",
   "execution_count": 10,
   "metadata": {},
   "outputs": [],
   "source": [
    "#define and configure the data generator\n",
    "conf = SynCDsGen.SyncCDsGeneratorConf(nb_codons=10, nb_AAs=4, codon_length=2)"
   ]
  },
  {
   "cell_type": "code",
   "execution_count": 14,
   "metadata": {},
   "outputs": [
    {
     "data": {
      "text/plain": [
       "tensor([[0.0000, 0.0000, 0.5000, 0.5000],\n",
       "        [0.0000, 0.0000, 0.5000, 0.5000],\n",
       "        [0.0000, 0.0000, 0.5000, 0.5000],\n",
       "        [0.0000, 0.0000, 0.5000, 0.5000]])"
      ]
     },
     "execution_count": 14,
     "metadata": {},
     "output_type": "execute_result"
    }
   ],
   "source": [
    "conf.transition_prob_t"
   ]
  },
  {
   "cell_type": "code",
   "execution_count": 2,
   "metadata": {},
   "outputs": [],
   "source": [
    "#define and configure the data generator\n",
    "conf = SynCDsGen.SyncCDsGeneratorConf()\n",
    "\n",
    "conf.bases = ['a', 'b', 'c']\n",
    "conf.codons = ['aa', 'ab', 'ac', 'ba', 'bb', 'bc', 'ca', 'cb']\n",
    "conf.start_codons = ['aa', 'ab']\n",
    "conf.stop_codons = ['ac']\n",
    "conf.AAs = ['A', 'B', 'C', 'D']\n",
    "conf.translation_dict = {\n",
    "    'A':  ['aa', 'ab'],\n",
    "    'B': ['ac'],\n",
    "    'C': ['ba', 'bc', 'bb'],\n",
    "    'D': ['ca', 'cb']\n",
    "}\n",
    "conf.transition_prob_t = torch.Tensor([[0,  0, 1/2, 1/2],\n",
    "                            [0, 0, 1/2, 1/2],\n",
    "                            [0, 0, 1/2, 1/2],\n",
    "                            [0, 0, 1/2, 1/2]])\n",
    "\n",
    "conf.emission_prob_t = torch.Tensor([[1/2, 1/2, 0.0],\n",
    "                          [1, 0.0, 0.0],\n",
    "                          [0.6, 0.2, 0.2],\n",
    "                          [0.7, 0.3, 0.0]])"
   ]
  },
  {
   "cell_type": "code",
   "execution_count": 6,
   "metadata": {},
   "outputs": [],
   "source": [
    "import torch\n",
    "\n",
    "tensor = torch.randn(3, 3)"
   ]
  },
  {
   "cell_type": "code",
   "execution_count": 8,
   "metadata": {},
   "outputs": [
    {
     "data": {
      "text/plain": [
       "tensor([[ 5.9571e-01,  1.0000e+00,  1.3763e-03],\n",
       "        [-7.2472e-01,  1.0000e+00, -4.3362e-01],\n",
       "        [-1.5265e+00,  1.0000e+00, -2.8351e-01]])"
      ]
     },
     "execution_count": 8,
     "metadata": {},
     "output_type": "execute_result"
    }
   ],
   "source": [
    "tensor[:, 1] = 1\n",
    "\n",
    "tensor"
   ]
  },
  {
   "cell_type": "code",
   "execution_count": 4,
   "metadata": {},
   "outputs": [],
   "source": [
    "generator = SynCDsGen.StochasticSynCDsGenerator(conf)\n",
    "synthetic_data, _, _ = generator.sample(length=100, n_samples=250000)"
   ]
  },
  {
   "cell_type": "code",
   "execution_count": 6,
   "metadata": {},
   "outputs": [
    {
     "data": {
      "text/html": [
       "<div>\n",
       "<style scoped>\n",
       "    .dataframe tbody tr th:only-of-type {\n",
       "        vertical-align: middle;\n",
       "    }\n",
       "\n",
       "    .dataframe tbody tr th {\n",
       "        vertical-align: top;\n",
       "    }\n",
       "\n",
       "    .dataframe thead th {\n",
       "        text-align: right;\n",
       "    }\n",
       "</style>\n",
       "<table border=\"1\" class=\"dataframe\">\n",
       "  <thead>\n",
       "    <tr style=\"text-align: right;\">\n",
       "      <th></th>\n",
       "      <th>AAs</th>\n",
       "      <th>CDs</th>\n",
       "    </tr>\n",
       "  </thead>\n",
       "  <tbody>\n",
       "    <tr>\n",
       "      <th>0</th>\n",
       "      <td>ADCB</td>\n",
       "      <td>aacabaac</td>\n",
       "    </tr>\n",
       "    <tr>\n",
       "      <th>1</th>\n",
       "      <td>ADCB</td>\n",
       "      <td>aacabcac</td>\n",
       "    </tr>\n",
       "    <tr>\n",
       "      <th>2</th>\n",
       "      <td>ACDB</td>\n",
       "      <td>abcbcaac</td>\n",
       "    </tr>\n",
       "    <tr>\n",
       "      <th>3</th>\n",
       "      <td>ADCB</td>\n",
       "      <td>aabbbaac</td>\n",
       "    </tr>\n",
       "    <tr>\n",
       "      <th>4</th>\n",
       "      <td>ADCB</td>\n",
       "      <td>abcabcac</td>\n",
       "    </tr>\n",
       "  </tbody>\n",
       "</table>\n",
       "</div>"
      ],
      "text/plain": [
       "    AAs       CDs\n",
       "0  ADCB  aacabaac\n",
       "1  ADCB  aacabcac\n",
       "2  ACDB  abcbcaac\n",
       "3  ADCB  aabbbaac\n",
       "4  ADCB  abcabcac"
      ]
     },
     "execution_count": 6,
     "metadata": {},
     "output_type": "execute_result"
    }
   ],
   "source": [
    "synthetic_data.head()"
   ]
  },
  {
   "attachments": {},
   "cell_type": "markdown",
   "metadata": {},
   "source": [
    "## Generate synthetic data with conditional dependence on previously translated sequence/patterns"
   ]
  },
  {
   "cell_type": "code",
   "execution_count": 2,
   "metadata": {},
   "outputs": [],
   "source": [
    "conf = SynCDsGen.SyncCDsGeneratorConf()\n",
    "\n",
    "conf.bases = ['a', 'b', 'c']\n",
    "conf.codons = ['aa', 'ab', 'ac', 'ba', 'ca', 'bb', 'bc', 'cb', 'cc']\n",
    "conf.start_codons = ['aa', 'ab']\n",
    "#STOP_CODONS = ['cc']\n",
    "conf.AAs = ['A', 'B', 'C', 'D']\n",
    "conf.translation_dict = {\n",
    "    'A':  ['aa', 'ab'],\n",
    "    'B': ['ac'],\n",
    "    'C': ['ba', 'bc', 'cb'],\n",
    "    'D': ['ca', 'bb']\n",
    "}\n",
    "conf.transition_prob_t = torch.Tensor([[0,  1/3, 1/3, 1/3],\n",
    "                            [0, 1/3, 1/3, 1/3],\n",
    "                            [0, 1/3, 1/3, 1/3],\n",
    "                            [0, 1/3, 1/3, 1/3]])\n",
    "\n",
    "conf.emission_prob_t = torch.Tensor([[1/2, 1/2, 0.0],\n",
    "                          [1, 0.0, 0.0],\n",
    "                          [0.6, 0.2, 0.2],\n",
    "                          [0.7, 0.3, 0.0]])\n",
    "\n",
    "conf.constraints_dict = {\n",
    "    r\".*A$\": {\n",
    "        'C': torch.Tensor([1, 0, 0])\n",
    "    },\n",
    "    r\".*B$\": {\n",
    "        'C': torch.Tensor([0, 1, 0])\n",
    "    }\n",
    "}"
   ]
  },
  {
   "cell_type": "code",
   "execution_count": 3,
   "metadata": {},
   "outputs": [],
   "source": [
    "generator = SynCDsGen.AutoregressiveSynCDsGenerator(conf)\n",
    "\n",
    "synthetic_data = generator.sample()"
   ]
  },
  {
   "cell_type": "code",
   "execution_count": 4,
   "metadata": {},
   "outputs": [
    {
     "data": {
      "text/html": [
       "<div>\n",
       "<style scoped>\n",
       "    .dataframe tbody tr th:only-of-type {\n",
       "        vertical-align: middle;\n",
       "    }\n",
       "\n",
       "    .dataframe tbody tr th {\n",
       "        vertical-align: top;\n",
       "    }\n",
       "\n",
       "    .dataframe thead th {\n",
       "        text-align: right;\n",
       "    }\n",
       "</style>\n",
       "<table border=\"1\" class=\"dataframe\">\n",
       "  <thead>\n",
       "    <tr style=\"text-align: right;\">\n",
       "      <th></th>\n",
       "      <th>AAs</th>\n",
       "      <th>CDs</th>\n",
       "    </tr>\n",
       "  </thead>\n",
       "  <tbody>\n",
       "    <tr>\n",
       "      <th>0</th>\n",
       "      <td>ADBCCCCBCDBCDDCCCCCCDDBBBCDCDCCCBCDCDDCDCDDDBCCDB</td>\n",
       "      <td>abbbacbccbbcbaacbcbbacbccabbbababababacbcacaac...</td>\n",
       "    </tr>\n",
       "    <tr>\n",
       "      <th>1</th>\n",
       "      <td>ACBDDDCCCDCCDCCDBBBCBDCBDBDCBBDBBDCDBDBCDCCCBDDCB</td>\n",
       "      <td>aabaaccacacacbbcbacababacababacaacacacbcaccabc...</td>\n",
       "    </tr>\n",
       "    <tr>\n",
       "      <th>2</th>\n",
       "      <td>ADDBCCCDBDCCDCDBDBDCCDDBBCBCCBDDBCBCBCBDDDDBDCDBB</td>\n",
       "      <td>abbbcaacbcbccbcaaccabacbcababbaccaaccabababbca...</td>\n",
       "    </tr>\n",
       "    <tr>\n",
       "      <th>3</th>\n",
       "      <td>ABCDCDCBCBCCCBBCCCBBBCCBBDBDBCDCCBBCBDBBCBDDDCBDB</td>\n",
       "      <td>aaacbccabacabcacbcacbcbacbacacbcbcbaacacacbcba...</td>\n",
       "    </tr>\n",
       "    <tr>\n",
       "      <th>4</th>\n",
       "      <td>ACBDCBBDCDCBDCDCDDCBBCCCDBCBCDBCBCBDDBCBDDCCCBBDB</td>\n",
       "      <td>abbaaccabcacaccabacabaaccababbbacabbbaacacbcba...</td>\n",
       "    </tr>\n",
       "  </tbody>\n",
       "</table>\n",
       "</div>"
      ],
      "text/plain": [
       "                                                 AAs  \\\n",
       "0  ADBCCCCBCDBCDDCCCCCCDDBBBCDCDCCCBCDCDDCDCDDDBCCDB   \n",
       "1  ACBDDDCCCDCCDCCDBBBCBDCBDBDCBBDBBDCDBDBCDCCCBDDCB   \n",
       "2  ADDBCCCDBDCCDCDBDBDCCDDBBCBCCBDDBCBCBCBDDDDBDCDBB   \n",
       "3  ABCDCDCBCBCCCBBCCCBBBCCBBDBDBCDCCBBCBDBBCBDDDCBDB   \n",
       "4  ACBDCBBDCDCBDCDCDDCBBCCCDBCBCDBCBCBDDBCBDDCCCBBDB   \n",
       "\n",
       "                                                 CDs  \n",
       "0  abbbacbccbbcbaacbcbbacbccabbbababababacbcacaac...  \n",
       "1  aabaaccacacacbbcbacababacababacaacacacbcaccabc...  \n",
       "2  abbbcaacbcbccbcaaccabacbcababbaccaaccabababbca...  \n",
       "3  aaacbccabacabcacbcacbcbacbacacbcbcbaacacacbcba...  \n",
       "4  abbaaccabcacaccabacabaaccababbbacabbbaacacbcba...  "
      ]
     },
     "execution_count": 4,
     "metadata": {},
     "output_type": "execute_result"
    }
   ],
   "source": [
    "synthetic_data.head()"
   ]
  },
  {
   "cell_type": "code",
   "execution_count": null,
   "metadata": {},
   "outputs": [],
   "source": []
  }
 ],
 "metadata": {
  "kernelspec": {
   "display_name": "venv",
   "language": "python",
   "name": "python3"
  },
  "language_info": {
   "codemirror_mode": {
    "name": "ipython",
    "version": 3
   },
   "file_extension": ".py",
   "mimetype": "text/x-python",
   "name": "python",
   "nbconvert_exporter": "python",
   "pygments_lexer": "ipython3",
   "version": "3.8.10"
  },
  "orig_nbformat": 4
 },
 "nbformat": 4,
 "nbformat_minor": 2
}
