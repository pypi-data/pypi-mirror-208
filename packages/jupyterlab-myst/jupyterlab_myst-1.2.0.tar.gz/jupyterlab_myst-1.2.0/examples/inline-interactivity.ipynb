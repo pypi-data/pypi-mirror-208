{
 "cells": [
  {
   "cell_type": "markdown",
   "id": "613eaf50-e4f0-4328-b0be-c246fb216577",
   "metadata": {
    "user_expressions": []
   },
   "source": [
    "---\n",
    "title: Inline Interactivity in Jupyter using MyST\n",
    "subtitle: Using inline widgets in JupyterLab markdown cells\n",
    "author:\n",
    "  - name: Rowan Cockett\n",
    "    affiliations: Executable Books; Curvenote\n",
    "    orcid: 0000-0002-7859-8394\n",
    "    email: rowan@curvenote.com\n",
    "  - name: Angus Hollands\n",
    "    affiliations: Executable Books\n",
    "  - name: Steve Purves\n",
    "    affiliations: Executable Books; Curvenote\n",
    "date: 2023/02/20\n",
    "---\n",
    "\n",
    "The [JupyterLab MyST extension](https://github.com/executablebooks/jupyterlab-myst) allows you to have MyST renderer in your markdown cells that includes interactivity and inline-evaluation."
   ]
  },
  {
   "cell_type": "markdown",
   "id": "d3c1dba2-889d-4817-8d48-83d45c03a337",
   "metadata": {
    "user_expressions": [
     {
      "expression": "1+1",
      "result": {
       "data": {
        "text/plain": "2"
       },
       "metadata": {},
       "status": "ok"
      }
     }
    ]
   },
   "source": [
    "This is done through the `` {eval}`1+1` `` role, which results in {eval}`1+1`. The extension can also access variables in the kernel.\n",
    "\n",
    ":::{warning} Syntax is Subject to Change\n",
    ":class: dropdown\n",
    "The current syntax is based on a myst role, which may change in the future -- for example to be closer to an inline expression `${}`. This will go through a MyST enhancement proposal, and the `{eval}` role will likely still be supported.\n",
    ":::"
   ]
  },
  {
   "cell_type": "code",
   "execution_count": 9,
   "id": "90dffa46-b084-4b24-a650-e5f5a9aa526e",
   "metadata": {
    "tags": []
   },
   "outputs": [],
   "source": [
    "import numpy as np\n",
    "array = np.arange(4)"
   ]
  },
  {
   "cell_type": "markdown",
   "id": "e8af4aa1-9d91-494e-9a76-4d57a611d9e0",
   "metadata": {
    "user_expressions": [
     {
      "expression": "array",
      "result": {
       "data": {
        "text/plain": "array([0, 1, 2, 3])"
       },
       "metadata": {},
       "status": "ok"
      }
     },
     {
      "expression": "array.sum()",
      "result": {
       "data": {
        "text/plain": "6"
       },
       "metadata": {},
       "status": "ok"
      }
     },
     {
      "expression": "array.max()",
      "result": {
       "data": {
        "text/plain": "3"
       },
       "metadata": {},
       "status": "ok"
      }
     }
    ]
   },
   "source": [
    "Let's consider the following array: {eval}`array`.\n",
    "\n",
    "We can compute the total: {eval}`array.sum()` and the maximum value is {eval}`array.max()`.\n",
    "\n",
    "This is done through using MyST syntax: `` {eval}`array.sum()` `` and `` {eval}`array.max()` ``, respectively."
   ]
  },
  {
   "cell_type": "markdown",
   "id": "7ed74234-5230-4cdc-9e26-21fb1aca70a2",
   "metadata": {
    "user_expressions": []
   },
   "source": [
    "## Displaying text values computed by widgets\n",
    "\n",
    "The example below builds a small widget that updates several values, and we then display them in markdown cells. We use a [`widgets.Label` object](https://ipywidgets.readthedocs.io/en/stable/examples/Widget%20List.html?#Label), which stores a _string_ value and displays it as formatted html."
   ]
  },
  {
   "cell_type": "code",
   "execution_count": 10,
   "id": "5ffba1f7-e455-4dce-a645-38988d97b01b",
   "metadata": {
    "tags": []
   },
   "outputs": [],
   "source": [
    "import ipywidgets as widgets\n",
    "\n",
    "cookiesSlider = widgets.IntSlider(min=0, max=30, step=1, value=10, description=\"Cookies: \")\n",
    "cookiesText = widgets.BoundedIntText(\n",
    "    value=10,\n",
    "    min=0,\n",
    "    max=30,\n",
    "    step=1,\n",
    ")\n",
    "widgetLink = widgets.jslink((cookiesSlider, 'value'), (cookiesText, 'value'))\n",
    "\n",
    "caloriesPerCookie = 50\n",
    "dailyCalories = 2100\n",
    "\n",
    "calories = widgets.Label(value=f'{cookiesSlider.value * caloriesPerCookie}')\n",
    "def fc(n):\n",
    "    calories.value = f'{n[\"owner\"].value * caloriesPerCookie}'\n",
    "cookiesSlider.observe(fc)\n",
    "\n",
    "def pct_cookie(cookies):\n",
    "    return f\"{cookies * caloriesPerCookie / dailyCalories * 100:.1f}\"\n",
    "\n",
    "percent = widgets.Label(value=pct_cookie(cookiesSlider.value))\n",
    "\n",
    "def fp(change):\n",
    "    percent.value = pct_cookie(change['new'])\n",
    "    \n",
    "cookiesSlider.observe(fp, 'value')"
   ]
  },
  {
   "cell_type": "markdown",
   "id": "b8ac6e3c-2982-4921-a882-6b4eeaffe936",
   "metadata": {
    "user_expressions": [
     {
      "expression": "cookiesText",
      "result": {
       "data": {
        "application/vnd.jupyter.widget-view+json": {
         "model_id": "164397fa815540bda67c6789e23fc2f2",
         "version_major": 2,
         "version_minor": 0
        },
        "text/plain": "BoundedIntText(value=10, max=30)"
       },
       "metadata": {},
       "status": "ok"
      }
     },
     {
      "expression": "calories",
      "result": {
       "data": {
        "application/vnd.jupyter.widget-view+json": {
         "model_id": "55495b9c0d0a4752b156300c63c1727f",
         "version_major": 2,
         "version_minor": 0
        },
        "text/plain": "Label(value='500')"
       },
       "metadata": {},
       "status": "ok"
      }
     },
     {
      "expression": "percent",
      "result": {
       "data": {
        "application/vnd.jupyter.widget-view+json": {
         "model_id": "99043a572d5b4229ad08203899d80425",
         "version_major": 2,
         "version_minor": 0
        },
        "text/plain": "Label(value='23.8')"
       },
       "metadata": {},
       "status": "ok"
      }
     },
     {
      "expression": "cookiesSlider",
      "result": {
       "data": {
        "application/vnd.jupyter.widget-view+json": {
         "model_id": "47a2a63cb5304db28dd220ff347fb093",
         "version_major": 2,
         "version_minor": 0
        },
        "text/plain": "IntSlider(value=10, description='Cookies: ', max=30)"
       },
       "metadata": {},
       "status": "ok"
      }
     }
    ]
   },
   "source": [
    ":::{important} Calculate Consuming Cookie Calories 🍪 🧮\n",
    "When you eat {eval}`cookiesText` cookies, you consume {eval}`calories` calories. \n",
    "\n",
    "That's {eval}`percent`% of your recommended daily calories.\n",
    "\n",
    ":::\n",
    "\n",
    "You can also edit this through a slider if you want: {eval}`cookiesSlider`\n",
    "\n",
    ":::{note} Improvements\n",
    ":class: dropdown\n",
    "There is a lot to improve both for formatting (e.g. format the numbering) and for the verbosity of the above code for linking and calculating the widgets.\n",
    "These are probably going to be a combination of a MyST library for working with simple inline widgets and showing numbers, as well as improvements and tweaks to the inline renderers for the mime bundles.\n",
    "\n",
    "But you can already do things! 🚀\n",
    ":::"
   ]
  },
  {
   "cell_type": "markdown",
   "id": "bed29f27-b96d-4764-aa59-cd6fed8a9c69",
   "metadata": {
    "user_expressions": []
   },
   "source": [
    "## Math rendering\n",
    "\n",
    "You can create mathematical content with direct evaluation of expressions by combining Sympy's LaTeX output and Jupyter's built-in math rendering. Consider the following simple example:"
   ]
  },
  {
   "cell_type": "code",
   "execution_count": 11,
   "id": "17290f9d-034c-41d0-828b-5af14e14edfa",
   "metadata": {
    "tags": []
   },
   "outputs": [],
   "source": [
    "import sympy as sy\n",
    "x = sy.Symbol('x')\n",
    "expr = x**2 + x + 1\n",
    "I = sy.Integral(expr, (x, 0, 1))"
   ]
  },
  {
   "cell_type": "markdown",
   "id": "b10ff885-9088-442a-b5bd-410aa9a4a45a",
   "metadata": {
    "user_expressions": [
     {
      "expression": "I",
      "result": {
       "data": {
        "text/latex": "$\\displaystyle \\int\\limits_{0}^{1} \\left(x^{2} + x + 1\\right)\\, dx$",
        "text/plain": "Integral(x**2 + x + 1, (x, 0, 1))"
       },
       "metadata": {},
       "status": "ok"
      }
     },
     {
      "expression": "I",
      "result": {
       "data": {
        "text/latex": "$\\displaystyle \\int\\limits_{0}^{1} \\left(x^{2} + x + 1\\right)\\, dx$",
        "text/plain": "Integral(x**2 + x + 1, (x, 0, 1))"
       },
       "metadata": {},
       "status": "ok"
      }
     },
     {
      "expression": "I.doit()",
      "result": {
       "data": {
        "text/latex": "$\\displaystyle \\frac{11}{6}$",
        "text/plain": "11/6"
       },
       "metadata": {},
       "status": "ok"
      }
     }
    ]
   },
   "source": [
    "The integral {eval}`I` can be analytically computed:\n",
    "\n",
    "{eval}`I` = {eval}`I.doit()`.\n",
    "\n",
    ":::{warning} Math rendering is still unstable\n",
    "\n",
    "We've noticed issues with this feature - rendering is slow and sometimes weird glitches orccur. [We're tracking it](https://github.com/executablebooks/jupyterlab-myst/issues/96).\n",
    ":::"
   ]
  },
  {
   "cell_type": "markdown",
   "id": "bf3319ef-6a71-46b8-a311-b33845da400d",
   "metadata": {
    "user_expressions": []
   },
   "source": [
    "## Markdown, videos, images and more\n",
    "\n",
    "Note that you can use the `Markdown` object built into `IPython.display` to programatically compute Markdown results that will work as if you had typed them. Here's a simple example of constructing a predictable link, that of a YouTube video, based on its video ID:"
   ]
  },
  {
   "cell_type": "code",
   "execution_count": 12,
   "id": "7e96d874-9717-4100-b8a2-582ea8f2952b",
   "metadata": {
    "tags": []
   },
   "outputs": [],
   "source": [
    "from IPython.display import Markdown, YouTubeVideo\n",
    "\n",
    "def ytlink(vid):\n",
    "    return Markdown(f\"[YouTube Video](https://www.youtube.com/watch?v={vid})\")"
   ]
  },
  {
   "cell_type": "markdown",
   "id": "e884e9a8-9d2e-4163-8118-923980bdc38b",
   "metadata": {
    "user_expressions": [
     {
      "expression": "ytlink('NxSNVt9XsCI')",
      "result": {
       "data": {
        "text/markdown": "[YouTube Video](https://www.youtube.com/watch?v=NxSNVt9XsCI)",
        "text/plain": "<IPython.core.display.Markdown object>"
       },
       "metadata": {},
       "status": "ok"
      }
     }
    ]
   },
   "source": [
    "This {eval}`ytlink('NxSNVt9XsCI')` is a tutorial on how to use MyST for writing scientific documents.\n",
    "\n",
    ":::{warning} Inline videos don't work yet\n",
    "\n",
    "Note that the following code should produce a working video, as you can see in the next cell. This is not currently working, but [we're tracking it](https://github.com/executablebooks/jupyterlab-myst/issues/97).\n",
    "\n",
    "```\n",
    "{eval}`YouTubeVideo('NxSNVt9XsCI')`\n",
    "```\n",
    ":::"
   ]
  },
  {
   "cell_type": "code",
   "execution_count": 13,
   "id": "517c9149-a44a-46fd-b336-c017a9eba523",
   "metadata": {
    "tags": []
   },
   "outputs": [
    {
     "data": {
      "image/jpeg": "[encoded data removed]",
      "text/html": [
       "\n",
       "        <iframe\n",
       "            width=\"400\"\n",
       "            height=\"300\"\n",
       "            src=\"https://www.youtube.com/embed/NxSNVt9XsCI\"\n",
       "            frameborder=\"0\"\n",
       "            allowfullscreen\n",
       "            \n",
       "        ></iframe>\n",
       "        "
      ],
      "text/plain": [
       "<IPython.lib.display.YouTubeVideo at 0x12a1dc1c0>"
      ]
     },
     "execution_count": 13,
     "metadata": {},
     "output_type": "execute_result"
    }
   ],
   "source": [
    "from IPython.display import YouTubeVideo\n",
    "YouTubeVideo('NxSNVt9XsCI')"
   ]
  },
  {
   "cell_type": "code",
   "execution_count": 14,
   "id": "600e74dc-6c54-4cb4-91c3-0e5107fcf589",
   "metadata": {
    "tags": []
   },
   "outputs": [],
   "source": [
    "from IPython.display import Image, HTML\n",
    "\n",
    "i = Image(url='https://source.unsplash.com/random/400x50?sunset')"
   ]
  },
  {
   "cell_type": "markdown",
   "id": "edafa8a3-8dcd-4db3-a4cf-90c6aaf461bb",
   "metadata": {
    "user_expressions": [
     {
      "expression": "i",
      "result": {
       "data": {
        "text/html": "<img src=\"https://source.unsplash.com/random/400x50?sunset\"/>",
        "text/plain": "<IPython.core.display.Image object>"
       },
       "metadata": {},
       "status": "ok"
      }
     }
    ]
   },
   "source": [
    "This should be an inline image of a sunset: {eval}`i`"
   ]
  },
  {
   "cell_type": "code",
   "execution_count": 15,
   "id": "7a29588f-afb7-4e2b-99fb-132c6ab04372",
   "metadata": {
    "tags": []
   },
   "outputs": [],
   "source": [
    "import numpy as np\n",
    "import matplotlib.pyplot as plt\n",
    "\n",
    "def spark(data):\n",
    "    \"\"\"A very simple sparkline.\n",
    "    \"\"\"\n",
    "    fig, ax = plt.subplots(figsize=(10,2))\n",
    "    ax.plot(data, 'b-')\n",
    "    ax.axhline(c='grey', alpha=0.5);\n",
    "    ax.axis('off')\n",
    "    fig.tight_layout()\n",
    "    plt.close(fig)\n",
    "    return fig, ax\n",
    "\n",
    "# Step 1: Predict the stock market, with surprising accuracy:\n",
    "data = np.cumsum(np.random.rand(1000)-0.5)\n",
    "data -= np.mean(data)\n",
    "\n",
    "stocks, ax1 = spark(data)\n",
    "annotated, ax2 = spark(data)\n",
    "ax2.axvspan(450, 560, color='red', alpha=0.5)\n",
    "ax2.axvspan(680, 740, color='green', alpha=0.5);"
   ]
  },
  {
   "cell_type": "markdown",
   "id": "60a959ef-e31b-4383-9865-982e574debd3",
   "metadata": {
    "user_expressions": [
     {
      "expression": "stocks",
      "result": {
       "data": {
        "image/png": "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\n",
        "text/plain": "<Figure size 1000x200 with 1 Axes>"
       },
       "metadata": {},
       "status": "ok"
      }
     },
     {
      "expression": "annotated",
      "result": {
       "data": {
        "image/png": "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\n",
        "text/plain": "<Figure size 1000x200 with 1 Axes>"
       },
       "metadata": {},
       "status": "ok"
      }
     }
    ]
   },
   "source": [
    "\n",
    "If we look at the following stock price for [Apple](https://en.wikipedia.org/wiki/Apple_Inc.) ({eval}`stocks`) we can see that in 2003, they started selling [computers](https://en.wikipedia.org/wiki/MacBook_Pro), in the red region and their stock went crazy once the investment paid off ({eval}`annotated`).[^note]\n",
    "\n",
    "[^note]: Both the graphs are fake, but pretty cool right!  "
   ]
  },
  {
   "cell_type": "code",
   "execution_count": 16,
   "id": "463cdcbe-066d-4187-bf4a-d09b4233666f",
   "metadata": {
    "tags": []
   },
   "outputs": [],
   "source": [
    "text_hover = HTML('<span onmouseover=\"this.innerText=\\'💚\\'\" onmouseout=\"this.innerText=\\'🎉\\'\">❤️</span>');"
   ]
  },
  {
   "cell_type": "markdown",
   "id": "dd711f73-94eb-4da4-ba01-2ac822450a2f",
   "metadata": {
    "tags": [],
    "user_expressions": [
     {
      "expression": "text_hover",
      "result": {
       "data": {
        "text/html": "<span onmouseover=\"this.innerText='💚'\" onmouseout=\"this.innerText='🎉'\">❤️</span>",
        "text/plain": "<IPython.core.display.HTML object>"
       },
       "metadata": {},
       "status": "ok"
      }
     }
    ]
   },
   "source": [
    "Try hovering over this element[^trust]: {eval}`text_hover`\n",
    "\n",
    "[^trust]: You may need to set your notebook to trusted to do this (open the Command Palette from the `View` menu and type \"trust\")!"
   ]
  }
 ],
 "metadata": {
  "kernelspec": {
   "display_name": "Python 3 (ipykernel)",
   "language": "python",
   "name": "python3"
  },
  "language_info": {
   "codemirror_mode": {
    "name": "ipython",
    "version": 3
   },
   "file_extension": ".py",
   "mimetype": "text/x-python",
   "name": "python",
   "nbconvert_exporter": "python",
   "pygments_lexer": "ipython3",
   "version": "3.10.6"
  },
  "widgets": {
   "application/vnd.jupyter.widget-state+json": {
    "state": {},
    "version_major": 2,
    "version_minor": 0
   }
  }
 },
 "nbformat": 4,
 "nbformat_minor": 5
}
