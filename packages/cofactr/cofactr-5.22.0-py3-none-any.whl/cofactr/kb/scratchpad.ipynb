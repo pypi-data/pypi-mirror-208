{
 "cells": [
  {
   "cell_type": "code",
   "execution_count": null,
   "metadata": {},
   "outputs": [],
   "source": [
    "from cofactr.graph import GraphAPI\n",
    "\n",
    "from cofactr.schema import (\n",
    "    ProductSchemaName\n",
    ")"
   ]
  },
  {
   "cell_type": "code",
   "execution_count": null,
   "metadata": {},
   "outputs": [],
   "source": [
    "graph = GraphAPI(client_id=\"joseph\", api_key=\"sk_live.gAxQJ8uL.ntua74aFkIa1AI8OXb9iaLqnXqiOxy1y\")"
   ]
  },
  {
   "cell_type": "code",
   "execution_count": null,
   "metadata": {},
   "outputs": [],
   "source": [
    "res = graph.get_products(\n",
    "    query=mpn,\n",
    "    limit=1,\n",
    "    external=False,\n",
    "    schema=ProductSchemaName.FLAGSHIP,\n",
    ")"
   ]
  }
 ],
 "metadata": {
  "kernelspec": {
   "display_name": "cofactr-xS3fZVNL-py3.10",
   "language": "python",
   "name": "python3"
  },
  "language_info": {
   "name": "python",
   "version": "3.10.10"
  },
  "orig_nbformat": 4
 },
 "nbformat": 4,
 "nbformat_minor": 2
}
