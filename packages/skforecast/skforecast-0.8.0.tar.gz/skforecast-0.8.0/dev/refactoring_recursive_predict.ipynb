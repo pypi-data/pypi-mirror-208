{
 "cells": [
  {
   "cell_type": "code",
   "execution_count": 8,
   "metadata": {},
   "outputs": [],
   "source": [
    "import pandas as pd \n",
    "import numpy as np\n",
    "from pytictoc import TicToc\n",
    "import warnings"
   ]
  },
  {
   "cell_type": "code",
   "execution_count": 24,
   "metadata": {},
   "outputs": [
    {
     "name": "stdout",
     "output_type": "stream",
     "text": [
      "Elapsed time is 0.002886 seconds.\n"
     ]
    }
   ],
   "source": [
    "t = TicToc() \n",
    "\n",
    "# Numpy verion\n",
    "# ======================================================================================\n",
    "steps = 100\n",
    "last_window = np.random.normal(size=100)\n",
    "lags = np.arange(5) + 1\n",
    "exog = np.random.normal(size=steps)\n",
    "predictions = np.full(shape=steps, fill_value=np.nan)\n",
    "\n",
    "t.tic()\n",
    "for i in range(steps):\n",
    "    X = last_window[-lags].reshape(1, -1)\n",
    "    if exog is not None:\n",
    "        X = np.column_stack((X, exog[i, ].reshape(1, -1)))\n",
    "    with warnings.catch_warnings():\n",
    "        # Suppress scikit-learn warning: \"X does not have valid feature names,\n",
    "        # but NoOpTransformer was fitted with feature names\".\n",
    "\n",
    "        warnings.simplefilter(\"ignore\")\n",
    "        prediction = np.array([999])\n",
    "        predictions[i] = prediction.ravel()[0]\n",
    "\n",
    "    # Update `last_window` values. The first position is discarded and \n",
    "    # the new prediction is added at the end.\n",
    "    last_window = np.append(last_window[1:], prediction)\n",
    "t.toc()"
   ]
  },
  {
   "cell_type": "code",
   "execution_count": 33,
   "metadata": {},
   "outputs": [
    {
     "name": "stdout",
     "output_type": "stream",
     "text": [
      "Elapsed time is 0.025784 seconds.\n"
     ]
    }
   ],
   "source": [
    "t = TicToc() \n",
    "\n",
    "# Pandas verion\n",
    "# ======================================================================================\n",
    "steps = 100\n",
    "last_window = pd.Series(np.random.normal(size=100))\n",
    "lags = np.arange(5) + 1\n",
    "exog = pd.Series(np.random.normal(size=steps))\n",
    "predictions = np.array([np.nan]*steps, dtype=float)\n",
    "\n",
    "n_lags = len(lags)\n",
    "if exog is None:\n",
    "    X = pd.Series([np.nan]*lags, dtype=float)\n",
    "else:\n",
    "    n_exogs = exog.shape[1] if isinstance(exog, pd.DataFrame) else 1\n",
    "    X = pd.Series([np.nan]*(len(lags) + n_exogs), dtype=float)\n",
    "\n",
    "t.tic()\n",
    "for i in range(steps):\n",
    "    X.iloc[:n_lags] = last_window.iloc[-lags]\n",
    "    if exog is not None:\n",
    "        X.iloc[n_lags: ] = exog.iloc[[i, ]]\n",
    "    with warnings.catch_warnings():\n",
    "        # Suppress scikit-learn warning: \"X does not have valid feature names,\n",
    "        # but NoOpTransformer was fitted with feature names\".\n",
    "\n",
    "        warnings.simplefilter(\"ignore\")\n",
    "        prediction = np.array([999])\n",
    "        predictions[i] = prediction.ravel()[0] #TODO: check to do outside numpy of numpyes\n",
    "    # Update `last_window` values. The first position is discarded and \n",
    "    # the new prediction is added at the end.\n",
    "    last_window.iloc[:-1] = last_window.iloc[1:]\n",
    "    last_window[-1] = prediction\n",
    "t.toc()"
   ]
  },
  {
   "cell_type": "code",
   "execution_count": 12,
   "metadata": {},
   "outputs": [
    {
     "name": "stdout",
     "output_type": "stream",
     "text": [
      "Elapsed time is 0.105139 seconds.\n"
     ]
    }
   ],
   "source": [
    "t = TicToc() \n",
    "\n",
    "# pandas verion 2\n",
    "# ======================================================================================\n",
    "steps = 1000\n",
    "last_window = np.random.normal(size=100)\n",
    "lags = np.arange(5) + 1\n",
    "exog = np.random.normal(size=steps)\n",
    "predictions = np.full(shape=steps, fill_value=np.nan)\n",
    "\n",
    "last_window = last_window[-lags]\n",
    "n_lags = len(lags)\n",
    "\n",
    "if exog is None:\n",
    "    X = pd.DataFrame(np.empty(shape=[1, n_lags])) # TODO: ADD THE PROPER DTYPES\n",
    "else:\n",
    "    n_exogs = 1 if exog.ndim == 1 else exog.shape[1]\n",
    "    X = pd.DataFrame(np.empty(shape=[1, n_lags + n_exogs])) # TODO: ADD THE PROPER DTYPES\n",
    "\n",
    "t.tic()\n",
    "for i in range(steps):\n",
    "    X.iloc[:, :n_lags] = last_window\n",
    "    if exog is not None:\n",
    "        X.iloc[:, n_lags: ] = exog[i, ]\n",
    "    \n",
    "    prediction = np.array([999])\n",
    "    predictions[i] = prediction.ravel()[0]\n",
    "\n",
    "    # Update `last_window` values. The first position is discarded and \n",
    "    # the new prediction is added at the end.\n",
    "    last_window = np.append(last_window[1:], prediction)\n",
    "t.toc()\n"
   ]
  },
  {
   "cell_type": "code",
   "execution_count": 19,
   "metadata": {},
   "outputs": [
    {
     "data": {
      "text/plain": [
       "0    True\n",
       "1    True\n",
       "2    True\n",
       "dtype: bool"
      ]
     },
     "execution_count": 19,
     "metadata": {},
     "output_type": "execute_result"
    }
   ],
   "source": [
    "a = pd.Series([1,1,1], dtype=int)\n",
    "b = pd.Series([1,1,1], dtype=float)\n",
    "c = pd.Series([1,1,1], dtype='category')\n",
    "a == b\n",
    "a == c\n"
   ]
  }
 ],
 "metadata": {
  "kernelspec": {
   "display_name": "eda",
   "language": "python",
   "name": "python3"
  },
  "language_info": {
   "codemirror_mode": {
    "name": "ipython",
    "version": 3
   },
   "file_extension": ".py",
   "mimetype": "text/x-python",
   "name": "python",
   "nbconvert_exporter": "python",
   "pygments_lexer": "ipython3",
   "version": "3.10.9"
  },
  "orig_nbformat": 4
 },
 "nbformat": 4,
 "nbformat_minor": 2
}
