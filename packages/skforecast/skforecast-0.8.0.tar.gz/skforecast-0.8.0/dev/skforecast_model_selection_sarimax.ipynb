{
 "cells": [
  {
   "cell_type": "code",
   "execution_count": 15,
   "metadata": {},
   "outputs": [
    {
     "name": "stdout",
     "output_type": "stream",
     "text": [
      "The autoreload extension is already loaded. To reload it, use:\n",
      "  %reload_ext autoreload\n"
     ]
    }
   ],
   "source": [
    "%load_ext autoreload\n",
    "%autoreload 2\n",
    "import sys\n",
    "from pathlib import Path\n",
    "sys.path.insert(1, str(Path.cwd().parent))\n",
    "%config Completer.use_jedi = False"
   ]
  },
  {
   "cell_type": "code",
   "execution_count": 16,
   "metadata": {},
   "outputs": [
    {
     "data": {
      "text/plain": [
       "PosixPath('/home/ximo/Documents/GitHub/skforecast')"
      ]
     },
     "execution_count": 16,
     "metadata": {},
     "output_type": "execute_result"
    }
   ],
   "source": [
    "(Path.cwd().parent)"
   ]
  },
  {
   "cell_type": "code",
   "execution_count": 17,
   "metadata": {},
   "outputs": [],
   "source": [
    "from typing import Union, Tuple, Optional, Any\n",
    "import numpy as np\n",
    "import pandas as pd\n",
    "import warnings\n",
    "import logging\n",
    "from copy import deepcopy\n",
    "from tqdm import tqdm\n",
    "from sklearn.metrics import mean_squared_error \n",
    "from sklearn.metrics import mean_absolute_error\n",
    "from sklearn.metrics import mean_absolute_percentage_error\n",
    "from sklearn.metrics import mean_squared_log_error\n",
    "from sklearn.model_selection import ParameterGrid\n",
    "from sklearn.model_selection import ParameterSampler\n",
    "from sklearn.exceptions import NotFittedError\n",
    "import optuna\n",
    "from optuna.samplers import TPESampler, RandomSampler\n",
    "optuna.logging.set_verbosity(optuna.logging.WARNING) # disable optuna logs\n",
    "from skopt.utils import use_named_args\n",
    "from skopt import gp_minimize\n",
    "\n",
    "logging.basicConfig(\n",
    "    format = '%(name)-10s %(levelname)-5s %(message)s', \n",
    "    level  = logging.INFO,\n",
    ")"
   ]
  },
  {
   "cell_type": "code",
   "execution_count": 18,
   "metadata": {},
   "outputs": [],
   "source": [
    "from skforecast.ForecasterSarimax import ForecasterSarimax\n",
    "from skforecast.model_selection_sarimax import backtesting_sarimax\n",
    "from skforecast.model_selection_sarimax import grid_search_sarimax\n",
    "from pmdarima.arima import ARIMA"
   ]
  },
  {
   "cell_type": "code",
   "execution_count": 19,
   "metadata": {},
   "outputs": [
    {
     "data": {
      "text/html": [
       "<div>\n",
       "<style scoped>\n",
       "    .dataframe tbody tr th:only-of-type {\n",
       "        vertical-align: middle;\n",
       "    }\n",
       "\n",
       "    .dataframe tbody tr th {\n",
       "        vertical-align: top;\n",
       "    }\n",
       "\n",
       "    .dataframe thead th {\n",
       "        text-align: right;\n",
       "    }\n",
       "</style>\n",
       "<table border=\"1\" class=\"dataframe\">\n",
       "  <thead>\n",
       "    <tr style=\"text-align: right;\">\n",
       "      <th></th>\n",
       "      <th>y</th>\n",
       "      <th>exog_1</th>\n",
       "      <th>exog_2</th>\n",
       "    </tr>\n",
       "    <tr>\n",
       "      <th>date</th>\n",
       "      <th></th>\n",
       "      <th></th>\n",
       "      <th></th>\n",
       "    </tr>\n",
       "  </thead>\n",
       "  <tbody>\n",
       "    <tr>\n",
       "      <th>1992-04-01</th>\n",
       "      <td>0.379808</td>\n",
       "      <td>0.958792</td>\n",
       "      <td>1.166029</td>\n",
       "    </tr>\n",
       "    <tr>\n",
       "      <th>1992-05-01</th>\n",
       "      <td>0.361801</td>\n",
       "      <td>0.951993</td>\n",
       "      <td>1.117859</td>\n",
       "    </tr>\n",
       "    <tr>\n",
       "      <th>1992-06-01</th>\n",
       "      <td>0.410534</td>\n",
       "      <td>0.952955</td>\n",
       "      <td>1.067942</td>\n",
       "    </tr>\n",
       "    <tr>\n",
       "      <th>1992-07-01</th>\n",
       "      <td>0.483389</td>\n",
       "      <td>0.958078</td>\n",
       "      <td>1.097376</td>\n",
       "    </tr>\n",
       "    <tr>\n",
       "      <th>1992-08-01</th>\n",
       "      <td>0.475463</td>\n",
       "      <td>0.956370</td>\n",
       "      <td>1.122199</td>\n",
       "    </tr>\n",
       "  </tbody>\n",
       "</table>\n",
       "</div>"
      ],
      "text/plain": [
       "                   y    exog_1    exog_2\n",
       "date                                    \n",
       "1992-04-01  0.379808  0.958792  1.166029\n",
       "1992-05-01  0.361801  0.951993  1.117859\n",
       "1992-06-01  0.410534  0.952955  1.067942\n",
       "1992-07-01  0.483389  0.958078  1.097376\n",
       "1992-08-01  0.475463  0.956370  1.122199"
      ]
     },
     "metadata": {},
     "output_type": "display_data"
    },
    {
     "name": "stdout",
     "output_type": "stream",
     "text": [
      "Train dates : 1992-04-01 00:00:00 --- 2005-06-01 00:00:00  (n=159)\n",
      "Test dates  : 2005-07-01 00:00:00 --- 2008-06-01 00:00:00  (n=36)\n"
     ]
    }
   ],
   "source": [
    "# Data download\n",
    "# ==============================================================================\n",
    "url = 'https://raw.githubusercontent.com/JoaquinAmatRodrigo/skforecast/master/data/h2o_exog.csv'\n",
    "data = pd.read_csv(url, sep=',')\n",
    "\n",
    "# Data preparation\n",
    "# ==============================================================================\n",
    "data = data.rename(columns={'fecha': 'date'})\n",
    "data['date'] = pd.to_datetime(data['date'], format='%Y/%m/%d')\n",
    "data = data.set_index('date')\n",
    "data = data.rename(columns={'x': 'y'})\n",
    "data = data.asfreq('MS')\n",
    "data = data.sort_index()\n",
    "display(data.head())\n",
    "\n",
    "# Split data into train-test\n",
    "# ==============================================================================\n",
    "steps = 36\n",
    "data_train = data[:-steps]\n",
    "data_test  = data[-steps:]\n",
    "\n",
    "print(f\"Train dates : {data_train.index.min()} --- {data_train.index.max()}  (n={len(data_train)})\")\n",
    "print(f\"Test dates  : {data_test.index.min()} --- {data_test.index.max()}  (n={len(data_test)})\")"
   ]
  },
  {
   "cell_type": "code",
   "execution_count": 20,
   "metadata": {},
   "outputs": [
    {
     "data": {
      "text/plain": [
       "================= \n",
       "ForecasterSarimax \n",
       "================= \n",
       "Regressor:  ARIMA(1,1,5)(0,0,0)[0]           \n",
       "Regressor parameters: {'maxiter': 1000, 'method': 'lbfgs', 'order': (1, 1, 5), 'out_of_sample_size': 0, 'scoring': 'mse', 'scoring_args': None, 'seasonal_order': (0, 0, 0, 0), 'start_params': None, 'suppress_warnings': False, 'trend': None, 'with_intercept': False} \n",
       "Window size: 5 \n",
       "Transformer for y: None \n",
       "Transformer for exog: None \n",
       "Exogenous included: False \n",
       "Type of exogenous variable: None \n",
       "Exogenous variables names: None \n",
       "Training range: None \n",
       "Training index type: None \n",
       "Training index frequency: None \n",
       "Creation date: 2022-11-24 22:38:56 \n",
       "Last fit date: None \n",
       "Skforecast version: 0.6.0 \n",
       "Python version: 3.9.13 "
      ]
     },
     "execution_count": 20,
     "metadata": {},
     "output_type": "execute_result"
    }
   ],
   "source": [
    "# pmdarima SARIMAX\n",
    "# =====================================================================================\n",
    "forecaster = ForecasterSarimax(\n",
    "                regressor = ARIMA(order=(1,1,5), seasonal_order=(0, 0, 0, 0), trend=None, with_intercept=False, maxiter=1000)\n",
    "            )\n",
    "forecaster\n"
   ]
  },
  {
   "cell_type": "code",
   "execution_count": 21,
   "metadata": {},
   "outputs": [
    {
     "name": "stderr",
     "output_type": "stream",
     "text": [
      "/home/ximo/anaconda3/envs/skforecast/lib/python3.9/site-packages/statsmodels/tsa/statespace/sarimax.py:966: UserWarning: Non-stationary starting autoregressive parameters found. Using zeros as starting parameters.\n",
      "  warn('Non-stationary starting autoregressive parameters'\n",
      "/home/ximo/anaconda3/envs/skforecast/lib/python3.9/site-packages/statsmodels/tsa/statespace/sarimax.py:978: UserWarning: Non-invertible starting MA parameters found. Using zeros as starting parameters.\n",
      "  warn('Non-invertible starting MA parameters found.'\n"
     ]
    },
    {
     "name": "stdout",
     "output_type": "stream",
     "text": [
      "Information of backtesting process\n",
      "----------------------------------\n",
      "Number of observations used for initial training: 159\n",
      "Number of observations used for backtesting: 36\n",
      "    Number of folds: 8\n",
      "    Number of steps per fold: 5\n",
      "    Last fold only includes 1 observations.\n",
      "\n",
      "Data partition in fold: 0\n",
      "    Training:   1992-04-01 00:00:00 -- 2005-06-01 00:00:00  (n=159)\n",
      "    Validation: 2005-07-01 00:00:00 -- 2005-11-01 00:00:00  (n=5)\n",
      "Data partition in fold: 1\n",
      "    Training:   1992-04-01 00:00:00 -- 2005-06-01 00:00:00  (n=159)\n",
      "    Validation: 2005-12-01 00:00:00 -- 2006-04-01 00:00:00  (n=5)\n",
      "Data partition in fold: 2\n",
      "    Training:   1992-04-01 00:00:00 -- 2005-06-01 00:00:00  (n=159)\n",
      "    Validation: 2006-05-01 00:00:00 -- 2006-09-01 00:00:00  (n=5)\n",
      "Data partition in fold: 3\n",
      "    Training:   1992-04-01 00:00:00 -- 2005-06-01 00:00:00  (n=159)\n",
      "    Validation: 2006-10-01 00:00:00 -- 2007-02-01 00:00:00  (n=5)\n",
      "Data partition in fold: 4\n",
      "    Training:   1992-04-01 00:00:00 -- 2005-06-01 00:00:00  (n=159)\n",
      "    Validation: 2007-03-01 00:00:00 -- 2007-07-01 00:00:00  (n=5)\n",
      "Data partition in fold: 5\n",
      "    Training:   1992-04-01 00:00:00 -- 2005-06-01 00:00:00  (n=159)\n",
      "    Validation: 2007-08-01 00:00:00 -- 2007-12-01 00:00:00  (n=5)\n",
      "Data partition in fold: 6\n",
      "    Training:   1992-04-01 00:00:00 -- 2005-06-01 00:00:00  (n=159)\n",
      "    Validation: 2008-01-01 00:00:00 -- 2008-05-01 00:00:00  (n=5)\n",
      "Data partition in fold: 7\n",
      "    Training:   1992-04-01 00:00:00 -- 2005-06-01 00:00:00  (n=159)\n",
      "    Validation: 2008-06-01 00:00:00 -- 2008-06-01 00:00:00  (n=1)\n",
      "\n"
     ]
    }
   ],
   "source": [
    "metric, predictions = backtesting_sarimax(\n",
    "    forecaster = forecaster,\n",
    "    y = data['y'],\n",
    "    steps=5,\n",
    "    metric = 'mean_squared_error',\n",
    "    initial_train_size=len(data_train),\n",
    "    refit=False,\n",
    "    verbose = True\n",
    ")"
   ]
  },
  {
   "cell_type": "code",
   "execution_count": 23,
   "metadata": {},
   "outputs": [
    {
     "name": "stdout",
     "output_type": "stream",
     "text": [
      "Number of models compared: 6.\n"
     ]
    },
    {
     "name": "stderr",
     "output_type": "stream",
     "text": [
      "loop param_grid:   0%|                                              | 0/6 [00:00<?, ?it/s]/home/ximo/anaconda3/envs/skforecast/lib/python3.9/site-packages/statsmodels/tsa/statespace/sarimax.py:966: UserWarning: Non-stationary starting autoregressive parameters found. Using zeros as starting parameters.\n",
      "  warn('Non-stationary starting autoregressive parameters'\n"
     ]
    },
    {
     "name": "stdout",
     "output_type": "stream",
     "text": [
      "Information of backtesting process\n",
      "----------------------------------\n",
      "Number of observations used for initial training: 159\n",
      "Number of observations used for backtesting: 36\n",
      "    Number of folds: 8\n",
      "    Number of steps per fold: 5\n",
      "    Last fold only includes 1 observations.\n",
      "\n",
      "Data partition in fold: 0\n",
      "    Training:   1992-04-01 00:00:00 -- 2005-06-01 00:00:00  (n=159)\n",
      "    Validation: 2005-07-01 00:00:00 -- 2005-11-01 00:00:00  (n=5)\n",
      "Data partition in fold: 1\n",
      "    Training:   1992-04-01 00:00:00 -- 2005-06-01 00:00:00  (n=159)\n",
      "    Validation: 2005-12-01 00:00:00 -- 2006-04-01 00:00:00  (n=5)\n",
      "Data partition in fold: 2\n",
      "    Training:   1992-04-01 00:00:00 -- 2005-06-01 00:00:00  (n=159)\n",
      "    Validation: 2006-05-01 00:00:00 -- 2006-09-01 00:00:00  (n=5)\n",
      "Data partition in fold: 3\n",
      "    Training:   1992-04-01 00:00:00 -- 2005-06-01 00:00:00  (n=159)\n",
      "    Validation: 2006-10-01 00:00:00 -- 2007-02-01 00:00:00  (n=5)\n",
      "Data partition in fold: 4\n",
      "    Training:   1992-04-01 00:00:00 -- 2005-06-01 00:00:00  (n=159)\n",
      "    Validation: 2007-03-01 00:00:00 -- 2007-07-01 00:00:00  (n=5)\n",
      "Data partition in fold: 5\n",
      "    Training:   1992-04-01 00:00:00 -- 2005-06-01 00:00:00  (n=159)\n",
      "    Validation: 2007-08-01 00:00:00 -- 2007-12-01 00:00:00  (n=5)\n",
      "Data partition in fold: 6\n",
      "    Training:   1992-04-01 00:00:00 -- 2005-06-01 00:00:00  (n=159)\n",
      "    Validation: 2008-01-01 00:00:00 -- 2008-05-01 00:00:00  (n=5)\n",
      "Data partition in fold: 7\n",
      "    Training:   1992-04-01 00:00:00 -- 2005-06-01 00:00:00  (n=159)\n",
      "    Validation: 2008-06-01 00:00:00 -- 2008-06-01 00:00:00  (n=1)\n",
      "\n"
     ]
    },
    {
     "name": "stderr",
     "output_type": "stream",
     "text": [
      "loop param_grid:  17%|██████▎                               | 1/6 [00:07<00:36,  7.22s/it]/home/ximo/anaconda3/envs/skforecast/lib/python3.9/site-packages/statsmodels/tsa/statespace/sarimax.py:966: UserWarning: Non-stationary starting autoregressive parameters found. Using zeros as starting parameters.\n",
      "  warn('Non-stationary starting autoregressive parameters'\n",
      "loop param_grid:  33%|████████████▋                         | 2/6 [00:14<00:30,  7.52s/it]"
     ]
    },
    {
     "name": "stdout",
     "output_type": "stream",
     "text": [
      "Information of backtesting process\n",
      "----------------------------------\n",
      "Number of observations used for initial training: 159\n",
      "Number of observations used for backtesting: 36\n",
      "    Number of folds: 8\n",
      "    Number of steps per fold: 5\n",
      "    Last fold only includes 1 observations.\n",
      "\n",
      "Data partition in fold: 0\n",
      "    Training:   1992-04-01 00:00:00 -- 2005-06-01 00:00:00  (n=159)\n",
      "    Validation: 2005-07-01 00:00:00 -- 2005-11-01 00:00:00  (n=5)\n",
      "Data partition in fold: 1\n",
      "    Training:   1992-04-01 00:00:00 -- 2005-06-01 00:00:00  (n=159)\n",
      "    Validation: 2005-12-01 00:00:00 -- 2006-04-01 00:00:00  (n=5)\n",
      "Data partition in fold: 2\n",
      "    Training:   1992-04-01 00:00:00 -- 2005-06-01 00:00:00  (n=159)\n",
      "    Validation: 2006-05-01 00:00:00 -- 2006-09-01 00:00:00  (n=5)\n",
      "Data partition in fold: 3\n",
      "    Training:   1992-04-01 00:00:00 -- 2005-06-01 00:00:00  (n=159)\n",
      "    Validation: 2006-10-01 00:00:00 -- 2007-02-01 00:00:00  (n=5)\n",
      "Data partition in fold: 4\n",
      "    Training:   1992-04-01 00:00:00 -- 2005-06-01 00:00:00  (n=159)\n",
      "    Validation: 2007-03-01 00:00:00 -- 2007-07-01 00:00:00  (n=5)\n",
      "Data partition in fold: 5\n",
      "    Training:   1992-04-01 00:00:00 -- 2005-06-01 00:00:00  (n=159)\n",
      "    Validation: 2007-08-01 00:00:00 -- 2007-12-01 00:00:00  (n=5)\n",
      "Data partition in fold: 6\n",
      "    Training:   1992-04-01 00:00:00 -- 2005-06-01 00:00:00  (n=159)\n",
      "    Validation: 2008-01-01 00:00:00 -- 2008-05-01 00:00:00  (n=5)\n",
      "Data partition in fold: 7\n",
      "    Training:   1992-04-01 00:00:00 -- 2005-06-01 00:00:00  (n=159)\n",
      "    Validation: 2008-06-01 00:00:00 -- 2008-06-01 00:00:00  (n=1)\n",
      "\n"
     ]
    },
    {
     "name": "stderr",
     "output_type": "stream",
     "text": [
      "/home/ximo/anaconda3/envs/skforecast/lib/python3.9/site-packages/statsmodels/tsa/statespace/sarimax.py:966: UserWarning: Non-stationary starting autoregressive parameters found. Using zeros as starting parameters.\n",
      "  warn('Non-stationary starting autoregressive parameters'\n",
      "loop param_grid:  50%|███████████████████                   | 3/6 [00:22<00:22,  7.58s/it]"
     ]
    },
    {
     "name": "stdout",
     "output_type": "stream",
     "text": [
      "Information of backtesting process\n",
      "----------------------------------\n",
      "Number of observations used for initial training: 159\n",
      "Number of observations used for backtesting: 36\n",
      "    Number of folds: 8\n",
      "    Number of steps per fold: 5\n",
      "    Last fold only includes 1 observations.\n",
      "\n",
      "Data partition in fold: 0\n",
      "    Training:   1992-04-01 00:00:00 -- 2005-06-01 00:00:00  (n=159)\n",
      "    Validation: 2005-07-01 00:00:00 -- 2005-11-01 00:00:00  (n=5)\n",
      "Data partition in fold: 1\n",
      "    Training:   1992-04-01 00:00:00 -- 2005-06-01 00:00:00  (n=159)\n",
      "    Validation: 2005-12-01 00:00:00 -- 2006-04-01 00:00:00  (n=5)\n",
      "Data partition in fold: 2\n",
      "    Training:   1992-04-01 00:00:00 -- 2005-06-01 00:00:00  (n=159)\n",
      "    Validation: 2006-05-01 00:00:00 -- 2006-09-01 00:00:00  (n=5)\n",
      "Data partition in fold: 3\n",
      "    Training:   1992-04-01 00:00:00 -- 2005-06-01 00:00:00  (n=159)\n",
      "    Validation: 2006-10-01 00:00:00 -- 2007-02-01 00:00:00  (n=5)\n",
      "Data partition in fold: 4\n",
      "    Training:   1992-04-01 00:00:00 -- 2005-06-01 00:00:00  (n=159)\n",
      "    Validation: 2007-03-01 00:00:00 -- 2007-07-01 00:00:00  (n=5)\n",
      "Data partition in fold: 5\n",
      "    Training:   1992-04-01 00:00:00 -- 2005-06-01 00:00:00  (n=159)\n",
      "    Validation: 2007-08-01 00:00:00 -- 2007-12-01 00:00:00  (n=5)\n",
      "Data partition in fold: 6\n",
      "    Training:   1992-04-01 00:00:00 -- 2005-06-01 00:00:00  (n=159)\n",
      "    Validation: 2008-01-01 00:00:00 -- 2008-05-01 00:00:00  (n=5)\n",
      "Data partition in fold: 7\n",
      "    Training:   1992-04-01 00:00:00 -- 2005-06-01 00:00:00  (n=159)\n",
      "    Validation: 2008-06-01 00:00:00 -- 2008-06-01 00:00:00  (n=1)\n",
      "\n"
     ]
    },
    {
     "name": "stderr",
     "output_type": "stream",
     "text": [
      "/home/ximo/anaconda3/envs/skforecast/lib/python3.9/site-packages/statsmodels/tsa/statespace/sarimax.py:966: UserWarning: Non-stationary starting autoregressive parameters found. Using zeros as starting parameters.\n",
      "  warn('Non-stationary starting autoregressive parameters'\n"
     ]
    },
    {
     "name": "stdout",
     "output_type": "stream",
     "text": [
      "Information of backtesting process\n",
      "----------------------------------\n",
      "Number of observations used for initial training: 159\n",
      "Number of observations used for backtesting: 36\n",
      "    Number of folds: 8\n",
      "    Number of steps per fold: 5\n",
      "    Last fold only includes 1 observations.\n",
      "\n",
      "Data partition in fold: 0\n",
      "    Training:   1992-04-01 00:00:00 -- 2005-06-01 00:00:00  (n=159)\n",
      "    Validation: 2005-07-01 00:00:00 -- 2005-11-01 00:00:00  (n=5)\n",
      "Data partition in fold: 1\n",
      "    Training:   1992-04-01 00:00:00 -- 2005-06-01 00:00:00  (n=159)\n",
      "    Validation: 2005-12-01 00:00:00 -- 2006-04-01 00:00:00  (n=5)\n",
      "Data partition in fold: 2\n",
      "    Training:   1992-04-01 00:00:00 -- 2005-06-01 00:00:00  (n=159)\n",
      "    Validation: 2006-05-01 00:00:00 -- 2006-09-01 00:00:00  (n=5)\n",
      "Data partition in fold: 3\n",
      "    Training:   1992-04-01 00:00:00 -- 2005-06-01 00:00:00  (n=159)\n",
      "    Validation: 2006-10-01 00:00:00 -- 2007-02-01 00:00:00  (n=5)\n",
      "Data partition in fold: 4\n",
      "    Training:   1992-04-01 00:00:00 -- 2005-06-01 00:00:00  (n=159)\n",
      "    Validation: 2007-03-01 00:00:00 -- 2007-07-01 00:00:00  (n=5)\n",
      "Data partition in fold: 5\n",
      "    Training:   1992-04-01 00:00:00 -- 2005-06-01 00:00:00  (n=159)\n",
      "    Validation: 2007-08-01 00:00:00 -- 2007-12-01 00:00:00  (n=5)\n",
      "Data partition in fold: 6\n",
      "    Training:   1992-04-01 00:00:00 -- 2005-06-01 00:00:00  (n=159)\n",
      "    Validation: 2008-01-01 00:00:00 -- 2008-05-01 00:00:00  (n=5)\n",
      "Data partition in fold: 7\n",
      "    Training:   1992-04-01 00:00:00 -- 2005-06-01 00:00:00  (n=159)\n",
      "    Validation: 2008-06-01 00:00:00 -- 2008-06-01 00:00:00  (n=1)\n",
      "\n"
     ]
    },
    {
     "name": "stderr",
     "output_type": "stream",
     "text": [
      "loop param_grid:  67%|█████████████████████████▎            | 4/6 [00:30<00:15,  7.79s/it]/home/ximo/anaconda3/envs/skforecast/lib/python3.9/site-packages/statsmodels/tsa/statespace/sarimax.py:966: UserWarning: Non-stationary starting autoregressive parameters found. Using zeros as starting parameters.\n",
      "  warn('Non-stationary starting autoregressive parameters'\n",
      "loop param_grid:  83%|███████████████████████████████▋      | 5/6 [00:35<00:06,  6.88s/it]"
     ]
    },
    {
     "name": "stdout",
     "output_type": "stream",
     "text": [
      "Information of backtesting process\n",
      "----------------------------------\n",
      "Number of observations used for initial training: 159\n",
      "Number of observations used for backtesting: 36\n",
      "    Number of folds: 8\n",
      "    Number of steps per fold: 5\n",
      "    Last fold only includes 1 observations.\n",
      "\n",
      "Data partition in fold: 0\n",
      "    Training:   1992-04-01 00:00:00 -- 2005-06-01 00:00:00  (n=159)\n",
      "    Validation: 2005-07-01 00:00:00 -- 2005-11-01 00:00:00  (n=5)\n",
      "Data partition in fold: 1\n",
      "    Training:   1992-04-01 00:00:00 -- 2005-06-01 00:00:00  (n=159)\n",
      "    Validation: 2005-12-01 00:00:00 -- 2006-04-01 00:00:00  (n=5)\n",
      "Data partition in fold: 2\n",
      "    Training:   1992-04-01 00:00:00 -- 2005-06-01 00:00:00  (n=159)\n",
      "    Validation: 2006-05-01 00:00:00 -- 2006-09-01 00:00:00  (n=5)\n",
      "Data partition in fold: 3\n",
      "    Training:   1992-04-01 00:00:00 -- 2005-06-01 00:00:00  (n=159)\n",
      "    Validation: 2006-10-01 00:00:00 -- 2007-02-01 00:00:00  (n=5)\n",
      "Data partition in fold: 4\n",
      "    Training:   1992-04-01 00:00:00 -- 2005-06-01 00:00:00  (n=159)\n",
      "    Validation: 2007-03-01 00:00:00 -- 2007-07-01 00:00:00  (n=5)\n",
      "Data partition in fold: 5\n",
      "    Training:   1992-04-01 00:00:00 -- 2005-06-01 00:00:00  (n=159)\n",
      "    Validation: 2007-08-01 00:00:00 -- 2007-12-01 00:00:00  (n=5)\n",
      "Data partition in fold: 6\n",
      "    Training:   1992-04-01 00:00:00 -- 2005-06-01 00:00:00  (n=159)\n",
      "    Validation: 2008-01-01 00:00:00 -- 2008-05-01 00:00:00  (n=5)\n",
      "Data partition in fold: 7\n",
      "    Training:   1992-04-01 00:00:00 -- 2005-06-01 00:00:00  (n=159)\n",
      "    Validation: 2008-06-01 00:00:00 -- 2008-06-01 00:00:00  (n=1)\n",
      "\n"
     ]
    },
    {
     "name": "stderr",
     "output_type": "stream",
     "text": [
      "/home/ximo/anaconda3/envs/skforecast/lib/python3.9/site-packages/statsmodels/tsa/statespace/sarimax.py:966: UserWarning: Non-stationary starting autoregressive parameters found. Using zeros as starting parameters.\n",
      "  warn('Non-stationary starting autoregressive parameters'\n",
      "loop param_grid: 100%|██████████████████████████████████████| 6/6 [00:43<00:00,  7.26s/it]"
     ]
    },
    {
     "name": "stdout",
     "output_type": "stream",
     "text": [
      "Information of backtesting process\n",
      "----------------------------------\n",
      "Number of observations used for initial training: 159\n",
      "Number of observations used for backtesting: 36\n",
      "    Number of folds: 8\n",
      "    Number of steps per fold: 5\n",
      "    Last fold only includes 1 observations.\n",
      "\n",
      "Data partition in fold: 0\n",
      "    Training:   1992-04-01 00:00:00 -- 2005-06-01 00:00:00  (n=159)\n",
      "    Validation: 2005-07-01 00:00:00 -- 2005-11-01 00:00:00  (n=5)\n",
      "Data partition in fold: 1\n",
      "    Training:   1992-04-01 00:00:00 -- 2005-06-01 00:00:00  (n=159)\n",
      "    Validation: 2005-12-01 00:00:00 -- 2006-04-01 00:00:00  (n=5)\n",
      "Data partition in fold: 2\n",
      "    Training:   1992-04-01 00:00:00 -- 2005-06-01 00:00:00  (n=159)\n",
      "    Validation: 2006-05-01 00:00:00 -- 2006-09-01 00:00:00  (n=5)\n",
      "Data partition in fold: 3\n",
      "    Training:   1992-04-01 00:00:00 -- 2005-06-01 00:00:00  (n=159)\n",
      "    Validation: 2006-10-01 00:00:00 -- 2007-02-01 00:00:00  (n=5)\n",
      "Data partition in fold: 4\n",
      "    Training:   1992-04-01 00:00:00 -- 2005-06-01 00:00:00  (n=159)\n",
      "    Validation: 2007-03-01 00:00:00 -- 2007-07-01 00:00:00  (n=5)\n",
      "Data partition in fold: 5\n",
      "    Training:   1992-04-01 00:00:00 -- 2005-06-01 00:00:00  (n=159)\n",
      "    Validation: 2007-08-01 00:00:00 -- 2007-12-01 00:00:00  (n=5)\n",
      "Data partition in fold: 6\n",
      "    Training:   1992-04-01 00:00:00 -- 2005-06-01 00:00:00  (n=159)\n",
      "    Validation: 2008-01-01 00:00:00 -- 2008-05-01 00:00:00  (n=5)\n",
      "Data partition in fold: 7\n",
      "    Training:   1992-04-01 00:00:00 -- 2005-06-01 00:00:00  (n=159)\n",
      "    Validation: 2008-06-01 00:00:00 -- 2008-06-01 00:00:00  (n=1)\n",
      "\n"
     ]
    },
    {
     "name": "stderr",
     "output_type": "stream",
     "text": [
      "\n",
      "/home/ximo/anaconda3/envs/skforecast/lib/python3.9/site-packages/statsmodels/tsa/statespace/sarimax.py:966: UserWarning: Non-stationary starting autoregressive parameters found. Using zeros as starting parameters.\n",
      "  warn('Non-stationary starting autoregressive parameters'\n"
     ]
    },
    {
     "name": "stdout",
     "output_type": "stream",
     "text": [
      "`Forecaster` refitted using the best-found lags and parameters, and the whole data set: \n",
      "  Parameters: {'order': (12, 0, 0), 'seasonal_order': (0, 0, 0, 0), 'trend': 'c'}\n",
      "  Backtesting metric: 0.05178852265752502\n",
      "\n"
     ]
    },
    {
     "data": {
      "text/html": [
       "<div>\n",
       "<style scoped>\n",
       "    .dataframe tbody tr th:only-of-type {\n",
       "        vertical-align: middle;\n",
       "    }\n",
       "\n",
       "    .dataframe tbody tr th {\n",
       "        vertical-align: top;\n",
       "    }\n",
       "\n",
       "    .dataframe thead th {\n",
       "        text-align: right;\n",
       "    }\n",
       "</style>\n",
       "<table border=\"1\" class=\"dataframe\">\n",
       "  <thead>\n",
       "    <tr style=\"text-align: right;\">\n",
       "      <th></th>\n",
       "      <th>params</th>\n",
       "      <th>mean_squared_error</th>\n",
       "      <th>order</th>\n",
       "      <th>seasonal_order</th>\n",
       "      <th>trend</th>\n",
       "    </tr>\n",
       "  </thead>\n",
       "  <tbody>\n",
       "    <tr>\n",
       "      <th>2</th>\n",
       "      <td>{'order': (12, 0, 0), 'seasonal_order': (0, 0,...</td>\n",
       "      <td>0.051789</td>\n",
       "      <td>(12, 0, 0)</td>\n",
       "      <td>(0, 0, 0, 0)</td>\n",
       "      <td>c</td>\n",
       "    </tr>\n",
       "    <tr>\n",
       "      <th>0</th>\n",
       "      <td>{'order': (12, 0, 0), 'seasonal_order': (0, 0,...</td>\n",
       "      <td>0.059239</td>\n",
       "      <td>(12, 0, 0)</td>\n",
       "      <td>(0, 0, 0, 0)</td>\n",
       "      <td>None</td>\n",
       "    </tr>\n",
       "    <tr>\n",
       "      <th>1</th>\n",
       "      <td>{'order': (12, 0, 0), 'seasonal_order': (0, 0,...</td>\n",
       "      <td>0.059239</td>\n",
       "      <td>(12, 0, 0)</td>\n",
       "      <td>(0, 0, 0, 0)</td>\n",
       "      <td>n</td>\n",
       "    </tr>\n",
       "    <tr>\n",
       "      <th>5</th>\n",
       "      <td>{'order': (12, 2, 0), 'seasonal_order': (0, 0,...</td>\n",
       "      <td>0.247927</td>\n",
       "      <td>(12, 2, 0)</td>\n",
       "      <td>(0, 0, 0, 0)</td>\n",
       "      <td>c</td>\n",
       "    </tr>\n",
       "    <tr>\n",
       "      <th>3</th>\n",
       "      <td>{'order': (12, 2, 0), 'seasonal_order': (0, 0,...</td>\n",
       "      <td>0.247932</td>\n",
       "      <td>(12, 2, 0)</td>\n",
       "      <td>(0, 0, 0, 0)</td>\n",
       "      <td>None</td>\n",
       "    </tr>\n",
       "    <tr>\n",
       "      <th>4</th>\n",
       "      <td>{'order': (12, 2, 0), 'seasonal_order': (0, 0,...</td>\n",
       "      <td>0.247932</td>\n",
       "      <td>(12, 2, 0)</td>\n",
       "      <td>(0, 0, 0, 0)</td>\n",
       "      <td>n</td>\n",
       "    </tr>\n",
       "  </tbody>\n",
       "</table>\n",
       "</div>"
      ],
      "text/plain": [
       "                                              params  mean_squared_error  \\\n",
       "2  {'order': (12, 0, 0), 'seasonal_order': (0, 0,...            0.051789   \n",
       "0  {'order': (12, 0, 0), 'seasonal_order': (0, 0,...            0.059239   \n",
       "1  {'order': (12, 0, 0), 'seasonal_order': (0, 0,...            0.059239   \n",
       "5  {'order': (12, 2, 0), 'seasonal_order': (0, 0,...            0.247927   \n",
       "3  {'order': (12, 2, 0), 'seasonal_order': (0, 0,...            0.247932   \n",
       "4  {'order': (12, 2, 0), 'seasonal_order': (0, 0,...            0.247932   \n",
       "\n",
       "        order seasonal_order trend  \n",
       "2  (12, 0, 0)   (0, 0, 0, 0)     c  \n",
       "0  (12, 0, 0)   (0, 0, 0, 0)  None  \n",
       "1  (12, 0, 0)   (0, 0, 0, 0)     n  \n",
       "5  (12, 2, 0)   (0, 0, 0, 0)     c  \n",
       "3  (12, 2, 0)   (0, 0, 0, 0)  None  \n",
       "4  (12, 2, 0)   (0, 0, 0, 0)     n  "
      ]
     },
     "execution_count": 23,
     "metadata": {},
     "output_type": "execute_result"
    }
   ],
   "source": [
    "\n",
    "param_grid = {'order': [(12, 0, 0), (12, 2, 0)],\n",
    "             'seasonal_order': [(0, 0, 0, 0)],\n",
    "             'trend': [None, 'n', 'c']}\n",
    "\n",
    "grid_search_sarimax(\n",
    "    forecaster = forecaster,\n",
    "    y = data['y'],\n",
    "    steps=5,\n",
    "    param_grid = param_grid,\n",
    "    metric = 'mean_squared_error',\n",
    "    initial_train_size=len(data_train),\n",
    "    refit=False,\n",
    "    verbose = True\n",
    ")"
   ]
  }
 ],
 "metadata": {
  "kernelspec": {
   "display_name": "Python 3.9.13 ('skforecast')",
   "language": "python",
   "name": "python3"
  },
  "language_info": {
   "codemirror_mode": {
    "name": "ipython",
    "version": 3
   },
   "file_extension": ".py",
   "mimetype": "text/x-python",
   "name": "python",
   "nbconvert_exporter": "python",
   "pygments_lexer": "ipython3",
   "version": "3.9.13"
  },
  "orig_nbformat": 4,
  "vscode": {
   "interpreter": {
    "hash": "845be7f86453217ab6c5c749edfd1b965b47df21a056323ee3763fde88674a61"
   }
  }
 },
 "nbformat": 4,
 "nbformat_minor": 2
}
