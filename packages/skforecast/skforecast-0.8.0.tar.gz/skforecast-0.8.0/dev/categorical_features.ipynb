{
 "cells": [
  {
   "cell_type": "code",
   "execution_count": 1,
   "metadata": {},
   "outputs": [
    {
     "data": {
      "text/plain": [
       "'c:\\\\Users\\\\Joaquín Amat\\\\Documents\\\\GitHub\\\\skforecast'"
      ]
     },
     "execution_count": 1,
     "metadata": {},
     "output_type": "execute_result"
    }
   ],
   "source": [
    "%load_ext autoreload\n",
    "%autoreload 2\n",
    "import sys\n",
    "from pathlib import Path\n",
    "sys.path.insert(1, str(Path.cwd().parent))\n",
    "str(Path.cwd().parent)"
   ]
  },
  {
   "cell_type": "code",
   "execution_count": 2,
   "metadata": {},
   "outputs": [
    {
     "name": "stderr",
     "output_type": "stream",
     "text": [
      "c:\\anaconda\\envs\\cienciadedatos_p10\\lib\\site-packages\\tqdm\\auto.py:22: TqdmWarning: IProgress not found. Please update jupyter and ipywidgets. See https://ipywidgets.readthedocs.io/en/stable/user_install.html\n",
      "  from .autonotebook import tqdm as notebook_tqdm\n"
     ]
    },
    {
     "name": "stdout",
     "output_type": "stream",
     "text": [
      "xgboost version: 1.7.5\n",
      "lightgbm version: 3.3.5\n",
      "catboost version: 1.1.1\n",
      "sklearn version: 1.2.2\n",
      "skforecast version: 0.8.0\n"
     ]
    }
   ],
   "source": [
    "# Libraries\n",
    "# ======================================================================================\n",
    "import numpy as np\n",
    "import pandas as pd\n",
    "from xgboost import XGBRegressor\n",
    "from lightgbm import LGBMRegressor\n",
    "from catboost import CatBoostRegressor\n",
    "from sklearn.ensemble import HistGradientBoostingRegressor\n",
    "from sklearn.linear_model import LinearRegression\n",
    "from sklearn.pipeline import make_pipeline\n",
    "from sklearn.compose import make_column_transformer\n",
    "from sklearn.compose import make_column_selector\n",
    "from sklearn.preprocessing import OrdinalEncoder\n",
    "from sklearn.preprocessing import FunctionTransformer\n",
    "\n",
    "from skforecast.ForecasterAutoreg import ForecasterAutoreg\n",
    "from skforecast.model_selection import grid_search_forecaster\n",
    "\n",
    "import xgboost\n",
    "import lightgbm\n",
    "import catboost\n",
    "import sklearn\n",
    "import skforecast\n",
    "\n",
    "print(f\"xgboost version: {xgboost.__version__}\")\n",
    "print(f\"lightgbm version: {lightgbm.__version__}\")\n",
    "print(f\"catboost version: {catboost.__version__}\")\n",
    "print(f\"sklearn version: {sklearn.__version__}\")\n",
    "print(f\"skforecast version: {skforecast.__version__}\")"
   ]
  },
  {
   "cell_type": "code",
   "execution_count": 3,
   "metadata": {},
   "outputs": [
    {
     "data": {
      "text/html": [
       "<div>\n",
       "<style scoped>\n",
       "    .dataframe tbody tr th:only-of-type {\n",
       "        vertical-align: middle;\n",
       "    }\n",
       "\n",
       "    .dataframe tbody tr th {\n",
       "        vertical-align: top;\n",
       "    }\n",
       "\n",
       "    .dataframe thead th {\n",
       "        text-align: right;\n",
       "    }\n",
       "</style>\n",
       "<table border=\"1\" class=\"dataframe\">\n",
       "  <thead>\n",
       "    <tr style=\"text-align: right;\">\n",
       "      <th></th>\n",
       "      <th>exog_1</th>\n",
       "      <th>exog_2</th>\n",
       "    </tr>\n",
       "  </thead>\n",
       "  <tbody>\n",
       "    <tr>\n",
       "      <th>0</th>\n",
       "      <td>1.0</td>\n",
       "      <td>True</td>\n",
       "    </tr>\n",
       "    <tr>\n",
       "      <th>1</th>\n",
       "      <td>1.0</td>\n",
       "      <td>True</td>\n",
       "    </tr>\n",
       "    <tr>\n",
       "      <th>2</th>\n",
       "      <td>1.0</td>\n",
       "      <td>True</td>\n",
       "    </tr>\n",
       "    <tr>\n",
       "      <th>3</th>\n",
       "      <td>1.0</td>\n",
       "      <td>True</td>\n",
       "    </tr>\n",
       "    <tr>\n",
       "      <th>4</th>\n",
       "      <td>1.0</td>\n",
       "      <td>True</td>\n",
       "    </tr>\n",
       "  </tbody>\n",
       "</table>\n",
       "</div>"
      ],
      "text/plain": [
       "   exog_1  exog_2\n",
       "0     1.0    True\n",
       "1     1.0    True\n",
       "2     1.0    True\n",
       "3     1.0    True\n",
       "4     1.0    True"
      ]
     },
     "execution_count": 3,
     "metadata": {},
     "output_type": "execute_result"
    }
   ],
   "source": [
    "# Data\n",
    "# ======================================================================================\n",
    "y = pd.Series(np.random.normal(size=50))\n",
    "exog_1 = pd.Series([1]*25 + [2]*25, name='exog_1', dtype=float)\n",
    "exog_2 = pd.Series([True]*25 + [False]*25, name='exog_2', dtype=bool)\n",
    "exog   = pd.concat((exog_1, exog_2), axis=1)\n",
    "#exog.iloc[0,1] = np.nan\n",
    "exog.head()"
   ]
  },
  {
   "cell_type": "code",
   "execution_count": 4,
   "metadata": {},
   "outputs": [
    {
     "name": "stdout",
     "output_type": "stream",
     "text": [
      "exog_2    category\n",
      "exog_1     float64\n",
      "dtype: object\n"
     ]
    },
    {
     "data": {
      "text/html": [
       "<div>\n",
       "<style scoped>\n",
       "    .dataframe tbody tr th:only-of-type {\n",
       "        vertical-align: middle;\n",
       "    }\n",
       "\n",
       "    .dataframe tbody tr th {\n",
       "        vertical-align: top;\n",
       "    }\n",
       "\n",
       "    .dataframe thead th {\n",
       "        text-align: right;\n",
       "    }\n",
       "</style>\n",
       "<table border=\"1\" class=\"dataframe\">\n",
       "  <thead>\n",
       "    <tr style=\"text-align: right;\">\n",
       "      <th></th>\n",
       "      <th>exog_2</th>\n",
       "      <th>exog_1</th>\n",
       "    </tr>\n",
       "  </thead>\n",
       "  <tbody>\n",
       "    <tr>\n",
       "      <th>0</th>\n",
       "      <td>1</td>\n",
       "      <td>1.0</td>\n",
       "    </tr>\n",
       "    <tr>\n",
       "      <th>1</th>\n",
       "      <td>1</td>\n",
       "      <td>1.0</td>\n",
       "    </tr>\n",
       "    <tr>\n",
       "      <th>2</th>\n",
       "      <td>1</td>\n",
       "      <td>1.0</td>\n",
       "    </tr>\n",
       "  </tbody>\n",
       "</table>\n",
       "</div>"
      ],
      "text/plain": [
       "  exog_2  exog_1\n",
       "0      1     1.0\n",
       "1      1     1.0\n",
       "2      1     1.0"
      ]
     },
     "execution_count": 4,
     "metadata": {},
     "output_type": "execute_result"
    }
   ],
   "source": [
    "# Opción A\n",
    "# ==============================================================================\n",
    "pipeline_categorical = make_pipeline(\n",
    "                                OrdinalEncoder(dtype=int, handle_unknown=\"use_encoded_value\", unknown_value=-1, encoded_missing_value=-1),\n",
    "                                FunctionTransformer(func=lambda x: x.astype('category'), feature_names_out= 'one-to-one')\n",
    "                        )\n",
    "\n",
    "transformer_exog = make_column_transformer(\n",
    "                        (\n",
    "                            pipeline_categorical,\n",
    "                            make_column_selector(dtype_exclude=np.number)\n",
    "                        ),\n",
    "                        remainder=\"passthrough\",\n",
    "                        verbose_feature_names_out=False,\n",
    "                   ).set_output(transform=\"pandas\")\n",
    "\n",
    "print(transformer_exog.fit_transform(exog).head(3).dtypes)\n",
    "transformer_exog.fit_transform(exog).head(3)"
   ]
  },
  {
   "cell_type": "code",
   "execution_count": 5,
   "metadata": {},
   "outputs": [
    {
     "name": "stdout",
     "output_type": "stream",
     "text": [
      "exog_2      int32\n",
      "exog_1    float64\n",
      "dtype: object\n"
     ]
    },
    {
     "data": {
      "text/html": [
       "<div>\n",
       "<style scoped>\n",
       "    .dataframe tbody tr th:only-of-type {\n",
       "        vertical-align: middle;\n",
       "    }\n",
       "\n",
       "    .dataframe tbody tr th {\n",
       "        vertical-align: top;\n",
       "    }\n",
       "\n",
       "    .dataframe thead th {\n",
       "        text-align: right;\n",
       "    }\n",
       "</style>\n",
       "<table border=\"1\" class=\"dataframe\">\n",
       "  <thead>\n",
       "    <tr style=\"text-align: right;\">\n",
       "      <th></th>\n",
       "      <th>exog_2</th>\n",
       "      <th>exog_1</th>\n",
       "    </tr>\n",
       "  </thead>\n",
       "  <tbody>\n",
       "    <tr>\n",
       "      <th>0</th>\n",
       "      <td>1</td>\n",
       "      <td>1.0</td>\n",
       "    </tr>\n",
       "    <tr>\n",
       "      <th>1</th>\n",
       "      <td>1</td>\n",
       "      <td>1.0</td>\n",
       "    </tr>\n",
       "    <tr>\n",
       "      <th>2</th>\n",
       "      <td>1</td>\n",
       "      <td>1.0</td>\n",
       "    </tr>\n",
       "  </tbody>\n",
       "</table>\n",
       "</div>"
      ],
      "text/plain": [
       "   exog_2  exog_1\n",
       "0       1     1.0\n",
       "1       1     1.0\n",
       "2       1     1.0"
      ]
     },
     "execution_count": 5,
     "metadata": {},
     "output_type": "execute_result"
    }
   ],
   "source": [
    "# Opción B\n",
    "# ==============================================================================\n",
    "categorical_features = exog.select_dtypes(exclude=np.number).columns.tolist()\n",
    "transformer_exog = make_column_transformer(\n",
    "                        (\n",
    "                            OrdinalEncoder(dtype=int, handle_unknown=\"use_encoded_value\", unknown_value=-1, encoded_missing_value=-1),\n",
    "                            categorical_features\n",
    "                        ),\n",
    "                        remainder=\"passthrough\",\n",
    "                        verbose_feature_names_out=False,\n",
    "                   ).set_output(transform=\"pandas\")\n",
    "\n",
    "print(transformer_exog.fit_transform(exog).head(3).dtypes)\n",
    "transformer_exog.fit_transform(exog).head(3)"
   ]
  },
  {
   "cell_type": "code",
   "execution_count": 6,
   "metadata": {},
   "outputs": [
    {
     "name": "stdout",
     "output_type": "stream",
     "text": [
      "lag_1     float64\n",
      "lag_2     float64\n",
      "lag_3     float64\n",
      "lag_4     float64\n",
      "lag_5     float64\n",
      "exog_2      int32\n",
      "exog_1    float64\n",
      "dtype: object\n"
     ]
    },
    {
     "data": {
      "text/html": [
       "<div>\n",
       "<style scoped>\n",
       "    .dataframe tbody tr th:only-of-type {\n",
       "        vertical-align: middle;\n",
       "    }\n",
       "\n",
       "    .dataframe tbody tr th {\n",
       "        vertical-align: top;\n",
       "    }\n",
       "\n",
       "    .dataframe thead th {\n",
       "        text-align: right;\n",
       "    }\n",
       "</style>\n",
       "<table border=\"1\" class=\"dataframe\">\n",
       "  <thead>\n",
       "    <tr style=\"text-align: right;\">\n",
       "      <th></th>\n",
       "      <th>lag_1</th>\n",
       "      <th>lag_2</th>\n",
       "      <th>lag_3</th>\n",
       "      <th>lag_4</th>\n",
       "      <th>lag_5</th>\n",
       "      <th>exog_2</th>\n",
       "      <th>exog_1</th>\n",
       "    </tr>\n",
       "  </thead>\n",
       "  <tbody>\n",
       "    <tr>\n",
       "      <th>5</th>\n",
       "      <td>1.199886</td>\n",
       "      <td>-0.444439</td>\n",
       "      <td>-0.916398</td>\n",
       "      <td>-0.289643</td>\n",
       "      <td>1.383589</td>\n",
       "      <td>1</td>\n",
       "      <td>1.0</td>\n",
       "    </tr>\n",
       "    <tr>\n",
       "      <th>6</th>\n",
       "      <td>-0.848731</td>\n",
       "      <td>1.199886</td>\n",
       "      <td>-0.444439</td>\n",
       "      <td>-0.916398</td>\n",
       "      <td>-0.289643</td>\n",
       "      <td>1</td>\n",
       "      <td>1.0</td>\n",
       "    </tr>\n",
       "    <tr>\n",
       "      <th>7</th>\n",
       "      <td>0.803075</td>\n",
       "      <td>-0.848731</td>\n",
       "      <td>1.199886</td>\n",
       "      <td>-0.444439</td>\n",
       "      <td>-0.916398</td>\n",
       "      <td>1</td>\n",
       "      <td>1.0</td>\n",
       "    </tr>\n",
       "  </tbody>\n",
       "</table>\n",
       "</div>"
      ],
      "text/plain": [
       "      lag_1     lag_2     lag_3     lag_4     lag_5  exog_2  exog_1\n",
       "5  1.199886 -0.444439 -0.916398 -0.289643  1.383589       1     1.0\n",
       "6 -0.848731  1.199886 -0.444439 -0.916398 -0.289643       1     1.0\n",
       "7  0.803075 -0.848731  1.199886 -0.444439 -0.916398       1     1.0"
      ]
     },
     "metadata": {},
     "output_type": "display_data"
    },
    {
     "name": "stderr",
     "output_type": "stream",
     "text": [
      "c:\\anaconda\\envs\\cienciadedatos_p10\\lib\\site-packages\\lightgbm\\basic.py:2065: UserWarning: Using categorical_feature in Dataset.\n",
      "  _log_warning('Using categorical_feature in Dataset.')\n"
     ]
    },
    {
     "data": {
      "text/plain": [
       "50   -0.260417\n",
       "51   -0.398754\n",
       "52   -0.398754\n",
       "Name: pred, dtype: float64"
      ]
     },
     "execution_count": 6,
     "metadata": {},
     "output_type": "execute_result"
    }
   ],
   "source": [
    "# Lightgbm\n",
    "# ======================================================================================\n",
    "forecaster = ForecasterAutoreg(\n",
    "                regressor = LGBMRegressor(\n",
    "                              n_estimators=10,\n",
    "                              random_state=12345\n",
    "                            ),\n",
    "                lags = 5,\n",
    "                transformer_exog = transformer_exog,\n",
    "                fit_kwargs={'categorical_feature': categorical_features}\n",
    "             )\n",
    "X_train, y_train = forecaster.create_train_X_y(\n",
    "                        y=y,\n",
    "                        exog=exog\n",
    "                   )\n",
    "print(X_train.dtypes)\n",
    "display(X_train.head(3))\n",
    "forecaster.fit(y=y, exog=exog)\n",
    "\n",
    "exog_predict = exog.copy()\n",
    "exog_predict.index = pd.RangeIndex(50, 100)\n",
    "forecaster.predict(steps=3, exog=exog_predict)"
   ]
  },
  {
   "cell_type": "code",
   "execution_count": 17,
   "metadata": {},
   "outputs": [
    {
     "name": "stdout",
     "output_type": "stream",
     "text": [
      "lag_1     float64\n",
      "lag_2     float64\n",
      "lag_3     float64\n",
      "lag_4     float64\n",
      "lag_5     float64\n",
      "exog_2      int32\n",
      "exog_1    float64\n",
      "dtype: object\n"
     ]
    },
    {
     "data": {
      "text/html": [
       "<div>\n",
       "<style scoped>\n",
       "    .dataframe tbody tr th:only-of-type {\n",
       "        vertical-align: middle;\n",
       "    }\n",
       "\n",
       "    .dataframe tbody tr th {\n",
       "        vertical-align: top;\n",
       "    }\n",
       "\n",
       "    .dataframe thead th {\n",
       "        text-align: right;\n",
       "    }\n",
       "</style>\n",
       "<table border=\"1\" class=\"dataframe\">\n",
       "  <thead>\n",
       "    <tr style=\"text-align: right;\">\n",
       "      <th></th>\n",
       "      <th>lag_1</th>\n",
       "      <th>lag_2</th>\n",
       "      <th>lag_3</th>\n",
       "      <th>lag_4</th>\n",
       "      <th>lag_5</th>\n",
       "      <th>exog_2</th>\n",
       "      <th>exog_1</th>\n",
       "    </tr>\n",
       "  </thead>\n",
       "  <tbody>\n",
       "    <tr>\n",
       "      <th>5</th>\n",
       "      <td>1.199886</td>\n",
       "      <td>-0.444439</td>\n",
       "      <td>-0.916398</td>\n",
       "      <td>-0.289643</td>\n",
       "      <td>1.383589</td>\n",
       "      <td>1</td>\n",
       "      <td>1.0</td>\n",
       "    </tr>\n",
       "    <tr>\n",
       "      <th>6</th>\n",
       "      <td>-0.848731</td>\n",
       "      <td>1.199886</td>\n",
       "      <td>-0.444439</td>\n",
       "      <td>-0.916398</td>\n",
       "      <td>-0.289643</td>\n",
       "      <td>1</td>\n",
       "      <td>1.0</td>\n",
       "    </tr>\n",
       "    <tr>\n",
       "      <th>7</th>\n",
       "      <td>0.803075</td>\n",
       "      <td>-0.848731</td>\n",
       "      <td>1.199886</td>\n",
       "      <td>-0.444439</td>\n",
       "      <td>-0.916398</td>\n",
       "      <td>1</td>\n",
       "      <td>1.0</td>\n",
       "    </tr>\n",
       "  </tbody>\n",
       "</table>\n",
       "</div>"
      ],
      "text/plain": [
       "      lag_1     lag_2     lag_3     lag_4     lag_5  exog_2  exog_1\n",
       "5  1.199886 -0.444439 -0.916398 -0.289643  1.383589       1     1.0\n",
       "6 -0.848731  1.199886 -0.444439 -0.916398 -0.289643       1     1.0\n",
       "7  0.803075 -0.848731  1.199886 -0.444439 -0.916398       1     1.0"
      ]
     },
     "metadata": {},
     "output_type": "display_data"
    },
    {
     "data": {
      "text/plain": [
       "50   -0.578407\n",
       "51   -1.088601\n",
       "52   -1.126142\n",
       "Name: pred, dtype: float64"
      ]
     },
     "execution_count": 17,
     "metadata": {},
     "output_type": "execute_result"
    }
   ],
   "source": [
    "# XGBoost\n",
    "# ======================================================================================\n",
    "forecaster = ForecasterAutoreg(\n",
    "                regressor = XGBRegressor(\n",
    "                              tree_method='hist',\n",
    "                              n_estimators=10,\n",
    "                              random_state=12345,\n",
    "                              enable_categorical=True,\n",
    "                              feature_types =['q', 'q', 'q', 'q', 'q', 'c', 'q']\n",
    "                            ),\n",
    "                lags = 5,\n",
    "                transformer_exog = transformer_exog\n",
    "             )\n",
    "X_train, y_train = forecaster.create_train_X_y(\n",
    "                        y=y,\n",
    "                        exog=exog\n",
    "                   )\n",
    "print(X_train.dtypes)\n",
    "display(X_train.head(3))\n",
    "forecaster.fit(y=y, exog=exog)\n",
    "\n",
    "exog_predict = exog.copy()\n",
    "exog_predict.index = pd.RangeIndex(50, 100)\n",
    "forecaster.predict(steps=3, exog=exog_predict)"
   ]
  },
  {
   "cell_type": "code",
   "execution_count": null,
   "metadata": {},
   "outputs": [],
   "source": []
  },
  {
   "attachments": {},
   "cell_type": "markdown",
   "metadata": {},
   "source": [
    "## ForecasterMultiseries"
   ]
  },
  {
   "cell_type": "code",
   "execution_count": 4,
   "metadata": {},
   "outputs": [],
   "source": [
    "series = pd.DataFrame({'l1': pd.Series(np.array(\n",
    "                                [0.69646919, 0.28613933, 0.22685145, 0.55131477, 0.71946897,\n",
    "                                 0.42310646, 0.9807642 , 0.68482974, 0.4809319 , 0.39211752,\n",
    "                                 0.34317802, 0.72904971, 0.43857224, 0.0596779 , 0.39804426,\n",
    "                                 0.73799541, 0.18249173, 0.17545176, 0.53155137, 0.53182759,\n",
    "                                 0.63440096, 0.84943179, 0.72445532, 0.61102351, 0.72244338,\n",
    "                                 0.32295891, 0.36178866, 0.22826323, 0.29371405, 0.63097612,\n",
    "                                 0.09210494, 0.43370117, 0.43086276, 0.4936851 , 0.42583029,\n",
    "                                 0.31226122, 0.42635131, 0.89338916, 0.94416002, 0.50183668,\n",
    "                                 0.62395295, 0.1156184 , 0.31728548, 0.41482621, 0.86630916,\n",
    "                                 0.25045537, 0.48303426, 0.98555979, 0.51948512, 0.61289453]\n",
    "                                )\n",
    "                            ), \n",
    "                       'l2': pd.Series(np.array(\n",
    "                                [0.12062867, 0.8263408 , 0.60306013, 0.54506801, 0.34276383,\n",
    "                                 0.30412079, 0.41702221, 0.68130077, 0.87545684, 0.51042234,\n",
    "                                 0.66931378, 0.58593655, 0.6249035 , 0.67468905, 0.84234244,\n",
    "                                 0.08319499, 0.76368284, 0.24366637, 0.19422296, 0.57245696,\n",
    "                                 0.09571252, 0.88532683, 0.62724897, 0.72341636, 0.01612921,\n",
    "                                 0.59443188, 0.55678519, 0.15895964, 0.15307052, 0.69552953,\n",
    "                                 0.31876643, 0.6919703 , 0.55438325, 0.38895057, 0.92513249,\n",
    "                                 0.84167   , 0.35739757, 0.04359146, 0.30476807, 0.39818568,\n",
    "                                 0.70495883, 0.99535848, 0.35591487, 0.76254781, 0.59317692,\n",
    "                                 0.6917018 , 0.15112745, 0.39887629, 0.2408559 , 0.34345601]\n",
    "                                )\n",
    "                            )\n",
    "                      }\n",
    "         )\n",
    "    \n",
    "exog = pd.DataFrame({'col_1': pd.Series(np.array(\n",
    "                                [0.51312815, 0.66662455, 0.10590849, 0.13089495, 0.32198061,\n",
    "                                 0.66156434, 0.84650623, 0.55325734, 0.85445249, 0.38483781,\n",
    "                                 0.3167879 , 0.35426468, 0.17108183, 0.82911263, 0.33867085,\n",
    "                                 0.55237008, 0.57855147, 0.52153306, 0.00268806, 0.98834542,\n",
    "                                 0.90534158, 0.20763586, 0.29248941, 0.52001015, 0.90191137,\n",
    "                                 0.98363088, 0.25754206, 0.56435904, 0.80696868, 0.39437005,\n",
    "                                 0.73107304, 0.16106901, 0.60069857, 0.86586446, 0.98352161,\n",
    "                                 0.07936579, 0.42834727, 0.20454286, 0.45063649, 0.54776357,\n",
    "                                 0.09332671, 0.29686078, 0.92758424, 0.56900373, 0.457412  ,\n",
    "                                 0.75352599, 0.74186215, 0.04857903, 0.7086974 , 0.83924335]\n",
    "                                )\n",
    "                              ),\n",
    "                     'col_2': ['a']*25 + ['b']*25}\n",
    "       )\n",
    "\n",
    "exog_predict = exog.copy()\n",
    "exog_predict.index = pd.RangeIndex(start=50, stop=100)"
   ]
  },
  {
   "cell_type": "code",
   "execution_count": 8,
   "metadata": {},
   "outputs": [
    {
     "data": {
      "text/html": [
       "<div>\n",
       "<style scoped>\n",
       "    .dataframe tbody tr th:only-of-type {\n",
       "        vertical-align: middle;\n",
       "    }\n",
       "\n",
       "    .dataframe tbody tr th {\n",
       "        vertical-align: top;\n",
       "    }\n",
       "\n",
       "    .dataframe thead th {\n",
       "        text-align: right;\n",
       "    }\n",
       "</style>\n",
       "<table border=\"1\" class=\"dataframe\">\n",
       "  <thead>\n",
       "    <tr style=\"text-align: right;\">\n",
       "      <th></th>\n",
       "      <th>l1</th>\n",
       "      <th>l2</th>\n",
       "    </tr>\n",
       "  </thead>\n",
       "  <tbody>\n",
       "    <tr>\n",
       "      <th>0</th>\n",
       "      <td>0.696469</td>\n",
       "      <td>0.120629</td>\n",
       "    </tr>\n",
       "    <tr>\n",
       "      <th>1</th>\n",
       "      <td>0.286139</td>\n",
       "      <td>0.826341</td>\n",
       "    </tr>\n",
       "    <tr>\n",
       "      <th>2</th>\n",
       "      <td>0.226851</td>\n",
       "      <td>0.603060</td>\n",
       "    </tr>\n",
       "  </tbody>\n",
       "</table>\n",
       "</div>"
      ],
      "text/plain": [
       "         l1        l2\n",
       "0  0.696469  0.120629\n",
       "1  0.286139  0.826341\n",
       "2  0.226851  0.603060"
      ]
     },
     "execution_count": 8,
     "metadata": {},
     "output_type": "execute_result"
    }
   ],
   "source": [
    "series.head(3)"
   ]
  },
  {
   "cell_type": "code",
   "execution_count": 94,
   "metadata": {},
   "outputs": [],
   "source": [
    "from skforecast.utils import check_y\n",
    "from skforecast.utils import check_exog\n",
    "from skforecast.utils import check_exog_dtypes\n",
    "from skforecast.utils import get_exog_dtypes\n",
    "from skforecast.utils import transform_series\n",
    "from skforecast.utils import preprocess_y\n",
    "from skforecast.utils import preprocess_exog\n",
    "from skforecast.utils import transform_dataframe\n",
    "from skforecast.ForecasterAutoregMultiSeries import ForecasterAutoregMultiSeries\n",
    "from sklearn.base import clone\n",
    "from copy import copy, deepcopy\n",
    "import warnings\n",
    "\n",
    "forecaster = ForecasterAutoregMultiSeries(LinearRegression(), lags=3)"
   ]
  },
  {
   "cell_type": "code",
   "execution_count": 95,
   "metadata": {},
   "outputs": [],
   "source": [
    "if not isinstance(series, pd.DataFrame):\n",
    "    raise TypeError(f\"`series` must be a pandas DataFrame. Got {type(series)}.\")\n",
    "\n",
    "series_col_names = list(series.columns)\n",
    "\n",
    "if forecaster.transformer_series is None:\n",
    "    forecaster.transformer_series_ = {serie: None for serie in series_col_names}\n",
    "elif not isinstance(forecaster.transformer_series, dict):\n",
    "    forecaster.transformer_series_ = {serie: clone(forecaster.transformer_series) \n",
    "                                for serie in series_col_names}\n",
    "else:\n",
    "    forecaster.transformer_series_ = {serie: None for serie in series_col_names}\n",
    "    # Only elements already present in transformer_series_ are updated\n",
    "    forecaster.transformer_series_.update(\n",
    "        (k, v) for k, v in deepcopy(forecaster.transformer_series).items() if k in forecaster.transformer_series_\n",
    "    )\n",
    "    series_not_in_transformer_series = set(series.columns) - set(forecaster.transformer_series.keys())\n",
    "    if series_not_in_transformer_series:\n",
    "        warnings.warn(\n",
    "            (f\"{series_not_in_transformer_series} not present in `transformer_series`.\"\n",
    "                f\" No transformation is applied to these series.\")\n",
    "        )"
   ]
  },
  {
   "cell_type": "code",
   "execution_count": 96,
   "metadata": {},
   "outputs": [],
   "source": [
    "X_levels = []\n",
    "X_train_col_names = [f\"lag_{lag}\" for lag in forecaster.lags]\n",
    "\n",
    "for i, serie in enumerate(series.columns):\n",
    "\n",
    "    y = series[serie]\n",
    "    check_y(y=y)\n",
    "    y = transform_series(\n",
    "            series            = y,\n",
    "            transformer       = forecaster.transformer_series_[serie],\n",
    "            fit               = True,\n",
    "            inverse_transform = False\n",
    "        )\n",
    "\n",
    "    y_values, y_index = preprocess_y(y=y)\n",
    "    X_train_values, y_train_values = forecaster._create_lags(y=y_values)\n",
    "\n",
    "    if i == 0:\n",
    "        X_train = X_train_values\n",
    "        y_train = y_train_values\n",
    "    else:\n",
    "        X_train = np.vstack((X_train, X_train_values))\n",
    "        y_train = np.append(y_train, y_train_values)\n",
    "\n",
    "    X_level = [serie]*len(X_train_values)\n",
    "    X_levels.extend(X_level)"
   ]
  },
  {
   "cell_type": "code",
   "execution_count": 97,
   "metadata": {},
   "outputs": [
    {
     "data": {
      "text/plain": [
       "['l1', 'l1', 'l1', 'l1', 'l1']"
      ]
     },
     "execution_count": 97,
     "metadata": {},
     "output_type": "execute_result"
    }
   ],
   "source": [
    "X_levels[:5]"
   ]
  },
  {
   "cell_type": "code",
   "execution_count": 98,
   "metadata": {},
   "outputs": [
    {
     "data": {
      "text/plain": [
       "array([[0.22685145, 0.28613933, 0.69646919],\n",
       "       [0.55131477, 0.22685145, 0.28613933],\n",
       "       [0.71946897, 0.55131477, 0.22685145],\n",
       "       [0.42310646, 0.71946897, 0.55131477],\n",
       "       [0.9807642 , 0.42310646, 0.71946897]])"
      ]
     },
     "execution_count": 98,
     "metadata": {},
     "output_type": "execute_result"
    }
   ],
   "source": [
    "X_train[:5]"
   ]
  },
  {
   "cell_type": "code",
   "execution_count": 99,
   "metadata": {},
   "outputs": [],
   "source": [
    "if exog is not None:\n",
    "    if len(exog) != len(y):\n",
    "        raise ValueError(\n",
    "            f'`exog` must have same number of samples as `y`. '\n",
    "            f'length `exog`: ({len(exog)}), length `y`: ({len(y)})'\n",
    "        )\n",
    "    check_exog(exog=exog, allow_nan=True)\n",
    "    if isinstance(exog, pd.Series):\n",
    "        exog = transform_series(\n",
    "                    series            = exog,\n",
    "                    transformer       = forecaster.transformer_exog,\n",
    "                    fit               = True,\n",
    "                    inverse_transform = False\n",
    "                )\n",
    "    else:\n",
    "        exog = transform_dataframe(\n",
    "                    df                = exog,\n",
    "                    transformer       = forecaster.transformer_exog,\n",
    "                    fit               = True,\n",
    "                    inverse_transform = False\n",
    "                )\n",
    "    check_exog(exog=exog, allow_nan=False)\n",
    "    _, exog_index = preprocess_exog(exog=exog, return_values=False)\n",
    "    \n",
    "    if not (exog_index[:len(y_index)] == y_index).all():\n",
    "        raise ValueError(\n",
    "            (\"Different index for `y` and `exog`. They must be equal \"\n",
    "                \"to ensure the correct alignment of values.\")\n",
    "        )\n",
    "    forecaster.exog_dtypes = get_exog_dtypes(exog=exog)"
   ]
  },
  {
   "cell_type": "code",
   "execution_count": 100,
   "metadata": {},
   "outputs": [
    {
     "name": "stderr",
     "output_type": "stream",
     "text": [
      "c:\\Users\\jaesc2\\GitHub\\skforecast\\skforecast\\utils\\utils.py:283: DataTypeWarning: `exog` may contain only `int`, `float` or `category` dtypes. Most machine learning models do not allow other types of values. Fitting the forecaster may fail. \n",
      " You can suppress this warning using: warnings.simplefilter('ignore', category=ValueTypesExogWarning)\n",
      "  (\"`exog` may contain only `int`, `float` or `category` dtypes. Most \"\n"
     ]
    }
   ],
   "source": [
    "exog_to_train = exog.iloc[forecaster.max_lag:, ]\n",
    "check_exog_dtypes(exog_to_train)\n",
    "exog_to_train = pd.concat([exog_to_train]*len(series_col_names)).reset_index(drop=True)"
   ]
  },
  {
   "cell_type": "code",
   "execution_count": 101,
   "metadata": {},
   "outputs": [
    {
     "name": "stdout",
     "output_type": "stream",
     "text": [
      "94\n"
     ]
    },
    {
     "data": {
      "text/html": [
       "<div>\n",
       "<style scoped>\n",
       "    .dataframe tbody tr th:only-of-type {\n",
       "        vertical-align: middle;\n",
       "    }\n",
       "\n",
       "    .dataframe tbody tr th {\n",
       "        vertical-align: top;\n",
       "    }\n",
       "\n",
       "    .dataframe thead th {\n",
       "        text-align: right;\n",
       "    }\n",
       "</style>\n",
       "<table border=\"1\" class=\"dataframe\">\n",
       "  <thead>\n",
       "    <tr style=\"text-align: right;\">\n",
       "      <th></th>\n",
       "      <th>col_1</th>\n",
       "      <th>col_2</th>\n",
       "    </tr>\n",
       "  </thead>\n",
       "  <tbody>\n",
       "    <tr>\n",
       "      <th>3</th>\n",
       "      <td>0.130895</td>\n",
       "      <td>a</td>\n",
       "    </tr>\n",
       "    <tr>\n",
       "      <th>4</th>\n",
       "      <td>0.321981</td>\n",
       "      <td>a</td>\n",
       "    </tr>\n",
       "    <tr>\n",
       "      <th>5</th>\n",
       "      <td>0.661564</td>\n",
       "      <td>a</td>\n",
       "    </tr>\n",
       "  </tbody>\n",
       "</table>\n",
       "</div>"
      ],
      "text/plain": [
       "      col_1 col_2\n",
       "3  0.130895     a\n",
       "4  0.321981     a\n",
       "5  0.661564     a"
      ]
     },
     "execution_count": 101,
     "metadata": {},
     "output_type": "execute_result"
    }
   ],
   "source": [
    "print(len(exog_to_train))\n",
    "exog_to_train.head(3)"
   ]
  },
  {
   "cell_type": "code",
   "execution_count": 102,
   "metadata": {},
   "outputs": [
    {
     "name": "stdout",
     "output_type": "stream",
     "text": [
      "94\n"
     ]
    },
    {
     "data": {
      "text/html": [
       "<div>\n",
       "<style scoped>\n",
       "    .dataframe tbody tr th:only-of-type {\n",
       "        vertical-align: middle;\n",
       "    }\n",
       "\n",
       "    .dataframe tbody tr th {\n",
       "        vertical-align: top;\n",
       "    }\n",
       "\n",
       "    .dataframe thead th {\n",
       "        text-align: right;\n",
       "    }\n",
       "</style>\n",
       "<table border=\"1\" class=\"dataframe\">\n",
       "  <thead>\n",
       "    <tr style=\"text-align: right;\">\n",
       "      <th></th>\n",
       "      <th>l1</th>\n",
       "      <th>l2</th>\n",
       "    </tr>\n",
       "  </thead>\n",
       "  <tbody>\n",
       "    <tr>\n",
       "      <th>0</th>\n",
       "      <td>1.0</td>\n",
       "      <td>0.0</td>\n",
       "    </tr>\n",
       "    <tr>\n",
       "      <th>1</th>\n",
       "      <td>1.0</td>\n",
       "      <td>0.0</td>\n",
       "    </tr>\n",
       "    <tr>\n",
       "      <th>2</th>\n",
       "      <td>1.0</td>\n",
       "      <td>0.0</td>\n",
       "    </tr>\n",
       "  </tbody>\n",
       "</table>\n",
       "</div>"
      ],
      "text/plain": [
       "    l1   l2\n",
       "0  1.0  0.0\n",
       "1  1.0  0.0\n",
       "2  1.0  0.0"
      ]
     },
     "execution_count": 102,
     "metadata": {},
     "output_type": "execute_result"
    }
   ],
   "source": [
    "X_levels = pd.Series(X_levels)\n",
    "X_levels = pd.get_dummies(X_levels, dtype=float)\n",
    "print(len(X_levels))\n",
    "X_levels.head(3)"
   ]
  },
  {
   "cell_type": "code",
   "execution_count": 71,
   "metadata": {},
   "outputs": [
    {
     "data": {
      "text/plain": [
       "['lag_1', 'lag_2', 'lag_3']"
      ]
     },
     "execution_count": 71,
     "metadata": {},
     "output_type": "execute_result"
    }
   ],
   "source": [
    "X_train_col_names"
   ]
  },
  {
   "cell_type": "code",
   "execution_count": 103,
   "metadata": {},
   "outputs": [
    {
     "name": "stdout",
     "output_type": "stream",
     "text": [
      "94\n"
     ]
    },
    {
     "data": {
      "text/html": [
       "<div>\n",
       "<style scoped>\n",
       "    .dataframe tbody tr th:only-of-type {\n",
       "        vertical-align: middle;\n",
       "    }\n",
       "\n",
       "    .dataframe tbody tr th {\n",
       "        vertical-align: top;\n",
       "    }\n",
       "\n",
       "    .dataframe thead th {\n",
       "        text-align: right;\n",
       "    }\n",
       "</style>\n",
       "<table border=\"1\" class=\"dataframe\">\n",
       "  <thead>\n",
       "    <tr style=\"text-align: right;\">\n",
       "      <th></th>\n",
       "      <th>lag_1</th>\n",
       "      <th>lag_2</th>\n",
       "      <th>lag_3</th>\n",
       "    </tr>\n",
       "  </thead>\n",
       "  <tbody>\n",
       "    <tr>\n",
       "      <th>0</th>\n",
       "      <td>0.226851</td>\n",
       "      <td>0.286139</td>\n",
       "      <td>0.696469</td>\n",
       "    </tr>\n",
       "    <tr>\n",
       "      <th>1</th>\n",
       "      <td>0.551315</td>\n",
       "      <td>0.226851</td>\n",
       "      <td>0.286139</td>\n",
       "    </tr>\n",
       "    <tr>\n",
       "      <th>2</th>\n",
       "      <td>0.719469</td>\n",
       "      <td>0.551315</td>\n",
       "      <td>0.226851</td>\n",
       "    </tr>\n",
       "  </tbody>\n",
       "</table>\n",
       "</div>"
      ],
      "text/plain": [
       "      lag_1     lag_2     lag_3\n",
       "0  0.226851  0.286139  0.696469\n",
       "1  0.551315  0.226851  0.286139\n",
       "2  0.719469  0.551315  0.226851"
      ]
     },
     "execution_count": 103,
     "metadata": {},
     "output_type": "execute_result"
    }
   ],
   "source": [
    "X_train = pd.DataFrame(\n",
    "              data    = X_train,\n",
    "              columns = X_train_col_names\n",
    "          )\n",
    "print(len(X_train))\n",
    "X_train.head(3)"
   ]
  },
  {
   "cell_type": "code",
   "execution_count": 104,
   "metadata": {},
   "outputs": [
    {
     "ename": "InvalidIndexError",
     "evalue": "Reindexing only valid with uniquely valued Index objects",
     "output_type": "error",
     "traceback": [
      "\u001b[1;31m---------------------------------------------------------------------------\u001b[0m",
      "\u001b[1;31mInvalidIndexError\u001b[0m                         Traceback (most recent call last)",
      "\u001b[1;32mc:\\Users\\jaesc2\\GitHub\\skforecast\\dev\\categorical_features.ipynb Cell 24\u001b[0m in \u001b[0;36m1\n\u001b[1;32m----> <a href='vscode-notebook-cell:/c%3A/Users/jaesc2/GitHub/skforecast/dev/categorical_features.ipynb#X21sZmlsZQ%3D%3D?line=0'>1</a>\u001b[0m X_train \u001b[39m=\u001b[39m pd\u001b[39m.\u001b[39mconcat([X_train, X_levels, exog_to_train], axis\u001b[39m=\u001b[39m\u001b[39m1\u001b[39m)\n\u001b[0;32m      <a href='vscode-notebook-cell:/c%3A/Users/jaesc2/GitHub/skforecast/dev/categorical_features.ipynb#X21sZmlsZQ%3D%3D?line=1'>2</a>\u001b[0m X_train\u001b[39m.\u001b[39mhead(\u001b[39m3\u001b[39m)\n",
      "File \u001b[1;32mc:\\Users\\jaesc2\\Miniconda3\\envs\\skforecast\\lib\\site-packages\\pandas\\util\\_decorators.py:311\u001b[0m, in \u001b[0;36mdeprecate_nonkeyword_arguments.<locals>.decorate.<locals>.wrapper\u001b[1;34m(*args, **kwargs)\u001b[0m\n\u001b[0;32m    305\u001b[0m \u001b[39mif\u001b[39;00m \u001b[39mlen\u001b[39m(args) \u001b[39m>\u001b[39m num_allow_args:\n\u001b[0;32m    306\u001b[0m     warnings\u001b[39m.\u001b[39mwarn(\n\u001b[0;32m    307\u001b[0m         msg\u001b[39m.\u001b[39mformat(arguments\u001b[39m=\u001b[39marguments),\n\u001b[0;32m    308\u001b[0m         \u001b[39mFutureWarning\u001b[39;00m,\n\u001b[0;32m    309\u001b[0m         stacklevel\u001b[39m=\u001b[39mstacklevel,\n\u001b[0;32m    310\u001b[0m     )\n\u001b[1;32m--> 311\u001b[0m \u001b[39mreturn\u001b[39;00m func(\u001b[39m*\u001b[39margs, \u001b[39m*\u001b[39m\u001b[39m*\u001b[39mkwargs)\n",
      "File \u001b[1;32mc:\\Users\\jaesc2\\Miniconda3\\envs\\skforecast\\lib\\site-packages\\pandas\\core\\reshape\\concat.py:359\u001b[0m, in \u001b[0;36mconcat\u001b[1;34m(objs, axis, join, ignore_index, keys, levels, names, verify_integrity, sort, copy)\u001b[0m\n\u001b[0;32m    155\u001b[0m \u001b[39m\"\"\"\u001b[39;00m\n\u001b[0;32m    156\u001b[0m \u001b[39mConcatenate pandas objects along a particular axis with optional set logic\u001b[39;00m\n\u001b[0;32m    157\u001b[0m \u001b[39malong the other axes.\u001b[39;00m\n\u001b[1;32m   (...)\u001b[0m\n\u001b[0;32m    344\u001b[0m \u001b[39mValueError: Indexes have overlapping values: ['a']\u001b[39;00m\n\u001b[0;32m    345\u001b[0m \u001b[39m\"\"\"\u001b[39;00m\n\u001b[0;32m    346\u001b[0m op \u001b[39m=\u001b[39m _Concatenator(\n\u001b[0;32m    347\u001b[0m     objs,\n\u001b[0;32m    348\u001b[0m     axis\u001b[39m=\u001b[39maxis,\n\u001b[1;32m   (...)\u001b[0m\n\u001b[0;32m    356\u001b[0m     sort\u001b[39m=\u001b[39msort,\n\u001b[0;32m    357\u001b[0m )\n\u001b[1;32m--> 359\u001b[0m \u001b[39mreturn\u001b[39;00m op\u001b[39m.\u001b[39;49mget_result()\n",
      "File \u001b[1;32mc:\\Users\\jaesc2\\Miniconda3\\envs\\skforecast\\lib\\site-packages\\pandas\\core\\reshape\\concat.py:588\u001b[0m, in \u001b[0;36m_Concatenator.get_result\u001b[1;34m(self)\u001b[0m\n\u001b[0;32m    586\u001b[0m         obj_labels \u001b[39m=\u001b[39m obj\u001b[39m.\u001b[39maxes[\u001b[39m1\u001b[39m \u001b[39m-\u001b[39m ax]\n\u001b[0;32m    587\u001b[0m         \u001b[39mif\u001b[39;00m \u001b[39mnot\u001b[39;00m new_labels\u001b[39m.\u001b[39mequals(obj_labels):\n\u001b[1;32m--> 588\u001b[0m             indexers[ax] \u001b[39m=\u001b[39m obj_labels\u001b[39m.\u001b[39;49mget_indexer(new_labels)\n\u001b[0;32m    590\u001b[0m     mgrs_indexers\u001b[39m.\u001b[39mappend((obj\u001b[39m.\u001b[39m_mgr, indexers))\n\u001b[0;32m    592\u001b[0m new_data \u001b[39m=\u001b[39m concatenate_managers(\n\u001b[0;32m    593\u001b[0m     mgrs_indexers, \u001b[39mself\u001b[39m\u001b[39m.\u001b[39mnew_axes, concat_axis\u001b[39m=\u001b[39m\u001b[39mself\u001b[39m\u001b[39m.\u001b[39mbm_axis, copy\u001b[39m=\u001b[39m\u001b[39mself\u001b[39m\u001b[39m.\u001b[39mcopy\n\u001b[0;32m    594\u001b[0m )\n",
      "File \u001b[1;32mc:\\Users\\jaesc2\\Miniconda3\\envs\\skforecast\\lib\\site-packages\\pandas\\core\\indexes\\base.py:3721\u001b[0m, in \u001b[0;36mIndex.get_indexer\u001b[1;34m(self, target, method, limit, tolerance)\u001b[0m\n\u001b[0;32m   3718\u001b[0m \u001b[39mself\u001b[39m\u001b[39m.\u001b[39m_check_indexing_method(method, limit, tolerance)\n\u001b[0;32m   3720\u001b[0m \u001b[39mif\u001b[39;00m \u001b[39mnot\u001b[39;00m \u001b[39mself\u001b[39m\u001b[39m.\u001b[39m_index_as_unique:\n\u001b[1;32m-> 3721\u001b[0m     \u001b[39mraise\u001b[39;00m InvalidIndexError(\u001b[39mself\u001b[39m\u001b[39m.\u001b[39m_requires_unique_msg)\n\u001b[0;32m   3723\u001b[0m \u001b[39mif\u001b[39;00m \u001b[39mlen\u001b[39m(target) \u001b[39m==\u001b[39m \u001b[39m0\u001b[39m:\n\u001b[0;32m   3724\u001b[0m     \u001b[39mreturn\u001b[39;00m np\u001b[39m.\u001b[39marray([], dtype\u001b[39m=\u001b[39mnp\u001b[39m.\u001b[39mintp)\n",
      "\u001b[1;31mInvalidIndexError\u001b[0m: Reindexing only valid with uniquely valued Index objects"
     ]
    }
   ],
   "source": [
    "X_train = pd.concat([X_train, X_levels, exog_to_train], axis=1)\n",
    "X_train.head(3)"
   ]
  },
  {
   "cell_type": "code",
   "execution_count": 74,
   "metadata": {},
   "outputs": [
    {
     "data": {
      "text/plain": [
       "lag_1    float64\n",
       "lag_2    float64\n",
       "lag_3    float64\n",
       "l1       float64\n",
       "l2       float64\n",
       "col_1    float64\n",
       "col_2     object\n",
       "dtype: object"
      ]
     },
     "execution_count": 74,
     "metadata": {},
     "output_type": "execute_result"
    }
   ],
   "source": [
    "X_train.dtypes"
   ]
  },
  {
   "cell_type": "code",
   "execution_count": 23,
   "metadata": {},
   "outputs": [
    {
     "data": {
      "text/plain": [
       "array([[0.22685145, 0.28613933, 0.69646919, 0.13089495, 'a'],\n",
       "       [0.55131477, 0.22685145, 0.28613933, 0.32198061, 'a'],\n",
       "       [0.71946897, 0.55131477, 0.22685145, 0.66156434, 'a'],\n",
       "       [0.42310646, 0.71946897, 0.55131477, 0.84650623, 'a'],\n",
       "       [0.9807642, 0.42310646, 0.71946897, 0.55325734, 'a'],\n",
       "       [0.68482974, 0.9807642, 0.42310646, 0.85445249, 'a'],\n",
       "       [0.4809319, 0.68482974, 0.9807642, 0.38483781, 'a'],\n",
       "       [0.39211752, 0.4809319, 0.68482974, 0.3167879, 'a'],\n",
       "       [0.34317802, 0.39211752, 0.4809319, 0.35426468, 'a'],\n",
       "       [0.72904971, 0.34317802, 0.39211752, 0.17108183, 'a'],\n",
       "       [0.43857224, 0.72904971, 0.34317802, 0.82911263, 'a'],\n",
       "       [0.0596779, 0.43857224, 0.72904971, 0.33867085, 'a'],\n",
       "       [0.39804426, 0.0596779, 0.43857224, 0.55237008, 'a'],\n",
       "       [0.73799541, 0.39804426, 0.0596779, 0.57855147, 'a'],\n",
       "       [0.18249173, 0.73799541, 0.39804426, 0.52153306, 'a'],\n",
       "       [0.17545176, 0.18249173, 0.73799541, 0.00268806, 'a'],\n",
       "       [0.53155137, 0.17545176, 0.18249173, 0.98834542, 'a'],\n",
       "       [0.53182759, 0.53155137, 0.17545176, 0.90534158, 'a'],\n",
       "       [0.63440096, 0.53182759, 0.53155137, 0.20763586, 'a'],\n",
       "       [0.84943179, 0.63440096, 0.53182759, 0.29248941, 'a'],\n",
       "       [0.72445532, 0.84943179, 0.63440096, 0.52001015, 'a'],\n",
       "       [0.61102351, 0.72445532, 0.84943179, 0.90191137, 'a'],\n",
       "       [0.72244338, 0.61102351, 0.72445532, 0.98363088, 'b'],\n",
       "       [0.32295891, 0.72244338, 0.61102351, 0.25754206, 'b'],\n",
       "       [0.36178866, 0.32295891, 0.72244338, 0.56435904, 'b'],\n",
       "       [0.22826323, 0.36178866, 0.32295891, 0.80696868, 'b'],\n",
       "       [0.29371405, 0.22826323, 0.36178866, 0.39437005, 'b'],\n",
       "       [0.63097612, 0.29371405, 0.22826323, 0.73107304, 'b'],\n",
       "       [0.09210494, 0.63097612, 0.29371405, 0.16106901, 'b'],\n",
       "       [0.43370117, 0.09210494, 0.63097612, 0.60069857, 'b'],\n",
       "       [0.43086276, 0.43370117, 0.09210494, 0.86586446, 'b'],\n",
       "       [0.4936851, 0.43086276, 0.43370117, 0.98352161, 'b'],\n",
       "       [0.42583029, 0.4936851, 0.43086276, 0.07936579, 'b'],\n",
       "       [0.31226122, 0.42583029, 0.4936851, 0.42834727, 'b'],\n",
       "       [0.42635131, 0.31226122, 0.42583029, 0.20454286, 'b'],\n",
       "       [0.89338916, 0.42635131, 0.31226122, 0.45063649, 'b'],\n",
       "       [0.94416002, 0.89338916, 0.42635131, 0.54776357, 'b'],\n",
       "       [0.50183668, 0.94416002, 0.89338916, 0.09332671, 'b'],\n",
       "       [0.62395295, 0.50183668, 0.94416002, 0.29686078, 'b'],\n",
       "       [0.1156184, 0.62395295, 0.50183668, 0.92758424, 'b'],\n",
       "       [0.31728548, 0.1156184, 0.62395295, 0.56900373, 'b'],\n",
       "       [0.41482621, 0.31728548, 0.1156184, 0.457412, 'b'],\n",
       "       [0.86630916, 0.41482621, 0.31728548, 0.75352599, 'b'],\n",
       "       [0.25045537, 0.86630916, 0.41482621, 0.74186215, 'b'],\n",
       "       [0.48303426, 0.25045537, 0.86630916, 0.04857903, 'b'],\n",
       "       [0.98555979, 0.48303426, 0.25045537, 0.7086974, 'b'],\n",
       "       [0.51948512, 0.98555979, 0.48303426, 0.83924335, 'b'],\n",
       "       [0.60306013, 0.8263408, 0.12062867, 0.13089495, 'a'],\n",
       "       [0.54506801, 0.60306013, 0.8263408, 0.32198061, 'a'],\n",
       "       [0.34276383, 0.54506801, 0.60306013, 0.66156434, 'a'],\n",
       "       [0.30412079, 0.34276383, 0.54506801, 0.84650623, 'a'],\n",
       "       [0.41702221, 0.30412079, 0.34276383, 0.55325734, 'a'],\n",
       "       [0.68130077, 0.41702221, 0.30412079, 0.85445249, 'a'],\n",
       "       [0.87545684, 0.68130077, 0.41702221, 0.38483781, 'a'],\n",
       "       [0.51042234, 0.87545684, 0.68130077, 0.3167879, 'a'],\n",
       "       [0.66931378, 0.51042234, 0.87545684, 0.35426468, 'a'],\n",
       "       [0.58593655, 0.66931378, 0.51042234, 0.17108183, 'a'],\n",
       "       [0.6249035, 0.58593655, 0.66931378, 0.82911263, 'a'],\n",
       "       [0.67468905, 0.6249035, 0.58593655, 0.33867085, 'a'],\n",
       "       [0.84234244, 0.67468905, 0.6249035, 0.55237008, 'a'],\n",
       "       [0.08319499, 0.84234244, 0.67468905, 0.57855147, 'a'],\n",
       "       [0.76368284, 0.08319499, 0.84234244, 0.52153306, 'a'],\n",
       "       [0.24366637, 0.76368284, 0.08319499, 0.00268806, 'a'],\n",
       "       [0.19422296, 0.24366637, 0.76368284, 0.98834542, 'a'],\n",
       "       [0.57245696, 0.19422296, 0.24366637, 0.90534158, 'a'],\n",
       "       [0.09571252, 0.57245696, 0.19422296, 0.20763586, 'a'],\n",
       "       [0.88532683, 0.09571252, 0.57245696, 0.29248941, 'a'],\n",
       "       [0.62724897, 0.88532683, 0.09571252, 0.52001015, 'a'],\n",
       "       [0.72341636, 0.62724897, 0.88532683, 0.90191137, 'a'],\n",
       "       [0.01612921, 0.72341636, 0.62724897, 0.98363088, 'b'],\n",
       "       [0.59443188, 0.01612921, 0.72341636, 0.25754206, 'b'],\n",
       "       [0.55678519, 0.59443188, 0.01612921, 0.56435904, 'b'],\n",
       "       [0.15895964, 0.55678519, 0.59443188, 0.80696868, 'b'],\n",
       "       [0.15307052, 0.15895964, 0.55678519, 0.39437005, 'b'],\n",
       "       [0.69552953, 0.15307052, 0.15895964, 0.73107304, 'b'],\n",
       "       [0.31876643, 0.69552953, 0.15307052, 0.16106901, 'b'],\n",
       "       [0.6919703, 0.31876643, 0.69552953, 0.60069857, 'b'],\n",
       "       [0.55438325, 0.6919703, 0.31876643, 0.86586446, 'b'],\n",
       "       [0.38895057, 0.55438325, 0.6919703, 0.98352161, 'b'],\n",
       "       [0.92513249, 0.38895057, 0.55438325, 0.07936579, 'b'],\n",
       "       [0.84167, 0.92513249, 0.38895057, 0.42834727, 'b'],\n",
       "       [0.35739757, 0.84167, 0.92513249, 0.20454286, 'b'],\n",
       "       [0.04359146, 0.35739757, 0.84167, 0.45063649, 'b'],\n",
       "       [0.30476807, 0.04359146, 0.35739757, 0.54776357, 'b'],\n",
       "       [0.39818568, 0.30476807, 0.04359146, 0.09332671, 'b'],\n",
       "       [0.70495883, 0.39818568, 0.30476807, 0.29686078, 'b'],\n",
       "       [0.99535848, 0.70495883, 0.39818568, 0.92758424, 'b'],\n",
       "       [0.35591487, 0.99535848, 0.70495883, 0.56900373, 'b'],\n",
       "       [0.76254781, 0.35591487, 0.99535848, 0.457412, 'b'],\n",
       "       [0.59317692, 0.76254781, 0.35591487, 0.75352599, 'b'],\n",
       "       [0.6917018, 0.59317692, 0.76254781, 0.74186215, 'b'],\n",
       "       [0.15112745, 0.6917018, 0.59317692, 0.04857903, 'b'],\n",
       "       [0.39887629, 0.15112745, 0.6917018, 0.7086974, 'b'],\n",
       "       [0.2408559, 0.39887629, 0.15112745, 0.83924335, 'b']], dtype=object)"
      ]
     },
     "execution_count": 23,
     "metadata": {},
     "output_type": "execute_result"
    }
   ],
   "source": [
    "X_train = np.column_stack((\n",
    "                              X_train,\n",
    "                              np.tile(exog.to_numpy()[forecaster.max_lag:, ], [series.shape[1], 1])\n",
    "                          ))\n",
    "X_train"
   ]
  },
  {
   "cell_type": "code",
   "execution_count": 24,
   "metadata": {},
   "outputs": [
    {
     "data": {
      "text/html": [
       "<div>\n",
       "<style scoped>\n",
       "    .dataframe tbody tr th:only-of-type {\n",
       "        vertical-align: middle;\n",
       "    }\n",
       "\n",
       "    .dataframe tbody tr th {\n",
       "        vertical-align: top;\n",
       "    }\n",
       "\n",
       "    .dataframe thead th {\n",
       "        text-align: right;\n",
       "    }\n",
       "</style>\n",
       "<table border=\"1\" class=\"dataframe\">\n",
       "  <thead>\n",
       "    <tr style=\"text-align: right;\">\n",
       "      <th></th>\n",
       "      <th>col_1</th>\n",
       "      <th>col_2</th>\n",
       "    </tr>\n",
       "  </thead>\n",
       "  <tbody>\n",
       "    <tr>\n",
       "      <th>0</th>\n",
       "      <td>0.513128</td>\n",
       "      <td>a</td>\n",
       "    </tr>\n",
       "    <tr>\n",
       "      <th>1</th>\n",
       "      <td>0.666625</td>\n",
       "      <td>a</td>\n",
       "    </tr>\n",
       "    <tr>\n",
       "      <th>2</th>\n",
       "      <td>0.105908</td>\n",
       "      <td>a</td>\n",
       "    </tr>\n",
       "  </tbody>\n",
       "</table>\n",
       "</div>"
      ],
      "text/plain": [
       "      col_1 col_2\n",
       "0  0.513128     a\n",
       "1  0.666625     a\n",
       "2  0.105908     a"
      ]
     },
     "execution_count": 24,
     "metadata": {},
     "output_type": "execute_result"
    }
   ],
   "source": [
    "exog.head(3)"
   ]
  },
  {
   "cell_type": "code",
   "execution_count": 9,
   "metadata": {},
   "outputs": [
    {
     "data": {
      "text/html": [
       "<div>\n",
       "<style scoped>\n",
       "    .dataframe tbody tr th:only-of-type {\n",
       "        vertical-align: middle;\n",
       "    }\n",
       "\n",
       "    .dataframe tbody tr th {\n",
       "        vertical-align: top;\n",
       "    }\n",
       "\n",
       "    .dataframe thead th {\n",
       "        text-align: right;\n",
       "    }\n",
       "</style>\n",
       "<table border=\"1\" class=\"dataframe\">\n",
       "  <thead>\n",
       "    <tr style=\"text-align: right;\">\n",
       "      <th></th>\n",
       "      <th>l1</th>\n",
       "      <th>l2</th>\n",
       "      <th>col_1</th>\n",
       "      <th>col_2</th>\n",
       "    </tr>\n",
       "  </thead>\n",
       "  <tbody>\n",
       "    <tr>\n",
       "      <th>0</th>\n",
       "      <td>0.696469</td>\n",
       "      <td>0.120629</td>\n",
       "      <td>0.513128</td>\n",
       "      <td>a</td>\n",
       "    </tr>\n",
       "    <tr>\n",
       "      <th>1</th>\n",
       "      <td>0.286139</td>\n",
       "      <td>0.826341</td>\n",
       "      <td>0.666625</td>\n",
       "      <td>a</td>\n",
       "    </tr>\n",
       "    <tr>\n",
       "      <th>2</th>\n",
       "      <td>0.226851</td>\n",
       "      <td>0.603060</td>\n",
       "      <td>0.105908</td>\n",
       "      <td>a</td>\n",
       "    </tr>\n",
       "  </tbody>\n",
       "</table>\n",
       "</div>"
      ],
      "text/plain": [
       "         l1        l2     col_1 col_2\n",
       "0  0.696469  0.120629  0.513128     a\n",
       "1  0.286139  0.826341  0.666625     a\n",
       "2  0.226851  0.603060  0.105908     a"
      ]
     },
     "execution_count": 9,
     "metadata": {},
     "output_type": "execute_result"
    }
   ],
   "source": [
    "pd.concat([series, exog, None, None], axis=1).head(3)"
   ]
  },
  {
   "cell_type": "code",
   "execution_count": 5,
   "metadata": {},
   "outputs": [
    {
     "data": {
      "text/html": [
       "<div>\n",
       "<style scoped>\n",
       "    .dataframe tbody tr th:only-of-type {\n",
       "        vertical-align: middle;\n",
       "    }\n",
       "\n",
       "    .dataframe tbody tr th {\n",
       "        vertical-align: top;\n",
       "    }\n",
       "\n",
       "    .dataframe thead th {\n",
       "        text-align: right;\n",
       "    }\n",
       "</style>\n",
       "<table border=\"1\" class=\"dataframe\">\n",
       "  <thead>\n",
       "    <tr style=\"text-align: right;\">\n",
       "      <th></th>\n",
       "      <th>lag_1</th>\n",
       "      <th>lag_2</th>\n",
       "      <th>lag_3</th>\n",
       "      <th>lag_4</th>\n",
       "      <th>lag_5</th>\n",
       "      <th>exog</th>\n",
       "    </tr>\n",
       "  </thead>\n",
       "  <tbody>\n",
       "    <tr>\n",
       "      <th>5</th>\n",
       "      <td>4.0</td>\n",
       "      <td>3.0</td>\n",
       "      <td>2.0</td>\n",
       "      <td>1.0</td>\n",
       "      <td>0.0</td>\n",
       "      <td>True</td>\n",
       "    </tr>\n",
       "    <tr>\n",
       "      <th>6</th>\n",
       "      <td>5.0</td>\n",
       "      <td>4.0</td>\n",
       "      <td>3.0</td>\n",
       "      <td>2.0</td>\n",
       "      <td>1.0</td>\n",
       "      <td>True</td>\n",
       "    </tr>\n",
       "    <tr>\n",
       "      <th>7</th>\n",
       "      <td>6.0</td>\n",
       "      <td>5.0</td>\n",
       "      <td>4.0</td>\n",
       "      <td>3.0</td>\n",
       "      <td>2.0</td>\n",
       "      <td>True</td>\n",
       "    </tr>\n",
       "    <tr>\n",
       "      <th>8</th>\n",
       "      <td>7.0</td>\n",
       "      <td>6.0</td>\n",
       "      <td>5.0</td>\n",
       "      <td>4.0</td>\n",
       "      <td>3.0</td>\n",
       "      <td>True</td>\n",
       "    </tr>\n",
       "    <tr>\n",
       "      <th>9</th>\n",
       "      <td>8.0</td>\n",
       "      <td>7.0</td>\n",
       "      <td>6.0</td>\n",
       "      <td>5.0</td>\n",
       "      <td>4.0</td>\n",
       "      <td>True</td>\n",
       "    </tr>\n",
       "  </tbody>\n",
       "</table>\n",
       "</div>"
      ],
      "text/plain": [
       "   lag_1  lag_2  lag_3  lag_4  lag_5  exog\n",
       "5    4.0    3.0    2.0    1.0    0.0  True\n",
       "6    5.0    4.0    3.0    2.0    1.0  True\n",
       "7    6.0    5.0    4.0    3.0    2.0  True\n",
       "8    7.0    6.0    5.0    4.0    3.0  True\n",
       "9    8.0    7.0    6.0    5.0    4.0  True"
      ]
     },
     "execution_count": 5,
     "metadata": {},
     "output_type": "execute_result"
    }
   ],
   "source": [
    "pd.DataFrame(\n",
    "            data = np.array([[4., 3., 2., 1., 0.],\n",
    "                             [5., 4., 3., 2., 1.],\n",
    "                             [6., 5., 4., 3., 2.],\n",
    "                             [7., 6., 5., 4., 3.],\n",
    "                             [8., 7., 6., 5., 4.]]),\n",
    "            index   = np.array([5, 6, 7, 8, 9]),\n",
    "            columns = ['lag_1', 'lag_2', 'lag_3', 'lag_4', 'lag_5']\n",
    "        ).assign(exog=[True]*5).astype({'exog': bool})"
   ]
  },
  {
   "cell_type": "code",
   "execution_count": 7,
   "metadata": {},
   "outputs": [
    {
     "name": "stderr",
     "output_type": "stream",
     "text": [
      "c:\\Users\\jaesc2\\GitHub\\skforecast\\skforecast\\utils\\utils.py:298: DataTypeWarning: `exog` may contain only `int`, `float` or `category` dtypes. Most machine learning models do not allow other types of values. Fitting the forecaster may fail. \n",
      " You can suppress this warning using: warnings.simplefilter('ignore', category=ValueTypesExogWarning)\n",
      "  warnings.warn(\n"
     ]
    }
   ],
   "source": [
    "y = pd.Series(np.arange(10), dtype=float)\n",
    "exog = pd.Series([True]*10, name='exog', dtype=bool)\n",
    "forecaster = ForecasterAutoreg(LinearRegression(), lags=5)\n",
    "results = forecaster.create_train_X_y(y=y, exog=exog)"
   ]
  },
  {
   "cell_type": "code",
   "execution_count": 14,
   "metadata": {},
   "outputs": [],
   "source": [
    "import re\n",
    "import pytest\n",
    "import numpy as np\n",
    "import pandas as pd\n",
    "from skforecast.ForecasterAutoregMultiSeries import ForecasterAutoregMultiSeries\n",
    "from skforecast.exceptions import MissingValuesExogWarning\n",
    "from sklearn.linear_model import LinearRegression\n",
    "from sklearn.compose import ColumnTransformer\n",
    "from sklearn.preprocessing import StandardScaler\n",
    "from sklearn.preprocessing import OneHotEncoder"
   ]
  },
  {
   "cell_type": "code",
   "execution_count": 23,
   "metadata": {},
   "outputs": [
    {
     "name": "stdout",
     "output_type": "stream",
     "text": [
      "4\n",
      "4\n"
     ]
    }
   ],
   "source": [
    "    series = pd.DataFrame({'1': pd.Series(np.arange(10, dtype=float)), \n",
    "                           '2': pd.Series(np.arange(10, dtype=float))})\n",
    "    exog = pd.DataFrame({\n",
    "               'exog_1': np.arange(100, 110, dtype=int),\n",
    "               'exog_2': np.arange(1000, 1010, dtype=int)\n",
    "           })\n",
    "\n",
    "    forecaster = ForecasterAutoregMultiSeries(LinearRegression(), lags=5)\n",
    "    results = forecaster.create_train_X_y(series=series, exog=exog)    \n",
    "\n",
    "    expected = (\n",
    "        pd.DataFrame(\n",
    "            data = np.array([[4., 3., 2., 1., 0., 105., 1005., 1., 0.],\n",
    "                             [5., 4., 3., 2., 1., 106., 1006., 1., 0.],\n",
    "                             [6., 5., 4., 3., 2., 107., 1007., 1., 0.],\n",
    "                             [7., 6., 5., 4., 3., 108., 1008., 1., 0.],\n",
    "                             [8., 7., 6., 5., 4., 109., 1009., 1., 0.],\n",
    "                             [4., 3., 2., 1., 0., 105., 1005., 0., 1.],\n",
    "                             [5., 4., 3., 2., 1., 106., 1006., 0., 1.],\n",
    "                             [6., 5., 4., 3., 2., 107., 1007., 0., 1.],\n",
    "                             [7., 6., 5., 4., 3., 108., 1008., 0., 1.],\n",
    "                             [8., 7., 6., 5., 4., 109., 1009., 0., 1.]]),\n",
    "            index   = np.array([0, 1, 2, 3, 4, 5, 6, 7, 8, 9]),\n",
    "            columns = ['lag_1', 'lag_2', 'lag_3', 'lag_4', 'lag_5', \n",
    "                       'exog_1', 'exog_2', '1', '2']\n",
    "        ).astype({'exog_1': int, 'exog_2': int}),\n",
    "        pd.Series(\n",
    "            data  = np.array([5, 6, 7, 8, 9, 5, 6, 7, 8, 9]),\n",
    "            index = np.array([0, 1, 2, 3, 4, 5, 6, 7, 8, 9]),\n",
    "            name  = 'y',\n",
    "            dtype = float\n",
    "        ),\n",
    "        pd.RangeIndex(start=0, stop=len(series), step=1),\n",
    "        pd.Index(np.array([5, 6, 7, 8, 9, 5, 6, 7, 8, 9]))\n",
    "    )\n",
    "\n",
    "    for i in range(len(expected)):\n",
    "        if isinstance(expected[i], pd.DataFrame):\n",
    "            pd.testing.assert_frame_equal(results[i], expected[i])\n",
    "        elif isinstance(expected[i], pd.Series):\n",
    "            pd.testing.assert_series_equal(results[i], expected[i])\n",
    "        else:\n",
    "            print(4)\n",
    "            np.testing.assert_array_equal(results[i], expected[i])"
   ]
  },
  {
   "cell_type": "code",
   "execution_count": 36,
   "metadata": {},
   "outputs": [
    {
     "name": "stderr",
     "output_type": "stream",
     "text": [
      "c:\\Users\\jaesc2\\GitHub\\skforecast\\skforecast\\utils\\utils.py:283: DataTypeWarning: `exog` may contain only `int`, `float` or `category` dtypes. Most machine learning models do not allow other types of values. Fitting the forecaster may fail. \n",
      " You can suppress this warning using: warnings.simplefilter('ignore', category=ValueTypesExogWarning)\n",
      "  warnings.warn(\n"
     ]
    }
   ],
   "source": [
    "v_exog_1 = [True]\n",
    "v_exog_2 = [False]\n",
    "dtype = bool\n",
    "\n",
    "series = pd.DataFrame({'l1': pd.Series(np.arange(10, dtype=float)), \n",
    "                        'l2': pd.Series(np.arange(10, dtype=float))})\n",
    "exog = pd.DataFrame({'exog_1': v_exog_1*10,\n",
    "                        'exog_2': v_exog_2*10})\n",
    "\n",
    "forecaster = ForecasterAutoregMultiSeries(LinearRegression(), lags=5)\n",
    "results = forecaster.create_train_X_y(series=series, exog=exog)    \n",
    "\n",
    "expected = (\n",
    "    pd.DataFrame(\n",
    "        data = np.array([[4., 3., 2., 1., 0.],\n",
    "                            [5., 4., 3., 2., 1.],\n",
    "                            [6., 5., 4., 3., 2.],\n",
    "                            [7., 6., 5., 4., 3.],\n",
    "                            [8., 7., 6., 5., 4.],\n",
    "                            [4., 3., 2., 1., 0.],\n",
    "                            [5., 4., 3., 2., 1.],\n",
    "                            [6., 5., 4., 3., 2.],\n",
    "                            [7., 6., 5., 4., 3.],\n",
    "                            [8., 7., 6., 5., 4.]]),\n",
    "        index   = np.array([0, 1, 2, 3, 4, 5, 6, 7, 8, 9]),\n",
    "        columns = ['lag_1', 'lag_2', 'lag_3', 'lag_4', 'lag_5']\n",
    "    ).assign(exog_1=v_exog_1*5 + v_exog_1*5, \n",
    "                exog_2=v_exog_2*5 + v_exog_2*5, \n",
    "                l1=[1.]*5 + [0.]*5, \n",
    "                l2=[0.]*5 + [1.]*5).astype({'exog_1': dtype, 'exog_2': dtype}),\n",
    "    pd.Series(\n",
    "        data  = np.array([5, 6, 7, 8, 9, 5, 6, 7, 8, 9]),\n",
    "        index = np.array([0, 1, 2, 3, 4, 5, 6, 7, 8, 9]),\n",
    "        name  = 'y',\n",
    "        dtype = float\n",
    "    ),\n",
    "    pd.RangeIndex(start=0, stop=len(series), step=1),\n",
    "    pd.Index(np.array([5, 6, 7, 8, 9, 5, 6, 7, 8, 9]))\n",
    ")\n",
    "\n",
    "for i in range(len(expected)):\n",
    "    if isinstance(expected[i], pd.DataFrame):\n",
    "        pd.testing.assert_frame_equal(results[i], expected[i])\n",
    "    elif isinstance(expected[i], pd.Series):\n",
    "        pd.testing.assert_series_equal(results[i], expected[i])\n",
    "    else:\n",
    "        np.testing.assert_array_equal(results[i], expected[i])"
   ]
  },
  {
   "cell_type": "code",
   "execution_count": 53,
   "metadata": {},
   "outputs": [],
   "source": [
    "exog = pd.Categorical([5, 6, 7, 8, 9]*2, categories=range(10))"
   ]
  },
  {
   "cell_type": "code",
   "execution_count": 55,
   "metadata": {},
   "outputs": [],
   "source": [
    "\n",
    "series = pd.DataFrame({'l1': pd.Series(np.arange(10, dtype=float)), \n",
    "                        'l2': pd.Series(np.arange(10, dtype=float))})\n",
    "forecaster = ForecasterAutoregMultiSeries(\n",
    "                regressor          = LinearRegression(),\n",
    "                lags               = 5,\n",
    "                transformer_series = StandardScaler()\n",
    "            )\n",
    "results = forecaster.create_train_X_y(series=series)"
   ]
  },
  {
   "cell_type": "code",
   "execution_count": 64,
   "metadata": {},
   "outputs": [
    {
     "data": {
      "text/plain": [
       "array([0.17407766, 0.52223297, 0.87038828, 1.21854359, 1.5666989 ,\n",
       "       0.17407766, 0.52223297, 0.87038828, 1.21854359, 1.5666989 ])"
      ]
     },
     "execution_count": 64,
     "metadata": {},
     "output_type": "execute_result"
    }
   ],
   "source": [
    "results[1].to_numpy()"
   ]
  },
  {
   "cell_type": "code",
   "execution_count": 87,
   "metadata": {},
   "outputs": [],
   "source": [
    "series = pd.DataFrame({'1': np.arange(10, dtype=float), \n",
    "                        '2': np.arange(10, dtype=float)},\n",
    "                        index = pd.date_range(\"1990-01-01\", periods=10, freq='D'))\n",
    "exog = pd.DataFrame({\n",
    "            'col_1': [7.5, 24.4, 60.3, 57.3, 50.7, 41.4, 24.4, 87.2, 47.4, 23.8],\n",
    "            'col_2': ['a', 'a', 'a', 'a', 'a', 'b', 'b', 'b', 'b', 'b']},\n",
    "            index = pd.date_range(\"1990-01-01\", periods=10, freq='D'))\n",
    "\n",
    "transformer_exog = ColumnTransformer(\n",
    "                        [('scale', StandardScaler(), ['col_1']),\n",
    "                            ('onehot', OneHotEncoder(), ['col_2'])],\n",
    "                        remainder = 'passthrough',\n",
    "                        verbose_feature_names_out = False\n",
    "                    )\n",
    "\n",
    "forecaster = ForecasterAutoregMultiSeries(\n",
    "                    regressor          = LinearRegression(),\n",
    "                    lags               = 3,\n",
    "                    transformer_series = StandardScaler(),\n",
    "                    transformer_exog   = transformer_exog\n",
    "                )\n",
    "results = forecaster.create_train_X_y(series=series, exog=exog)\n",
    "\n",
    "expected = (\n",
    "    pd.DataFrame(\n",
    "        data = np.array([\n",
    "                    [-0.87038828, -1.21854359, -1.5666989 ,  0.67431975, 1., 0., 1., 0.],\n",
    "                    [-0.52223297, -0.87038828, -1.21854359,  0.37482376, 1., 0., 1., 0.],\n",
    "                    [-0.17407766, -0.52223297, -0.87038828, -0.04719331, 0., 1., 1., 0.],\n",
    "                    [ 0.17407766, -0.17407766, -0.52223297, -0.81862236, 0., 1., 1., 0.],\n",
    "                    [ 0.52223297,  0.17407766, -0.17407766,  2.03112731, 0., 1., 1., 0.],\n",
    "                    [ 0.87038828,  0.52223297,  0.17407766,  0.22507577, 0., 1., 1., 0.],\n",
    "                    [ 1.21854359,  0.87038828,  0.52223297, -0.84584926, 0., 1., 1., 0.],\n",
    "                    [-0.87038828, -1.21854359, -1.5666989 ,  0.67431975, 1., 0., 0., 1.],\n",
    "                    [-0.52223297, -0.87038828, -1.21854359,  0.37482376, 1., 0., 0., 1.],\n",
    "                    [-0.17407766, -0.52223297, -0.87038828, -0.04719331, 0., 1., 0., 1.],\n",
    "                    [ 0.17407766, -0.17407766, -0.52223297, -0.81862236, 0., 1., 0., 1.],\n",
    "                    [ 0.52223297,  0.17407766, -0.17407766,  2.03112731, 0., 1., 0., 1.],\n",
    "                    [ 0.87038828,  0.52223297,  0.17407766,  0.22507577, 0., 1., 0., 1.],\n",
    "                    [ 1.21854359,  0.87038828,  0.52223297, -0.84584926, 0., 1., 0., 1.]]),\n",
    "        index   = pd.RangeIndex(start=0, stop=14, step=1),\n",
    "        columns = ['lag_1', 'lag_2', 'lag_3', 'col_1',\n",
    "                    'col_2_a', 'col_2_b', '1', '2']\n",
    "    ),\n",
    "    pd.Series(\n",
    "        data  = np.array([-0.52223297, -0.17407766,  0.17407766,  0.52223297,  0.87038828,\n",
    "                            1.21854359,  1.5666989 , -0.52223297, -0.17407766,  0.17407766,\n",
    "                            0.52223297,  0.87038828,  1.21854359,  1.5666989 ]),\n",
    "        index = pd.RangeIndex(start=0, stop=14, step=1),\n",
    "        name  = 'y',\n",
    "        dtype = float\n",
    "    ),\n",
    "    pd.date_range(\"1990-01-01\", periods=10, freq='D'),\n",
    "    pd.Index(pd.DatetimeIndex(['1990-01-04', '1990-01-05', '1990-01-06', '1990-01-07', \n",
    "                                '1990-01-08', '1990-01-09', '1990-01-10', '1990-01-04',\n",
    "                                '1990-01-05', '1990-01-06', '1990-01-07', '1990-01-08',\n",
    "                                '1990-01-09', '1990-01-10']))\n",
    ")\n",
    "\n",
    "for i in range(len(expected)):\n",
    "    if isinstance(expected[i], pd.DataFrame):\n",
    "        pd.testing.assert_frame_equal(results[i], expected[i])\n",
    "    elif isinstance(expected[i], pd.Series):\n",
    "        pd.testing.assert_series_equal(results[i], expected[i])\n",
    "    else:\n",
    "        np.testing.assert_array_equal(results[i], expected[i])"
   ]
  },
  {
   "cell_type": "code",
   "execution_count": 86,
   "metadata": {},
   "outputs": [
    {
     "data": {
      "text/html": [
       "<div>\n",
       "<style scoped>\n",
       "    .dataframe tbody tr th:only-of-type {\n",
       "        vertical-align: middle;\n",
       "    }\n",
       "\n",
       "    .dataframe tbody tr th {\n",
       "        vertical-align: top;\n",
       "    }\n",
       "\n",
       "    .dataframe thead th {\n",
       "        text-align: right;\n",
       "    }\n",
       "</style>\n",
       "<table border=\"1\" class=\"dataframe\">\n",
       "  <thead>\n",
       "    <tr style=\"text-align: right;\">\n",
       "      <th></th>\n",
       "      <th>lag_1</th>\n",
       "      <th>lag_2</th>\n",
       "      <th>lag_3</th>\n",
       "      <th>col_1</th>\n",
       "      <th>col_2_a</th>\n",
       "      <th>col_2_b</th>\n",
       "      <th>1</th>\n",
       "      <th>2</th>\n",
       "    </tr>\n",
       "  </thead>\n",
       "  <tbody>\n",
       "    <tr>\n",
       "      <th>0</th>\n",
       "      <td>-0.870388</td>\n",
       "      <td>-1.218544</td>\n",
       "      <td>-1.566699</td>\n",
       "      <td>0.674320</td>\n",
       "      <td>1.0</td>\n",
       "      <td>0.0</td>\n",
       "      <td>1.0</td>\n",
       "      <td>0.0</td>\n",
       "    </tr>\n",
       "    <tr>\n",
       "      <th>1</th>\n",
       "      <td>-0.522233</td>\n",
       "      <td>-0.870388</td>\n",
       "      <td>-1.218544</td>\n",
       "      <td>0.374824</td>\n",
       "      <td>1.0</td>\n",
       "      <td>0.0</td>\n",
       "      <td>1.0</td>\n",
       "      <td>0.0</td>\n",
       "    </tr>\n",
       "    <tr>\n",
       "      <th>2</th>\n",
       "      <td>-0.174078</td>\n",
       "      <td>-0.522233</td>\n",
       "      <td>-0.870388</td>\n",
       "      <td>-0.047193</td>\n",
       "      <td>0.0</td>\n",
       "      <td>1.0</td>\n",
       "      <td>1.0</td>\n",
       "      <td>0.0</td>\n",
       "    </tr>\n",
       "    <tr>\n",
       "      <th>3</th>\n",
       "      <td>0.174078</td>\n",
       "      <td>-0.174078</td>\n",
       "      <td>-0.522233</td>\n",
       "      <td>-0.818622</td>\n",
       "      <td>0.0</td>\n",
       "      <td>1.0</td>\n",
       "      <td>1.0</td>\n",
       "      <td>0.0</td>\n",
       "    </tr>\n",
       "    <tr>\n",
       "      <th>4</th>\n",
       "      <td>0.522233</td>\n",
       "      <td>0.174078</td>\n",
       "      <td>-0.174078</td>\n",
       "      <td>2.031127</td>\n",
       "      <td>0.0</td>\n",
       "      <td>1.0</td>\n",
       "      <td>1.0</td>\n",
       "      <td>0.0</td>\n",
       "    </tr>\n",
       "    <tr>\n",
       "      <th>5</th>\n",
       "      <td>0.870388</td>\n",
       "      <td>0.522233</td>\n",
       "      <td>0.174078</td>\n",
       "      <td>0.225076</td>\n",
       "      <td>0.0</td>\n",
       "      <td>1.0</td>\n",
       "      <td>1.0</td>\n",
       "      <td>0.0</td>\n",
       "    </tr>\n",
       "    <tr>\n",
       "      <th>6</th>\n",
       "      <td>1.218544</td>\n",
       "      <td>0.870388</td>\n",
       "      <td>0.522233</td>\n",
       "      <td>-0.845849</td>\n",
       "      <td>0.0</td>\n",
       "      <td>1.0</td>\n",
       "      <td>1.0</td>\n",
       "      <td>0.0</td>\n",
       "    </tr>\n",
       "    <tr>\n",
       "      <th>7</th>\n",
       "      <td>-0.870388</td>\n",
       "      <td>-1.218544</td>\n",
       "      <td>-1.566699</td>\n",
       "      <td>0.674320</td>\n",
       "      <td>1.0</td>\n",
       "      <td>0.0</td>\n",
       "      <td>0.0</td>\n",
       "      <td>1.0</td>\n",
       "    </tr>\n",
       "    <tr>\n",
       "      <th>8</th>\n",
       "      <td>-0.522233</td>\n",
       "      <td>-0.870388</td>\n",
       "      <td>-1.218544</td>\n",
       "      <td>0.374824</td>\n",
       "      <td>1.0</td>\n",
       "      <td>0.0</td>\n",
       "      <td>0.0</td>\n",
       "      <td>1.0</td>\n",
       "    </tr>\n",
       "    <tr>\n",
       "      <th>9</th>\n",
       "      <td>-0.174078</td>\n",
       "      <td>-0.522233</td>\n",
       "      <td>-0.870388</td>\n",
       "      <td>-0.047193</td>\n",
       "      <td>0.0</td>\n",
       "      <td>1.0</td>\n",
       "      <td>0.0</td>\n",
       "      <td>1.0</td>\n",
       "    </tr>\n",
       "    <tr>\n",
       "      <th>10</th>\n",
       "      <td>0.174078</td>\n",
       "      <td>-0.174078</td>\n",
       "      <td>-0.522233</td>\n",
       "      <td>-0.818622</td>\n",
       "      <td>0.0</td>\n",
       "      <td>1.0</td>\n",
       "      <td>0.0</td>\n",
       "      <td>1.0</td>\n",
       "    </tr>\n",
       "    <tr>\n",
       "      <th>11</th>\n",
       "      <td>0.522233</td>\n",
       "      <td>0.174078</td>\n",
       "      <td>-0.174078</td>\n",
       "      <td>2.031127</td>\n",
       "      <td>0.0</td>\n",
       "      <td>1.0</td>\n",
       "      <td>0.0</td>\n",
       "      <td>1.0</td>\n",
       "    </tr>\n",
       "    <tr>\n",
       "      <th>12</th>\n",
       "      <td>0.870388</td>\n",
       "      <td>0.522233</td>\n",
       "      <td>0.174078</td>\n",
       "      <td>0.225076</td>\n",
       "      <td>0.0</td>\n",
       "      <td>1.0</td>\n",
       "      <td>0.0</td>\n",
       "      <td>1.0</td>\n",
       "    </tr>\n",
       "    <tr>\n",
       "      <th>13</th>\n",
       "      <td>1.218544</td>\n",
       "      <td>0.870388</td>\n",
       "      <td>0.522233</td>\n",
       "      <td>-0.845849</td>\n",
       "      <td>0.0</td>\n",
       "      <td>1.0</td>\n",
       "      <td>0.0</td>\n",
       "      <td>1.0</td>\n",
       "    </tr>\n",
       "  </tbody>\n",
       "</table>\n",
       "</div>"
      ],
      "text/plain": [
       "       lag_1     lag_2     lag_3     col_1  col_2_a  col_2_b    1    2\n",
       "0  -0.870388 -1.218544 -1.566699  0.674320      1.0      0.0  1.0  0.0\n",
       "1  -0.522233 -0.870388 -1.218544  0.374824      1.0      0.0  1.0  0.0\n",
       "2  -0.174078 -0.522233 -0.870388 -0.047193      0.0      1.0  1.0  0.0\n",
       "3   0.174078 -0.174078 -0.522233 -0.818622      0.0      1.0  1.0  0.0\n",
       "4   0.522233  0.174078 -0.174078  2.031127      0.0      1.0  1.0  0.0\n",
       "5   0.870388  0.522233  0.174078  0.225076      0.0      1.0  1.0  0.0\n",
       "6   1.218544  0.870388  0.522233 -0.845849      0.0      1.0  1.0  0.0\n",
       "7  -0.870388 -1.218544 -1.566699  0.674320      1.0      0.0  0.0  1.0\n",
       "8  -0.522233 -0.870388 -1.218544  0.374824      1.0      0.0  0.0  1.0\n",
       "9  -0.174078 -0.522233 -0.870388 -0.047193      0.0      1.0  0.0  1.0\n",
       "10  0.174078 -0.174078 -0.522233 -0.818622      0.0      1.0  0.0  1.0\n",
       "11  0.522233  0.174078 -0.174078  2.031127      0.0      1.0  0.0  1.0\n",
       "12  0.870388  0.522233  0.174078  0.225076      0.0      1.0  0.0  1.0\n",
       "13  1.218544  0.870388  0.522233 -0.845849      0.0      1.0  0.0  1.0"
      ]
     },
     "execution_count": 86,
     "metadata": {},
     "output_type": "execute_result"
    }
   ],
   "source": [
    "results[0]"
   ]
  },
  {
   "cell_type": "code",
   "execution_count": 80,
   "metadata": {},
   "outputs": [
    {
     "data": {
      "text/plain": [
       "DatetimeIndex(['1990-01-04', '1990-01-05', '1990-01-06', '1990-01-07',\n",
       "               '1990-01-08', '1990-01-09', '1990-01-10', '1990-01-04',\n",
       "               '1990-01-05', '1990-01-06', '1990-01-07', '1990-01-08',\n",
       "               '1990-01-09', '1990-01-10'],\n",
       "              dtype='datetime64[ns]', freq=None)"
      ]
     },
     "execution_count": 80,
     "metadata": {},
     "output_type": "execute_result"
    }
   ],
   "source": [
    "results[3]"
   ]
  },
  {
   "cell_type": "code",
   "execution_count": null,
   "metadata": {},
   "outputs": [],
   "source": []
  }
 ],
 "metadata": {
  "kernelspec": {
   "display_name": "skforecast_py10",
   "language": "python",
   "name": "python3"
  },
  "language_info": {
   "codemirror_mode": {
    "name": "ipython",
    "version": 3
   },
   "file_extension": ".py",
   "mimetype": "text/x-python",
   "name": "python",
   "nbconvert_exporter": "python",
   "pygments_lexer": "ipython3",
   "version": "3.10.10"
  },
  "orig_nbformat": 4,
  "vscode": {
   "interpreter": {
    "hash": "6cf372b23b9916b33b4c23f9ee2e7d08e597eb711b766c11830fb054f7812cb1"
   }
  }
 },
 "nbformat": 4,
 "nbformat_minor": 2
}
