{
 "cells": [
  {
   "cell_type": "markdown",
   "id": "6e32bc2f",
   "metadata": {},
   "source": [
    "# Contextualized Bayesian Networks"
   ]
  },
  {
   "cell_type": "markdown",
   "id": "30c7901a",
   "metadata": {},
   "source": [
    "For more details, please see the [NOTMAD preprint](https://arxiv.org/abs/2111.01104)."
   ]
  },
  {
   "cell_type": "markdown",
   "id": "48502080",
   "metadata": {},
   "source": [
    "# Factor Graphs\n",
    "To improve scalability, we can include factor graphs (low-dimensional axes of network variation).\n",
    "This is controlled by the `num_factors` parameter. The default value of 0 turns off factor graphs and computes the network in full dimensionality."
   ]
  },
  {
   "cell_type": "code",
   "execution_count": 1,
   "id": "76d3c5b5",
   "metadata": {},
   "outputs": [],
   "source": [
    "import numpy as np\n",
    "from contextualized.dags.graph_utils import simulate_linear_sem\n",
    "n = 1000\n",
    "C = np.linspace(1, 2, n).reshape((n, 1))\n",
    "W = np.zeros((4, 4, n, 1))\n",
    "W[0, 1] = C - 2\n",
    "W[2, 1] = C**2\n",
    "W[3, 1] = C**3\n",
    "W[3, 2] = C\n",
    "W = np.squeeze(W)\n",
    "W = np.transpose(W, (2, 0, 1))\n",
    "X = np.zeros((n, 4))\n",
    "for i, w in enumerate(W):\n",
    "    x = simulate_linear_sem(w, 1, \"uniform\", noise_scale=0.1)[0]\n",
    "    X[i] = x"
   ]
  },
  {
   "cell_type": "code",
   "execution_count": 2,
   "id": "6d942279",
   "metadata": {},
   "outputs": [
    {
     "name": "stderr",
     "output_type": "stream",
     "text": [
      "GPU available: True (mps), used: False\n",
      "TPU available: False, using: 0 TPU cores\n",
      "IPU available: False, using: 0 IPUs\n",
      "HPU available: False, using: 0 HPUs\n",
      "\n",
      "  | Name           | Type      | Params\n",
      "---------------------------------------------\n",
      "0 | encoder        | MLP       | 1.4 K \n",
      "1 | explainer      | Explainer | 8     \n",
      "2 | factor_softmax | Softmax   | 0     \n",
      "---------------------------------------------\n",
      "1.4 K     Trainable params\n",
      "0         Non-trainable params\n",
      "1.4 K     Total params\n",
      "0.006     Total estimated model params size (MB)\n",
      "IOPub message rate exceeded.\n",
      "The notebook server will temporarily stop sending output\n",
      "to the client in order to avoid crashing it.\n",
      "To change this limit, set the config variable\n",
      "`--NotebookApp.iopub_msg_rate_limit`.\n",
      "\n",
      "Current values:\n",
      "NotebookApp.iopub_msg_rate_limit=1000.0 (msgs/sec)\n",
      "NotebookApp.rate_limit_window=3.0 (secs)\n",
      "\n",
      "IOPub message rate exceeded.\n",
      "The notebook server will temporarily stop sending output\n",
      "to the client in order to avoid crashing it.\n",
      "To change this limit, set the config variable\n",
      "`--NotebookApp.iopub_msg_rate_limit`.\n",
      "\n",
      "Current values:\n",
      "NotebookApp.iopub_msg_rate_limit=1000.0 (msgs/sec)\n",
      "NotebookApp.rate_limit_window=3.0 (secs)\n",
      "\n",
      "IOPub message rate exceeded.\n",
      "The notebook server will temporarily stop sending output\n",
      "to the client in order to avoid crashing it.\n",
      "To change this limit, set the config variable\n",
      "`--NotebookApp.iopub_msg_rate_limit`.\n",
      "\n",
      "Current values:\n",
      "NotebookApp.iopub_msg_rate_limit=1000.0 (msgs/sec)\n",
      "NotebookApp.rate_limit_window=3.0 (secs)\n",
      "\n",
      "IOPub message rate exceeded.\n",
      "The notebook server will temporarily stop sending output\n",
      "to the client in order to avoid crashing it.\n",
      "To change this limit, set the config variable\n",
      "`--NotebookApp.iopub_msg_rate_limit`.\n",
      "\n",
      "Current values:\n",
      "NotebookApp.iopub_msg_rate_limit=1000.0 (msgs/sec)\n",
      "NotebookApp.rate_limit_window=3.0 (secs)\n",
      "\n",
      "IOPub message rate exceeded.\n",
      "The notebook server will temporarily stop sending output\n",
      "to the client in order to avoid crashing it.\n",
      "To change this limit, set the config variable\n",
      "`--NotebookApp.iopub_msg_rate_limit`.\n",
      "\n",
      "Current values:\n",
      "NotebookApp.iopub_msg_rate_limit=1000.0 (msgs/sec)\n",
      "NotebookApp.rate_limit_window=3.0 (secs)\n",
      "\n",
      "IOPub message rate exceeded.\n",
      "The notebook server will temporarily stop sending output\n",
      "to the client in order to avoid crashing it.\n",
      "To change this limit, set the config variable\n",
      "`--NotebookApp.iopub_msg_rate_limit`.\n",
      "\n",
      "Current values:\n",
      "NotebookApp.iopub_msg_rate_limit=1000.0 (msgs/sec)\n",
      "NotebookApp.rate_limit_window=3.0 (secs)\n",
      "\n",
      "`Trainer.fit` stopped: `max_epochs=10` reached.\n"
     ]
    }
   ],
   "source": [
    "%%capture\n",
    "from contextualized.easy import ContextualizedBayesianNetworks\n",
    "\n",
    "cbn = ContextualizedBayesianNetworks(\n",
    "    encoder_type='mlp', num_archetypes=2, num_factors=2,\n",
    "    n_bootstraps=1, archetype_dag_loss_type=\"DAGMA\", archetype_alpha=0.,\n",
    "    sample_specific_dag_loss_type=\"DAGMA\", sample_specific_alpha=1e-1,\n",
    "    learning_rate=1e-3)\n",
    "cbn.fit(C, X, max_epochs=10)"
   ]
  },
  {
   "cell_type": "code",
   "execution_count": 3,
   "id": "1b24b351",
   "metadata": {},
   "outputs": [
    {
     "data": {
      "text/plain": [
       "2"
      ]
     },
     "execution_count": 3,
     "metadata": {},
     "output_type": "execute_result"
    }
   ],
   "source": [
    "cbn.models[-1].latent_dim"
   ]
  },
  {
   "cell_type": "markdown",
   "id": "3ba6579a",
   "metadata": {},
   "source": [
    "We can predict full-dimensional graphs or factor graphs based on the keyword argument `factors`:\n"
   ]
  },
  {
   "cell_type": "code",
   "execution_count": 4,
   "id": "eff39da9",
   "metadata": {},
   "outputs": [
    {
     "name": "stderr",
     "output_type": "stream",
     "text": [
      "/opt/homebrew/lib/python3.10/site-packages/pytorch_lightning/trainer/connectors/data_connector.py:224: PossibleUserWarning: The dataloader, predict_dataloader 0, does not have many workers which may be a bottleneck. Consider increasing the value of the `num_workers` argument` (try 10 which is the number of cpus on this machine) in the `DataLoader` init to improve performance.\n",
      "  rank_zero_warn(\n"
     ]
    },
    {
     "data": {
      "application/vnd.jupyter.widget-view+json": {
       "model_id": "33abc1f9ceea4fd0bff9fbeb35ac6eac",
       "version_major": 2,
       "version_minor": 0
      },
      "text/plain": [
       "Predicting: 800it [00:00, ?it/s]"
      ]
     },
     "metadata": {},
     "output_type": "display_data"
    },
    {
     "name": "stdout",
     "output_type": "stream",
     "text": [
      "(1000, 4, 4)\n"
     ]
    },
    {
     "data": {
      "application/vnd.jupyter.widget-view+json": {
       "model_id": "7c7548b2a92043bda92f2cbdd5ca0a60",
       "version_major": 2,
       "version_minor": 0
      },
      "text/plain": [
       "Predicting: 800it [00:00, ?it/s]"
      ]
     },
     "metadata": {},
     "output_type": "display_data"
    },
    {
     "data": {
      "text/plain": [
       "(1000, 2, 2)"
      ]
     },
     "execution_count": 4,
     "metadata": {},
     "output_type": "execute_result"
    }
   ],
   "source": [
    "predicted_networks = cbn.predict_networks(C)\n",
    "print(predicted_networks.shape)\n",
    "\n",
    "predicted_factor_networks = cbn.predict_networks(C, factors=True)\n",
    "predicted_factor_networks.shape"
   ]
  },
  {
   "cell_type": "code",
   "execution_count": 25,
   "id": "bf9d0940",
   "metadata": {
    "scrolled": true
   },
   "outputs": [
    {
     "name": "stderr",
     "output_type": "stream",
     "text": [
      "GPU available: True (mps), used: False\n",
      "TPU available: False, using: 0 TPU cores\n",
      "IPU available: False, using: 0 IPUs\n",
      "HPU available: False, using: 0 HPUs\n",
      "\n",
      "  | Name           | Type      | Params\n",
      "---------------------------------------------\n",
      "0 | encoder        | MLP       | 1.4 K \n",
      "1 | explainer      | Explainer | 2     \n",
      "2 | factor_softmax | Softmax   | 0     \n",
      "---------------------------------------------\n",
      "1.4 K     Trainable params\n",
      "0         Non-trainable params\n",
      "1.4 K     Total params\n",
      "0.006     Total estimated model params size (MB)\n",
      "GPU available: True (mps), used: False\n",
      "TPU available: False, using: 0 TPU cores\n",
      "IPU available: False, using: 0 IPUs\n",
      "HPU available: False, using: 0 HPUs\n",
      "\n",
      "  | Name           | Type      | Params\n",
      "---------------------------------------------\n",
      "0 | encoder        | MLP       | 1.4 K \n",
      "1 | explainer      | Explainer | 8     \n",
      "2 | factor_softmax | Softmax   | 0     \n",
      "---------------------------------------------\n",
      "1.4 K     Trainable params\n",
      "0         Non-trainable params\n",
      "1.4 K     Total params\n",
      "0.006     Total estimated model params size (MB)\n",
      "`Trainer.fit` stopped: `max_epochs=10` reached.\n",
      "GPU available: True (mps), used: False\n",
      "TPU available: False, using: 0 TPU cores\n",
      "IPU available: False, using: 0 IPUs\n",
      "HPU available: False, using: 0 HPUs\n",
      "\n",
      "  | Name           | Type      | Params\n",
      "---------------------------------------------\n",
      "0 | encoder        | MLP       | 1.4 K \n",
      "1 | explainer      | Explainer | 18    \n",
      "2 | factor_softmax | Softmax   | 0     \n",
      "---------------------------------------------\n",
      "1.4 K     Trainable params\n",
      "0         Non-trainable params\n",
      "1.4 K     Total params\n",
      "0.006     Total estimated model params size (MB)\n",
      "GPU available: True (mps), used: False\n",
      "TPU available: False, using: 0 TPU cores\n",
      "IPU available: False, using: 0 IPUs\n",
      "HPU available: False, using: 0 HPUs\n",
      "\n",
      "  | Name           | Type      | Params\n",
      "---------------------------------------------\n",
      "0 | encoder        | MLP       | 1.4 K \n",
      "1 | explainer      | Explainer | 32    \n",
      "2 | factor_softmax | Softmax   | 0     \n",
      "---------------------------------------------\n",
      "1.4 K     Trainable params\n",
      "0         Non-trainable params\n",
      "1.4 K     Total params\n",
      "0.006     Total estimated model params size (MB)\n",
      "`Trainer.fit` stopped: `max_epochs=10` reached.\n"
     ]
    }
   ],
   "source": [
    "%%capture\n",
    "from contextualized.easy import ContextualizedBayesianNetworks\n",
    "\n",
    "mses = []\n",
    "for n_factors in range(1, 5):\n",
    "    cbn = ContextualizedBayesianNetworks(\n",
    "        encoder_type='mlp', num_archetypes=2, num_factors=n_factors,\n",
    "        n_bootstraps=1, archetype_dag_loss_type=\"DAGMA\", archetype_alpha=0.,\n",
    "        sample_specific_dag_loss_type=\"DAGMA\", sample_specific_alpha=1e-1,\n",
    "        learning_rate=1e-3, foobar=None)\n",
    "    cbn.fit(C, X, max_epochs=10)\n",
    "    mses.append(np.mean(cbn.measure_mses(C, X)))"
   ]
  },
  {
   "cell_type": "code",
   "execution_count": 26,
   "id": "249dfc5c",
   "metadata": {},
   "outputs": [
    {
     "data": {
      "image/png": "[encoded data removed]",
      "text/plain": [
       "<Figure size 640x480 with 1 Axes>"
      ]
     },
     "metadata": {},
     "output_type": "display_data"
    }
   ],
   "source": [
    "import matplotlib.pyplot as plt\n",
    "%matplotlib inline\n",
    "\n",
    "plt.plot(range(1, 5), mses)\n",
    "plt.ylabel(\"Error\")\n",
    "plt.xlabel(\"Number of Factors\")\n",
    "plt.show()"
   ]
  },
  {
   "cell_type": "code",
   "execution_count": null,
   "id": "396e02c1",
   "metadata": {},
   "outputs": [],
   "source": []
  }
 ],
 "metadata": {
  "kernelspec": {
   "display_name": "Python 3 (ipykernel)",
   "language": "python",
   "name": "python3"
  },
  "language_info": {
   "codemirror_mode": {
    "name": "ipython",
    "version": 3
   },
   "file_extension": ".py",
   "mimetype": "text/x-python",
   "name": "python",
   "nbconvert_exporter": "python",
   "pygments_lexer": "ipython3",
   "version": "3.10.9"
  }
 },
 "nbformat": 4,
 "nbformat_minor": 5
}
